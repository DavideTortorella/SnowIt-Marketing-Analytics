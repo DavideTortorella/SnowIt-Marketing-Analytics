{
 "cells": [
  {
   "cell_type": "code",
   "execution_count": 1,
   "id": "0fe2d557",
   "metadata": {},
   "outputs": [],
   "source": [
    "import pandas as pd\n",
    "from pathlib import Path\n",
    "import numpy as np\n",
    "from scipy.sparse import hstack\n",
    "import unimib_snowit_project.utils as u"
   ]
  },
  {
   "cell_type": "markdown",
   "id": "693605f9",
   "metadata": {},
   "source": [
    "## Importation"
   ]
  },
  {
   "cell_type": "code",
   "execution_count": 2,
   "id": "9a000647",
   "metadata": {},
   "outputs": [
    {
     "name": "stdout",
     "output_type": "stream",
     "text": [
      "reviews loaded: 93429 rows, 3 columns\n",
      "reviews_labelled loaded: 327522 rows, 3 columns\n"
     ]
    }
   ],
   "source": [
    "# root directory and pkl folder\n",
    "root_dir_path = u.get_root_dir()\n",
    "df_in_dir = \"data_loaded\"\n",
    "data_pkl_dir_path = root_dir_path.joinpath(df_in_dir)\n",
    "\n",
    "# pickle filenames\n",
    "pkl_files = [\n",
    "    'reviews.pkl',\n",
    "    'reviews_labelled.pkl'\n",
    "]\n",
    "\n",
    "# dynamic generation of paths\n",
    "pkl_paths = {file_name.split('.')[0]: data_pkl_dir_path.joinpath(file_name) for file_name in pkl_files}\n",
    "\n",
    "dfs = {}\n",
    "\n",
    "# loop on files\n",
    "for name, path in pkl_paths.items():\n",
    "    dfs[name] = pd.read_pickle(path)\n",
    "    print(f\"{name} loaded: {dfs[name].shape[0]} rows, {dfs[name].shape[1]} columns\")\n",
    "\n",
    "# Now you can access to data through:\n",
    "reviews_df = dfs['reviews'] \n",
    "labelled_reviews_df = dfs['reviews_labelled']"
   ]
  },
  {
   "cell_type": "markdown",
   "id": "cdcf2098",
   "metadata": {},
   "source": [
    "## Data Exploration"
   ]
  },
  {
   "cell_type": "code",
   "execution_count": 3,
   "id": "0854402e",
   "metadata": {},
   "outputs": [
    {
     "data": {
      "text/plain": [
       "(327522, 3)"
      ]
     },
     "execution_count": 3,
     "metadata": {},
     "output_type": "execute_result"
    }
   ],
   "source": [
    "labelled_reviews_df.shape"
   ]
  },
  {
   "cell_type": "code",
   "execution_count": 4,
   "id": "7f959a98",
   "metadata": {},
   "outputs": [
    {
     "data": {
      "text/plain": [
       "labelled_review.uid    0\n",
       "text                   0\n",
       "sentiment_label        0\n",
       "dtype: int64"
      ]
     },
     "execution_count": 4,
     "metadata": {},
     "output_type": "execute_result"
    }
   ],
   "source": [
    "labelled_reviews_df.isna().sum()\n",
    "# no missing values"
   ]
  },
  {
   "cell_type": "code",
   "execution_count": 5,
   "id": "af09e418",
   "metadata": {},
   "outputs": [
    {
     "data": {
      "text/plain": [
       "<StringArray>\n",
       "[     '0',      '1',      '2',      '3',      '4',      '5',      '6',\n",
       "      '7',      '8',      '9',\n",
       " ...\n",
       " '462734', '462735', '462736', '462737', '462738', '462739', '462740',\n",
       " '462741', '462742', '462743']\n",
       "Length: 327522, dtype: string"
      ]
     },
     "execution_count": 5,
     "metadata": {},
     "output_type": "execute_result"
    }
   ],
   "source": [
    "labelled_reviews_df['labelled_review.uid'].unique()\n",
    "# as expected, I have exactly one review per uid"
   ]
  },
  {
   "cell_type": "code",
   "execution_count": 6,
   "id": "fd799e51",
   "metadata": {},
   "outputs": [
    {
     "data": {
      "text/plain": [
       "array([\"I'm no bitters expert but I bought it as a gift for a friend.  I was surprised when I heard that this was anise flavored because neither of us are fans of licorice flavored things and I wish the description had mentioned that.  I might have choosen another brand that didn't have that flavor.\",\n",
       "       \"these are probably great in the right drinks, but i dont like them at all in an old fashioned. i'll stick with angostura\",\n",
       "       \"I sent these to my dad for his bday and he said they were really pretty good. He's hard to buy for so that says a lot :)\",\n",
       "       ...,\n",
       "       'These stars are small, so you can give 10-15 of those in one training session.  I tried to train our dog with \"Ceaser dog treats\",  it just made our puppy hyper.  If you compare the ingredients, you will know why.  Little stars has just basic food ingredients without any preservatives and food coloring.  Sweet potato flavor also did not make my hand smell like dog food.',\n",
       "       'These are the BEST treats for training and rewarding your dog for being good while grooming.  Lower in calories and loved by all the doggies.  Sweet potatoes seem to be their favorite Wet Noses treat!',\n",
       "       'I am very satisfied ,product is as advertised, I use it on cereal, with raw vinegar, and as a general sweetner.'],\n",
       "      shape=(327522,), dtype=object)"
      ]
     },
     "execution_count": 6,
     "metadata": {},
     "output_type": "execute_result"
    }
   ],
   "source": [
    "labelled_reviews_df['text'].unique()\n",
    "# as expected, each line is a different review"
   ]
  },
  {
   "cell_type": "code",
   "execution_count": 7,
   "id": "c6b12ec1",
   "metadata": {},
   "outputs": [
    {
     "name": "stdout",
     "output_type": "stream",
     "text": [
      "sentiment_label\n",
      "positive    209973\n",
      "neutral      87368\n",
      "negative     30181\n",
      "Name: count, dtype: Int64\n",
      "\n",
      "\n",
      "positive: 64.11%\n",
      "neutral: 26.68%\n",
      "negative: 9.21%\n"
     ]
    },
    {
     "data": {
      "image/png": "[encoded data removed]",
      "text/plain": [
       "<Figure size 640x480 with 1 Axes>"
      ]
     },
     "metadata": {},
     "output_type": "display_data"
    }
   ],
   "source": [
    "labelled_reviews_df['sentiment_label'].hist()\n",
    "print(labelled_reviews_df['sentiment_label'].value_counts())\n",
    "print(\"\\n\")\n",
    "percentages = labelled_reviews_df['sentiment_label'].value_counts(normalize=True) * 100\n",
    "for label, perc in percentages.items():\n",
    "    print(f\"{label}: {perc:.2f}%\")\n",
    "# we are dealing with an imbalanced dataset "
   ]
  },
  {
   "cell_type": "markdown",
   "id": "b5ac8700",
   "metadata": {},
   "source": [
    "## Preprocessing"
   ]
  },
  {
   "cell_type": "code",
   "execution_count": 8,
   "id": "6695d3fb",
   "metadata": {},
   "outputs": [
    {
     "name": "stderr",
     "output_type": "stream",
     "text": [
      "[nltk_data] Downloading package stopwords to\n",
      "[nltk_data]     C:\\Users\\davyt\\AppData\\Roaming\\nltk_data...\n",
      "[nltk_data]   Package stopwords is already up-to-date!\n"
     ]
    }
   ],
   "source": [
    "import re\n",
    "import pandas as pd\n",
    "import nltk\n",
    "from nltk.corpus import stopwords\n",
    "nltk.download('stopwords')\n",
    "from nltk.stem import PorterStemmer\n",
    "\n",
    "stemmer = PorterStemmer() # stemmer object\n",
    "stop_words = set(stopwords.words('english')) "
   ]
  },
  {
   "cell_type": "code",
   "execution_count": 9,
   "id": "4cd9f01a",
   "metadata": {},
   "outputs": [],
   "source": [
    "def preprocess_text(text):\n",
    "    # cleaning\n",
    "    text = re.sub(r'[^a-zA-Z\\s]', ' ', text)\n",
    "    text = text.lower()\n",
    "    \n",
    "    # tokenization\n",
    "    tokens = text.split()\n",
    "    \n",
    "    # stopword removal\n",
    "    tokens = [word for word in tokens if word not in stop_words]\n",
    "    \n",
    "    # stemming\n",
    "    tokens = [stemmer.stem(word) for word in tokens]\n",
    "    \n",
    "    # return as str\n",
    "    return ' '.join(tokens)"
   ]
  },
  {
   "cell_type": "code",
   "execution_count": 10,
   "id": "9c117951",
   "metadata": {},
   "outputs": [],
   "source": [
    "# apply it on data\n",
    "labelled_reviews_df['processed_text'] = labelled_reviews_df['text'].apply(preprocess_text)"
   ]
  },
  {
   "cell_type": "code",
   "execution_count": 11,
   "id": "a844f625",
   "metadata": {},
   "outputs": [
    {
     "name": "stdout",
     "output_type": "stream",
     "text": [
      "                                                                                                                                                                                                                                                                                                   text  \\\n",
      "0  I'm no bitters expert but I bought it as a gift for a friend.  I was surprised when I heard that this was anise flavored because neither of us are fans of licorice flavored things and I wish the description had mentioned that.  I might have choosen another brand that didn't have that flavor.   \n",
      "\n",
      "                                                                                                                                          processed_text  \n",
      "0  bitter expert bought gift friend surpris heard anis flavor neither us fan licoric flavor thing wish descript mention might choosen anoth brand flavor  \n"
     ]
    }
   ],
   "source": [
    "# example\n",
    "pd.set_option('display.max_colwidth', None)\n",
    "print(labelled_reviews_df[['text', 'processed_text']].head(1))\n",
    "pd.reset_option('display.max_colwidth')"
   ]
  },
  {
   "cell_type": "code",
   "execution_count": 12,
   "id": "8c80dd36",
   "metadata": {},
   "outputs": [],
   "source": [
    "# labelling the sentiment\n",
    "mapping = {'positive': 0, 'neutral': 1, 'negative': 2}\n",
    "labelled_reviews_df['sentiment_label_target'] = labelled_reviews_df['sentiment_label'].map(mapping)\n"
   ]
  },
  {
   "cell_type": "code",
   "execution_count": 13,
   "id": "8cd6568e",
   "metadata": {},
   "outputs": [
    {
     "data": {
      "text/html": [
       "<div>\n",
       "<style scoped>\n",
       "    .dataframe tbody tr th:only-of-type {\n",
       "        vertical-align: middle;\n",
       "    }\n",
       "\n",
       "    .dataframe tbody tr th {\n",
       "        vertical-align: top;\n",
       "    }\n",
       "\n",
       "    .dataframe thead th {\n",
       "        text-align: right;\n",
       "    }\n",
       "</style>\n",
       "<table border=\"1\" class=\"dataframe\">\n",
       "  <thead>\n",
       "    <tr style=\"text-align: right;\">\n",
       "      <th></th>\n",
       "      <th>labelled_review.uid</th>\n",
       "      <th>text</th>\n",
       "      <th>sentiment_label</th>\n",
       "      <th>processed_text</th>\n",
       "      <th>sentiment_label_target</th>\n",
       "    </tr>\n",
       "  </thead>\n",
       "  <tbody>\n",
       "    <tr>\n",
       "      <th>0</th>\n",
       "      <td>0</td>\n",
       "      <td>I'm no bitters expert but I bought it as a gif...</td>\n",
       "      <td>neutral</td>\n",
       "      <td>bitter expert bought gift friend surpris heard...</td>\n",
       "      <td>1</td>\n",
       "    </tr>\n",
       "    <tr>\n",
       "      <th>1</th>\n",
       "      <td>1</td>\n",
       "      <td>these are probably great in the right drinks, ...</td>\n",
       "      <td>neutral</td>\n",
       "      <td>probabl great right drink dont like old fashio...</td>\n",
       "      <td>1</td>\n",
       "    </tr>\n",
       "    <tr>\n",
       "      <th>2</th>\n",
       "      <td>2</td>\n",
       "      <td>I sent these to my dad for his bday and he sai...</td>\n",
       "      <td>positive</td>\n",
       "      <td>sent dad bday said realli pretti good hard buy...</td>\n",
       "      <td>0</td>\n",
       "    </tr>\n",
       "    <tr>\n",
       "      <th>3</th>\n",
       "      <td>3</td>\n",
       "      <td>I purchased these as a gift for family member ...</td>\n",
       "      <td>positive</td>\n",
       "      <td>purchas gift famili member love bbq pork warn ...</td>\n",
       "      <td>0</td>\n",
       "    </tr>\n",
       "    <tr>\n",
       "      <th>4</th>\n",
       "      <td>4</td>\n",
       "      <td>My wife bought me this sauce sampler for Chris...</td>\n",
       "      <td>neutral</td>\n",
       "      <td>wife bought sauc sampler christma know love bb...</td>\n",
       "      <td>1</td>\n",
       "    </tr>\n",
       "  </tbody>\n",
       "</table>\n",
       "</div>"
      ],
      "text/plain": [
       "  labelled_review.uid                                               text  \\\n",
       "0                   0  I'm no bitters expert but I bought it as a gif...   \n",
       "1                   1  these are probably great in the right drinks, ...   \n",
       "2                   2  I sent these to my dad for his bday and he sai...   \n",
       "3                   3  I purchased these as a gift for family member ...   \n",
       "4                   4  My wife bought me this sauce sampler for Chris...   \n",
       "\n",
       "  sentiment_label                                     processed_text  \\\n",
       "0         neutral  bitter expert bought gift friend surpris heard...   \n",
       "1         neutral  probabl great right drink dont like old fashio...   \n",
       "2        positive  sent dad bday said realli pretti good hard buy...   \n",
       "3        positive  purchas gift famili member love bbq pork warn ...   \n",
       "4         neutral  wife bought sauc sampler christma know love bb...   \n",
       "\n",
       "   sentiment_label_target  \n",
       "0                       1  \n",
       "1                       1  \n",
       "2                       0  \n",
       "3                       0  \n",
       "4                       1  "
      ]
     },
     "execution_count": 13,
     "metadata": {},
     "output_type": "execute_result"
    }
   ],
   "source": [
    "# example\n",
    "labelled_reviews_df.head()"
   ]
  },
  {
   "cell_type": "markdown",
   "id": "539012cc",
   "metadata": {},
   "source": [
    "## Train, Validation, Test split"
   ]
  },
  {
   "cell_type": "code",
   "execution_count": 14,
   "id": "e957803e",
   "metadata": {},
   "outputs": [
    {
     "data": {
      "text/html": [
       "<div>\n",
       "<style scoped>\n",
       "    .dataframe tbody tr th:only-of-type {\n",
       "        vertical-align: middle;\n",
       "    }\n",
       "\n",
       "    .dataframe tbody tr th {\n",
       "        vertical-align: top;\n",
       "    }\n",
       "\n",
       "    .dataframe thead th {\n",
       "        text-align: right;\n",
       "    }\n",
       "</style>\n",
       "<table border=\"1\" class=\"dataframe\">\n",
       "  <thead>\n",
       "    <tr style=\"text-align: right;\">\n",
       "      <th></th>\n",
       "      <th>text</th>\n",
       "      <th>sentiment_label</th>\n",
       "      <th>processed_text</th>\n",
       "      <th>sentiment_label_target</th>\n",
       "    </tr>\n",
       "  </thead>\n",
       "  <tbody>\n",
       "    <tr>\n",
       "      <th>0</th>\n",
       "      <td>I'm no bitters expert but I bought it as a gif...</td>\n",
       "      <td>neutral</td>\n",
       "      <td>bitter expert bought gift friend surpris heard...</td>\n",
       "      <td>1</td>\n",
       "    </tr>\n",
       "    <tr>\n",
       "      <th>1</th>\n",
       "      <td>these are probably great in the right drinks, ...</td>\n",
       "      <td>neutral</td>\n",
       "      <td>probabl great right drink dont like old fashio...</td>\n",
       "      <td>1</td>\n",
       "    </tr>\n",
       "    <tr>\n",
       "      <th>2</th>\n",
       "      <td>I sent these to my dad for his bday and he sai...</td>\n",
       "      <td>positive</td>\n",
       "      <td>sent dad bday said realli pretti good hard buy...</td>\n",
       "      <td>0</td>\n",
       "    </tr>\n",
       "    <tr>\n",
       "      <th>3</th>\n",
       "      <td>I purchased these as a gift for family member ...</td>\n",
       "      <td>positive</td>\n",
       "      <td>purchas gift famili member love bbq pork warn ...</td>\n",
       "      <td>0</td>\n",
       "    </tr>\n",
       "    <tr>\n",
       "      <th>4</th>\n",
       "      <td>My wife bought me this sauce sampler for Chris...</td>\n",
       "      <td>neutral</td>\n",
       "      <td>wife bought sauc sampler christma know love bb...</td>\n",
       "      <td>1</td>\n",
       "    </tr>\n",
       "  </tbody>\n",
       "</table>\n",
       "</div>"
      ],
      "text/plain": [
       "                                                text sentiment_label  \\\n",
       "0  I'm no bitters expert but I bought it as a gif...         neutral   \n",
       "1  these are probably great in the right drinks, ...         neutral   \n",
       "2  I sent these to my dad for his bday and he sai...        positive   \n",
       "3  I purchased these as a gift for family member ...        positive   \n",
       "4  My wife bought me this sauce sampler for Chris...         neutral   \n",
       "\n",
       "                                      processed_text  sentiment_label_target  \n",
       "0  bitter expert bought gift friend surpris heard...                       1  \n",
       "1  probabl great right drink dont like old fashio...                       1  \n",
       "2  sent dad bday said realli pretti good hard buy...                       0  \n",
       "3  purchas gift famili member love bbq pork warn ...                       0  \n",
       "4  wife bought sauc sampler christma know love bb...                       1  "
      ]
     },
     "execution_count": 14,
     "metadata": {},
     "output_type": "execute_result"
    }
   ],
   "source": [
    "# I can remove the id column since it's here useless\n",
    "labelled_reviews_df = labelled_reviews_df.drop(['labelled_review.uid'], axis=1)\n",
    "labelled_reviews_df.head()"
   ]
  },
  {
   "cell_type": "code",
   "execution_count": 15,
   "id": "be8cc6ca",
   "metadata": {},
   "outputs": [
    {
     "name": "stdout",
     "output_type": "stream",
     "text": [
      "Train label distribution:\n",
      "                   count  percentage\n",
      "sentiment_label                    \n",
      "positive         146981   64.109655\n",
      "neutral           61157   26.675245\n",
      "negative          21127      9.2151 \n",
      "\n",
      "Validation label distribution:\n",
      "                  count  percentage\n",
      "sentiment_label                   \n",
      "positive         31496    64.11008\n",
      "neutral          13105   26.675216\n",
      "negative          4527    9.214704 \n",
      "\n",
      "Test label distribution:\n",
      "                  count  percentage\n",
      "sentiment_label                   \n",
      "positive         31496   64.108775\n",
      "neutral          13106   26.676708\n",
      "negative          4527    9.214517 \n",
      "\n"
     ]
    }
   ],
   "source": [
    "from sklearn.model_selection import train_test_split\n",
    "\n",
    "# first split: train (70%), rest (30%)\n",
    "train_df, rest_df = train_test_split(\n",
    "    labelled_reviews_df, \n",
    "    test_size=0.3, \n",
    "    stratify=labelled_reviews_df['sentiment_label'], \n",
    "    random_state=42\n",
    ")\n",
    "\n",
    "# second split: validation (15%), test (15%) \n",
    "val_df, test_df = train_test_split(\n",
    "    rest_df, \n",
    "    test_size=0.5, \n",
    "    stratify=rest_df['sentiment_label'], \n",
    "    random_state=42\n",
    ")\n",
    "\n",
    "# check proportions\n",
    "def label_distribution(df, set_name):\n",
    "    counts = df['sentiment_label'].value_counts()\n",
    "    percentages = df['sentiment_label'].value_counts(normalize=True) * 100\n",
    "    summary = pd.DataFrame({\n",
    "        'count': counts,\n",
    "        'percentage': percentages\n",
    "    })\n",
    "    print(f\"{set_name} label distribution:\\n\", summary, \"\\n\")\n",
    "\n",
    "label_distribution(train_df, \"Train\")\n",
    "label_distribution(val_df, \"Validation\")\n",
    "label_distribution(test_df, \"Test\")\n",
    "\n"
   ]
  },
  {
   "cell_type": "markdown",
   "id": "8683d450",
   "metadata": {},
   "source": [
    "## Feature Engineering: TF-IDF"
   ]
  },
  {
   "cell_type": "code",
   "execution_count": 16,
   "id": "c5d5c111",
   "metadata": {},
   "outputs": [],
   "source": [
    "from sklearn.feature_extraction.text import TfidfVectorizer"
   ]
  },
  {
   "cell_type": "code",
   "execution_count": 17,
   "id": "5c4f4af1",
   "metadata": {},
   "outputs": [],
   "source": [
    "# target variable\n",
    "x_train = train_df['processed_text']\n",
    "y_train = train_df['sentiment_label_target']\n",
    "\n",
    "x_val = val_df['processed_text']\n",
    "y_val = val_df['sentiment_label_target']\n",
    "\n",
    "x_test = test_df['processed_text']\n",
    "y_test = test_df['sentiment_label_target']"
   ]
  },
  {
   "cell_type": "code",
   "execution_count": 18,
   "id": "6939a667",
   "metadata": {},
   "outputs": [],
   "source": [
    "#Tf-Idf \n",
    "vectorizer= TfidfVectorizer()\n",
    "\n",
    "tf_x_train = vectorizer.fit_transform(x_train)\n",
    "#fit(): the vectorizer analyzes x_train and it builds the vocabulary: the list of all the relevant words found.\n",
    "#transform(): it transforms each x_train reviews in a row vector where each column represents a word of the vocabulary\n",
    "#and each value is the TF-IDF weight of that word in that review.\n",
    "#The result of tf_x_train is a sparse matrix (the majority of words don't belong to each review) of dimensions:\n",
    "#( number_of_reviews, number_words_in_vocabulary): each line, basically, is a review\n",
    "\n",
    "tf_x_validation = vectorizer.transform(x_val)"
   ]
  },
  {
   "cell_type": "markdown",
   "id": "291e4ac2",
   "metadata": {},
   "source": [
    "## Evaluating the best model on Validation Data"
   ]
  },
  {
   "cell_type": "code",
   "execution_count": 19,
   "id": "cee68715",
   "metadata": {},
   "outputs": [],
   "source": [
    "# Evaluation function\n",
    "\n",
    "from sklearn.metrics import accuracy_score, precision_score, recall_score, f1_score\n",
    "\n",
    "def evaluate_model(y_true, y_pred, dataset_name):\n",
    "    results = {}\n",
    "    results[\"dataset\"] = dataset_name\n",
    "    results[\"accuracy\"] = accuracy_score(y_true, y_pred)\n",
    "    \n",
    "    # metrics for each class\n",
    "    for cls in sorted(set(y_true)):\n",
    "        results[f\"precision: {cls}\"] = precision_score(y_true, y_pred, labels=[cls], average=\"macro\", zero_division=0)\n",
    "        results[f\"recall: {cls}\"] = recall_score(y_true, y_pred, labels=[cls], average=\"macro\", zero_division=0)\n",
    "        results[f\"f1: {cls}\"] = f1_score(y_true, y_pred, labels=[cls], average=\"macro\", zero_division=0)\n",
    "    \n",
    "    return results"
   ]
  },
  {
   "cell_type": "markdown",
   "id": "ac096a0a",
   "metadata": {},
   "source": [
    "#### Comparing: Logistic Regression, SVM, Naive Bayes"
   ]
  },
  {
   "cell_type": "code",
   "execution_count": 20,
   "id": "39513c20",
   "metadata": {},
   "outputs": [
    {
     "name": "stdout",
     "output_type": "stream",
     "text": [
      "\n",
      "--- Training Logistic Regression ---\n",
      "\n",
      "--- Training Linear SVM ---\n",
      "\n",
      "--- Training Naive Bayes ---\n",
      "                                accuracy  precision: 0  recall: 0     f1: 0  \\\n",
      "model               dataset                                                   \n",
      "Logistic Regression Train       0.795394      0.828220   0.927372  0.874996   \n",
      "                    Validation  0.768299      0.813994   0.912306  0.860351   \n",
      "Linear SVM          Train       0.818367      0.839464   0.940407  0.887073   \n",
      "                    Validation  0.760971      0.805419   0.910751  0.854852   \n",
      "Naive Bayes         Train       0.683057      0.681761   0.992550  0.808311   \n",
      "                    Validation  0.671104      0.673437   0.990570  0.801784   \n",
      "\n",
      "                                precision: 1  recall: 1     f1: 1  \\\n",
      "model               dataset                                         \n",
      "Logistic Regression Train           0.695197   0.546920  0.612208   \n",
      "                    Validation      0.638125   0.497596  0.559167   \n",
      "Linear SVM          Train           0.746760   0.580342  0.653117   \n",
      "                    Validation      0.630441   0.480733  0.545502   \n",
      "Naive Bayes         Train           0.681610   0.153392  0.250427   \n",
      "                    Validation      0.614909   0.121480  0.202880   \n",
      "\n",
      "                                precision: 2  recall: 2     f1: 2  \n",
      "model               dataset                                        \n",
      "Logistic Regression Train           0.760302   0.596488  0.668506  \n",
      "                    Validation      0.689942   0.550033  0.612094  \n",
      "Linear SVM          Train           0.814249   0.658352  0.728048  \n",
      "                    Validation      0.681818   0.530152  0.596496  \n",
      "Naive Bayes         Train           0.878788   0.063142  0.117819  \n",
      "                    Validation      0.848341   0.039541  0.075559  \n"
     ]
    }
   ],
   "source": [
    "from sklearn.linear_model import LogisticRegression\n",
    "from sklearn.svm import LinearSVC\n",
    "from sklearn.naive_bayes import MultinomialNB\n",
    "\n",
    "models = {\n",
    "    \"Logistic Regression\": LogisticRegression(max_iter=1000, solver=\"saga\", random_state=1312),\n",
    "    \"Linear SVM\": LinearSVC(random_state=1312),\n",
    "    \"Naive Bayes\": MultinomialNB()\n",
    "}\n",
    "\n",
    "# training different models\n",
    "all_results = []\n",
    "\n",
    "for model_name, model in models.items():\n",
    "    print(f\"\\n--- Training {model_name} ---\")\n",
    "\n",
    "    # train\n",
    "    model.fit(tf_x_train, y_train)\n",
    "    \n",
    "    # predictions\n",
    "    y_train_pred = model.predict(tf_x_train)\n",
    "    y_val_pred = model.predict(tf_x_validation)\n",
    "    \n",
    "    # evaluation\n",
    "    train_results = evaluate_model(y_train, y_train_pred, \"Train\")\n",
    "    val_results = evaluate_model(y_val, y_val_pred, \"Validation\")\n",
    "    \n",
    "    # model's name\n",
    "    train_results[\"model\"] = model_name\n",
    "    val_results[\"model\"] = model_name\n",
    "    \n",
    "    all_results.extend([train_results, val_results])\n",
    "    \n",
    "# final results\n",
    "results_df = pd.DataFrame(all_results)\n",
    "results_df = results_df.set_index([\"model\", \"dataset\"])\n",
    "\n",
    "print(results_df)"
   ]
  },
  {
   "cell_type": "markdown",
   "id": "c600d936",
   "metadata": {},
   "source": [
    "## Logistic Regression Fine Tuning"
   ]
  },
  {
   "cell_type": "markdown",
   "id": "5d8edd52",
   "metadata": {},
   "source": [
    "#### 1) Adding a feature through the Vader Lexicon"
   ]
  },
  {
   "cell_type": "code",
   "execution_count": 21,
   "id": "def17d42",
   "metadata": {},
   "outputs": [
    {
     "name": "stderr",
     "output_type": "stream",
     "text": [
      "[nltk_data] Downloading package vader_lexicon to\n",
      "[nltk_data]     C:\\Users\\davyt\\AppData\\Roaming\\nltk_data...\n",
      "[nltk_data]   Package vader_lexicon is already up-to-date!\n"
     ]
    },
    {
     "data": {
      "text/plain": [
       "True"
      ]
     },
     "execution_count": 21,
     "metadata": {},
     "output_type": "execute_result"
    }
   ],
   "source": [
    "from nltk.sentiment import SentimentIntensityAnalyzer\n",
    "# download, if needed\n",
    "nltk.download('vader_lexicon')"
   ]
  },
  {
   "cell_type": "code",
   "execution_count": 22,
   "id": "e096cc2e",
   "metadata": {},
   "outputs": [],
   "source": [
    "# from 'compound score' to label: 0,1,2\n",
    "\n",
    "sia = SentimentIntensityAnalyzer()\n",
    "def vader_predict(text):\n",
    "    score = sia.polarity_scores(text)['compound']\n",
    "    if score >= 0.05:\n",
    "        return 2  #positive\n",
    "    elif score <= -0.05:\n",
    "        return 0  #negative\n",
    "    else:\n",
    "        return 1  #neutral"
   ]
  },
  {
   "cell_type": "code",
   "execution_count": 23,
   "id": "35490aab",
   "metadata": {},
   "outputs": [],
   "source": [
    "# new feature\n",
    "from scipy.sparse import hstack\n",
    "\n",
    "vader_preds_train = train_df['processed_text'].apply(vader_predict)\n",
    "vader_preds_train = np.array(vader_preds_train).reshape(-1, 1)\n",
    "x_train_vader = hstack([tf_x_train, vader_preds_train])\n",
    "\n",
    "vader_preds_val = val_df['processed_text'].apply(vader_predict)\n",
    "vader_preds_val = np.array(vader_preds_val).reshape(-1, 1)\n",
    "x_val_vader = hstack([tf_x_validation, vader_preds_val])"
   ]
  },
  {
   "cell_type": "code",
   "execution_count": 24,
   "id": "5db2a287",
   "metadata": {},
   "outputs": [
    {
     "name": "stdout",
     "output_type": "stream",
     "text": [
      "                                accuracy  precision: 0  recall: 0     f1: 0  \\\n",
      "model               dataset                                                   \n",
      "Logistic Regression Train       0.795185      0.828216   0.927310  0.874966   \n",
      "                    Validation  0.768258      0.813657   0.912497  0.860247   \n",
      "\n",
      "                                precision: 1  recall: 1     f1: 1  \\\n",
      "model               dataset                                         \n",
      "Logistic Regression Train           0.694807   0.546250  0.611637   \n",
      "                    Validation      0.638987   0.496757  0.558966   \n",
      "\n",
      "                                precision: 2  recall: 2     f1: 2  \n",
      "model               dataset                                        \n",
      "Logistic Regression Train           0.758500   0.596583  0.667868  \n",
      "                    Validation      0.689055   0.550696  0.612155  \n"
     ]
    }
   ],
   "source": [
    "all_results = []\n",
    "model = LogisticRegression(max_iter=1000, solver=\"saga\", random_state=1312)\n",
    "\n",
    "# fit\n",
    "model.fit(x_train_vader, y_train)\n",
    "# predict\n",
    "y_train_pred = model.predict(x_train_vader)\n",
    "y_val_pred = model.predict(x_val_vader)\n",
    "# evaluation\n",
    "train_results = evaluate_model(y_train, y_train_pred, \"Train\")\n",
    "val_results = evaluate_model(y_val, y_val_pred, \"Validation\")\n",
    "# name\n",
    "train_results[\"model\"] = \"Logistic Regression\"\n",
    "val_results[\"model\"] = \"Logistic Regression\"\n",
    "\n",
    "# final results\n",
    "all_results.extend([train_results, val_results])\n",
    "results_df = pd.DataFrame(all_results)\n",
    "results_df = results_df.set_index([\"model\", \"dataset\"])\n",
    "print(results_df)"
   ]
  },
  {
   "cell_type": "code",
   "execution_count": 25,
   "id": "e39070bc",
   "metadata": {},
   "outputs": [],
   "source": [
    "# 1) results are basically the same with an improvement in class '2'"
   ]
  },
  {
   "cell_type": "markdown",
   "id": "d9891dca",
   "metadata": {},
   "source": [
    "#### 2) Logistic Regression with Vader Lexicon & Balanced Weights & 5000 max iterations"
   ]
  },
  {
   "cell_type": "code",
   "execution_count": 26,
   "id": "564c0039",
   "metadata": {},
   "outputs": [
    {
     "name": "stdout",
     "output_type": "stream",
     "text": [
      "                                accuracy  precision: 0  recall: 0     f1: 0  \\\n",
      "model               dataset                                                   \n",
      "Logistic Regression Train       0.757612      0.899106   0.786789  0.839206   \n",
      "                    Validation  0.722154      0.880360   0.767939  0.820315   \n",
      "\n",
      "                                precision: 1  recall: 1     f1: 1  \\\n",
      "model               dataset                                         \n",
      "Logistic Regression Train           0.590596   0.650016  0.618883   \n",
      "                    Validation      0.537870   0.592827  0.564013   \n",
      "\n",
      "                                precision: 2  recall: 2     f1: 2  \n",
      "model               dataset                                        \n",
      "Logistic Regression Train           0.548913   0.866096  0.671955  \n",
      "                    Validation      0.488488   0.777999  0.600153  \n"
     ]
    }
   ],
   "source": [
    "all_results = []\n",
    "model = LogisticRegression(max_iter=5000, solver=\"saga\", class_weight=\"balanced\", random_state=1312)\n",
    "\n",
    "# fit\n",
    "model.fit(x_train_vader, y_train)\n",
    "# predict\n",
    "y_train_pred = model.predict(x_train_vader)\n",
    "y_val_pred = model.predict(x_val_vader)\n",
    "# evaluation\n",
    "train_results = evaluate_model(y_train, y_train_pred, \"Train\")\n",
    "val_results = evaluate_model(y_val, y_val_pred, \"Validation\")\n",
    "# name\n",
    "train_results[\"model\"] = \"Logistic Regression\"\n",
    "val_results[\"model\"] = \"Logistic Regression\"\n",
    "\n",
    "# final results\n",
    "all_results.extend([train_results, val_results])\n",
    "results_df = pd.DataFrame(all_results)\n",
    "results_df = results_df.set_index([\"model\", \"dataset\"])\n",
    "print(results_df)"
   ]
  },
  {
   "cell_type": "code",
   "execution_count": 27,
   "id": "1cde0583",
   "metadata": {},
   "outputs": [],
   "source": [
    "# 2) No improvement with respect to case 1"
   ]
  },
  {
   "cell_type": "markdown",
   "id": "c5b3275f",
   "metadata": {},
   "source": [
    "#### 3) Logistic Regression with Vader Lexicon & Oversampling "
   ]
  },
  {
   "cell_type": "code",
   "execution_count": 28,
   "id": "8be6dff3",
   "metadata": {},
   "outputs": [
    {
     "name": "stdout",
     "output_type": "stream",
     "text": [
      "Original distribution:\n",
      " sentiment_label_target\n",
      "0    146981\n",
      "1     61157\n",
      "2     21127\n",
      "Name: count, dtype: int64\n",
      "\n",
      "Balanced distribution:\n",
      " sentiment_label_target\n",
      "0    146981\n",
      "1     80000\n",
      "2     40000\n",
      "Name: count, dtype: int64\n"
     ]
    }
   ],
   "source": [
    "from imblearn.over_sampling import RandomOverSampler\n",
    "\n",
    "# create oversampler\n",
    "oversampler = RandomOverSampler(sampling_strategy={1: 80000,\n",
    "                                                   2: 40000},\n",
    "                                 random_state=1312)\n",
    "\n",
    "# oversampler applied\n",
    "x_train_over, y_train_over = oversampler.fit_resample(x_train_vader, y_train)\n",
    "print(\"Original distribution:\\n\", y_train.value_counts())\n",
    "print(\"\\nBalanced distribution:\\n\", y_train_over.value_counts())\n",
    "\n",
    "# {'not minority', 'not majority', 'auto', 'minority', 'all'}"
   ]
  },
  {
   "cell_type": "code",
   "execution_count": 29,
   "id": "b35c5821",
   "metadata": {},
   "outputs": [
    {
     "name": "stdout",
     "output_type": "stream",
     "text": [
      "                                accuracy  precision: 0  recall: 0     f1: 0  \\\n",
      "model               dataset                                                   \n",
      "Logistic Regression Train       0.781632      0.813825   0.896796  0.853298   \n",
      "                    Validation  0.763556      0.835406   0.876810  0.855607   \n",
      "\n",
      "                                precision: 1  recall: 1     f1: 1  \\\n",
      "model               dataset                                         \n",
      "Logistic Regression Train           0.702148   0.598625  0.646267   \n",
      "                    Validation      0.612477   0.534147  0.570637   \n",
      "\n",
      "                                precision: 2  recall: 2     f1: 2  \n",
      "model               dataset                                        \n",
      "Logistic Regression Train           0.787259   0.724475  0.754563  \n",
      "                    Validation      0.623869   0.639717  0.631694  \n"
     ]
    }
   ],
   "source": [
    "all_results = []\n",
    "model = LogisticRegression(max_iter=1000, solver=\"saga\", random_state=1312)\n",
    "\n",
    "# fit\n",
    "model.fit(x_train_over, y_train_over)\n",
    "# predict\n",
    "y_train_pred = model.predict(x_train_over)\n",
    "y_val_pred = model.predict(x_val_vader)\n",
    "# evaluation\n",
    "train_results = evaluate_model(y_train_over, y_train_pred, \"Train\")\n",
    "val_results = evaluate_model(y_val, y_val_pred, \"Validation\")\n",
    "# name\n",
    "train_results[\"model\"] = \"Logistic Regression\"\n",
    "val_results[\"model\"] = \"Logistic Regression\"\n",
    "\n",
    "# final results\n",
    "all_results.extend([train_results, val_results])\n",
    "results_df = pd.DataFrame(all_results)\n",
    "results_df = results_df.set_index([\"model\", \"dataset\"])\n",
    "print(results_df)"
   ]
  },
  {
   "cell_type": "code",
   "execution_count": 30,
   "id": "7af4c7ab",
   "metadata": {},
   "outputs": [],
   "source": [
    "# 3) better results but, as expected, symptoms of overfitting"
   ]
  },
  {
   "cell_type": "markdown",
   "id": "460e8b04",
   "metadata": {},
   "source": [
    "## Test Set"
   ]
  },
  {
   "cell_type": "markdown",
   "id": "925e6dc9",
   "metadata": {},
   "source": [
    "#### According to the previous section, considering the f1 metrics as the most representative, the best performance has been achieved by case n.1: the feature enrichment through Vader Lexicon.\n",
    "#### This model is now used on test set.\n",
    "#### Model with Oversampling wasn't chosen due to overfitting."
   ]
  },
  {
   "cell_type": "code",
   "execution_count": 31,
   "id": "f170883f",
   "metadata": {},
   "outputs": [
    {
     "name": "stdout",
     "output_type": "stream",
     "text": [
      "                             accuracy  precision: 0  recall: 0     f1: 0  \\\n",
      "model               dataset                                                \n",
      "Logistic Regression Train    0.795185      0.828216   0.927310  0.874966   \n",
      "                    Test     0.774756      0.816745   0.915831  0.863455   \n",
      "\n",
      "                             precision: 1  recall: 1     f1: 1  precision: 2  \\\n",
      "model               dataset                                                    \n",
      "Logistic Regression Train        0.694807   0.546250  0.611637      0.758500   \n",
      "                    Test         0.651896   0.512971  0.574149      0.713061   \n",
      "\n",
      "                             recall: 2     f1: 2  \n",
      "model               dataset                       \n",
      "Logistic Regression Train     0.596583  0.667868  \n",
      "                    Test      0.551138  0.621729  \n"
     ]
    }
   ],
   "source": [
    "# preprocessing\n",
    "tf_x_test = vectorizer.transform(x_test)\n",
    "vader_preds_test = test_df['processed_text'].apply(vader_predict)\n",
    "vader_preds_test = np.array(vader_preds_test).reshape(-1, 1)\n",
    "x_test_vader = hstack([tf_x_test, vader_preds_test])\n",
    "\n",
    "# modelling\n",
    "all_results = []\n",
    "model = LogisticRegression(max_iter=1000, solver=\"saga\", random_state=1312)\n",
    "# fit\n",
    "model.fit(x_train_vader, y_train)\n",
    "# predict\n",
    "y_train_pred = model.predict(x_train_vader)\n",
    "y_test_pred = model.predict(x_test_vader)\n",
    "# evaluation\n",
    "train_results = evaluate_model(y_train, y_train_pred, \"Train\")\n",
    "test_results = evaluate_model(y_test, y_test_pred, \"Test\")\n",
    "# name\n",
    "train_results[\"model\"] = \"Logistic Regression\"\n",
    "test_results[\"model\"] = \"Logistic Regression\"\n",
    "\n",
    "# final results\n",
    "all_results.extend([train_results, test_results])\n",
    "results_df = pd.DataFrame(all_results)\n",
    "results_df = results_df.set_index([\"model\", \"dataset\"])\n",
    "print(results_df)"
   ]
  },
  {
   "cell_type": "code",
   "execution_count": 32,
   "id": "aaf3738f",
   "metadata": {},
   "outputs": [
    {
     "data": {
      "image/png": "[encoded data removed]",
      "text/plain": [
       "<Figure size 640x480 with 2 Axes>"
      ]
     },
     "metadata": {},
     "output_type": "display_data"
    }
   ],
   "source": [
    "from sklearn.metrics import confusion_matrix, ConfusionMatrixDisplay\n",
    "import matplotlib.pyplot as plt\n",
    "\n",
    "# confusion matrix\n",
    "cm = confusion_matrix(y_test, y_test_pred, labels=[0,1,2])\n",
    "labels = ['Positive', 'Neutral', 'Negative']\n",
    "\n",
    "# visualization\n",
    "disp = ConfusionMatrixDisplay(confusion_matrix=cm, display_labels=labels)\n",
    "disp.plot(cmap=plt.cm.Blues, values_format='d')\n",
    "plt.title(\"Confusion Matrix - Test Set\")\n",
    "plt.show()"
   ]
  },
  {
   "cell_type": "markdown",
   "id": "6e53356b",
   "metadata": {},
   "source": [
    "# Best model trained on all the available Labelled data, applied on Unlabelled Data"
   ]
  },
  {
   "cell_type": "markdown",
   "id": "7cacc2c6",
   "metadata": {},
   "source": [
    "## Import the two dataset"
   ]
  },
  {
   "cell_type": "code",
   "execution_count": 33,
   "id": "9921cc30",
   "metadata": {},
   "outputs": [
    {
     "name": "stdout",
     "output_type": "stream",
     "text": [
      "reviews loaded: 93429 rows, 3 columns\n",
      "reviews_labelled loaded: 327522 rows, 3 columns\n"
     ]
    }
   ],
   "source": [
    "# root directory and pkl folder\n",
    "root_dir_path = u.get_root_dir()\n",
    "df_in_dir = \"data_loaded\"\n",
    "data_pkl_dir_path = root_dir_path.joinpath(df_in_dir)\n",
    "\n",
    "# pickle filenames\n",
    "pkl_files = [\n",
    "    'reviews.pkl',\n",
    "    'reviews_labelled.pkl'\n",
    "]\n",
    "\n",
    "# dynamic generation of paths\n",
    "pkl_paths = {file_name.split('.')[0]: data_pkl_dir_path.joinpath(file_name) for file_name in pkl_files}\n",
    "\n",
    "dfs = {}\n",
    "\n",
    "# loop on files\n",
    "for name, path in pkl_paths.items():\n",
    "    dfs[name] = pd.read_pickle(path)\n",
    "    print(f\"{name} loaded: {dfs[name].shape[0]} rows, {dfs[name].shape[1]} columns\")\n",
    "\n",
    "# Now you can access to data through:\n",
    "reviews_df = dfs['reviews'] \n",
    "labelled_reviews_df = dfs['reviews_labelled']"
   ]
  },
  {
   "cell_type": "code",
   "execution_count": 34,
   "id": "32b9d57b",
   "metadata": {},
   "outputs": [
    {
     "data": {
      "text/html": [
       "<div>\n",
       "<style scoped>\n",
       "    .dataframe tbody tr th:only-of-type {\n",
       "        vertical-align: middle;\n",
       "    }\n",
       "\n",
       "    .dataframe tbody tr th {\n",
       "        vertical-align: top;\n",
       "    }\n",
       "\n",
       "    .dataframe thead th {\n",
       "        text-align: right;\n",
       "    }\n",
       "</style>\n",
       "<table border=\"1\" class=\"dataframe\">\n",
       "  <thead>\n",
       "    <tr style=\"text-align: right;\">\n",
       "      <th></th>\n",
       "      <th>review.uid</th>\n",
       "      <th>user.uid</th>\n",
       "      <th>text</th>\n",
       "    </tr>\n",
       "  </thead>\n",
       "  <tbody>\n",
       "    <tr>\n",
       "      <th>0</th>\n",
       "      <td>1</td>\n",
       "      <td>tcdf7enqg9sxqq4ie4qh3xzjbt</td>\n",
       "      <td>I have bought several of the Vitality canned d...</td>\n",
       "    </tr>\n",
       "    <tr>\n",
       "      <th>1</th>\n",
       "      <td>2</td>\n",
       "      <td>kszpqbggktbzmtkkkejthwyucw</td>\n",
       "      <td>Product arrived labeled as Jumbo Salted Peanut...</td>\n",
       "    </tr>\n",
       "    <tr>\n",
       "      <th>2</th>\n",
       "      <td>3</td>\n",
       "      <td>l01hczdvthqra6hsxbovmqipdc</td>\n",
       "      <td>This is a confection that has been around a fe...</td>\n",
       "    </tr>\n",
       "    <tr>\n",
       "      <th>3</th>\n",
       "      <td>4</td>\n",
       "      <td>cmszp7l1j9pt53fvt178v3avxd</td>\n",
       "      <td>If you are looking for the secret ingredient i...</td>\n",
       "    </tr>\n",
       "    <tr>\n",
       "      <th>4</th>\n",
       "      <td>5</td>\n",
       "      <td>bhimnczlhxddegbdaytb7gbhx2</td>\n",
       "      <td>Great taffy at a great price.  There was a wid...</td>\n",
       "    </tr>\n",
       "  </tbody>\n",
       "</table>\n",
       "</div>"
      ],
      "text/plain": [
       "  review.uid                    user.uid  \\\n",
       "0          1  tcdf7enqg9sxqq4ie4qh3xzjbt   \n",
       "1          2  kszpqbggktbzmtkkkejthwyucw   \n",
       "2          3  l01hczdvthqra6hsxbovmqipdc   \n",
       "3          4  cmszp7l1j9pt53fvt178v3avxd   \n",
       "4          5  bhimnczlhxddegbdaytb7gbhx2   \n",
       "\n",
       "                                                text  \n",
       "0  I have bought several of the Vitality canned d...  \n",
       "1  Product arrived labeled as Jumbo Salted Peanut...  \n",
       "2  This is a confection that has been around a fe...  \n",
       "3  If you are looking for the secret ingredient i...  \n",
       "4  Great taffy at a great price.  There was a wid...  "
      ]
     },
     "execution_count": 34,
     "metadata": {},
     "output_type": "execute_result"
    }
   ],
   "source": [
    "reviews_df.head()"
   ]
  },
  {
   "cell_type": "code",
   "execution_count": 35,
   "id": "0fc0e445",
   "metadata": {},
   "outputs": [
    {
     "data": {
      "text/plain": [
       "(93429, 3)"
      ]
     },
     "execution_count": 35,
     "metadata": {},
     "output_type": "execute_result"
    }
   ],
   "source": [
    "reviews_df.shape"
   ]
  },
  {
   "cell_type": "code",
   "execution_count": 36,
   "id": "c1450623",
   "metadata": {},
   "outputs": [
    {
     "data": {
      "text/plain": [
       "array(['I have bought several of the Vitality canned dog food products and have found them all to be of good quality. The product looks more like a stew than a processed meat and it smells better. My Labrador is finicky and she appreciates this product better than  most.',\n",
       "       'Product arrived labeled as Jumbo Salted Peanuts...the peanuts were actually small sized unsalted. Not sure if this was an error or if the vendor intended to represent the product as \"Jumbo\".',\n",
       "       'This is a confection that has been around a few centuries.  It is a light, pillowy citrus gelatin with nuts - in this case Filberts. And it is cut into tiny squares and then liberally coated with powdered sugar.  And it is a tiny mouthful of heaven.  Not too chewy, and very flavorful.  I highly recommend this yummy treat.  If you are familiar with the story of C.S. Lewis\\' \"The Lion, The Witch, and The Wardrobe\" - this is the treat that seduces Edmund into selling out his Brother and Sisters to the Witch.',\n",
       "       ...,\n",
       "       \"I have always been happy with my Kcups but this particular box is not good! I made a cup and it was FULL of grinds, i thought maybe it was just that one so i made another....FULL of grinds. I can't use them!\",\n",
       "       \"I ordered light roast coffee and was sent one box of light roast and one box of extra bold.  I didn't notice the error until I had used a couple of the extra bold pods.  Way too strong for me and I am very disappointed.  The light roast was really good.\",\n",
       "       'I love the ease of use and speed of the Keurig brewer and the variety of K-cups promised a lot but we have found that most of the coffees are bitter - this one included.<br /><br />I am no coffee \"expert\" - I don\\'t frequent fancy cafe\\'s and pay top dollar for the best espresso - I just like a nice smooth medium bodied coffee.<br /><br />Keurig suggested I try the flavored brews as they are lighter but I\\'m not after French Vanilla or Butterscotch - I just want coffee... Maybe I have just lost the plot and coffee always tasted like this I just never took the time to taste it...'],\n",
       "      shape=(93429,), dtype=object)"
      ]
     },
     "execution_count": 36,
     "metadata": {},
     "output_type": "execute_result"
    }
   ],
   "source": [
    "reviews_df['text'].unique()\n",
    "# as expected, each line is a different review"
   ]
  },
  {
   "cell_type": "markdown",
   "id": "34a52a7e",
   "metadata": {},
   "source": [
    "## Preprocessing"
   ]
  },
  {
   "cell_type": "code",
   "execution_count": 37,
   "id": "1a945297",
   "metadata": {},
   "outputs": [],
   "source": [
    "# preprocess the text\n",
    "labelled_reviews_df['processed_text'] = labelled_reviews_df['text'].apply(preprocess_text)\n",
    "reviews_df['processed_text'] = reviews_df['text'].apply(preprocess_text)"
   ]
  },
  {
   "cell_type": "code",
   "execution_count": 38,
   "id": "06942923",
   "metadata": {},
   "outputs": [],
   "source": [
    "# label the sentiment\n",
    "mapping = {'positive': 0, 'neutral': 1, 'negative': 2}\n",
    "labelled_reviews_df['sentiment_label_target'] = labelled_reviews_df['sentiment_label'].map(mapping)"
   ]
  },
  {
   "cell_type": "code",
   "execution_count": 39,
   "id": "d3ba4f3a",
   "metadata": {},
   "outputs": [],
   "source": [
    "# saving uid \n",
    "user_ids = reviews_df[\"user.uid\"].copy()"
   ]
  },
  {
   "cell_type": "markdown",
   "id": "d169f9b2",
   "metadata": {},
   "source": [
    "## Train & Test split"
   ]
  },
  {
   "cell_type": "code",
   "execution_count": 40,
   "id": "a4c4532a",
   "metadata": {},
   "outputs": [
    {
     "data": {
      "text/html": [
       "<div>\n",
       "<style scoped>\n",
       "    .dataframe tbody tr th:only-of-type {\n",
       "        vertical-align: middle;\n",
       "    }\n",
       "\n",
       "    .dataframe tbody tr th {\n",
       "        vertical-align: top;\n",
       "    }\n",
       "\n",
       "    .dataframe thead th {\n",
       "        text-align: right;\n",
       "    }\n",
       "</style>\n",
       "<table border=\"1\" class=\"dataframe\">\n",
       "  <thead>\n",
       "    <tr style=\"text-align: right;\">\n",
       "      <th></th>\n",
       "      <th>sentiment_label</th>\n",
       "      <th>processed_text</th>\n",
       "      <th>sentiment_label_target</th>\n",
       "    </tr>\n",
       "  </thead>\n",
       "  <tbody>\n",
       "    <tr>\n",
       "      <th>0</th>\n",
       "      <td>neutral</td>\n",
       "      <td>bitter expert bought gift friend surpris heard...</td>\n",
       "      <td>1</td>\n",
       "    </tr>\n",
       "    <tr>\n",
       "      <th>1</th>\n",
       "      <td>neutral</td>\n",
       "      <td>probabl great right drink dont like old fashio...</td>\n",
       "      <td>1</td>\n",
       "    </tr>\n",
       "    <tr>\n",
       "      <th>2</th>\n",
       "      <td>positive</td>\n",
       "      <td>sent dad bday said realli pretti good hard buy...</td>\n",
       "      <td>0</td>\n",
       "    </tr>\n",
       "    <tr>\n",
       "      <th>3</th>\n",
       "      <td>positive</td>\n",
       "      <td>purchas gift famili member love bbq pork warn ...</td>\n",
       "      <td>0</td>\n",
       "    </tr>\n",
       "    <tr>\n",
       "      <th>4</th>\n",
       "      <td>neutral</td>\n",
       "      <td>wife bought sauc sampler christma know love bb...</td>\n",
       "      <td>1</td>\n",
       "    </tr>\n",
       "  </tbody>\n",
       "</table>\n",
       "</div>"
      ],
      "text/plain": [
       "  sentiment_label                                     processed_text  \\\n",
       "0         neutral  bitter expert bought gift friend surpris heard...   \n",
       "1         neutral  probabl great right drink dont like old fashio...   \n",
       "2        positive  sent dad bday said realli pretti good hard buy...   \n",
       "3        positive  purchas gift famili member love bbq pork warn ...   \n",
       "4         neutral  wife bought sauc sampler christma know love bb...   \n",
       "\n",
       "   sentiment_label_target  \n",
       "0                       1  \n",
       "1                       1  \n",
       "2                       0  \n",
       "3                       0  \n",
       "4                       1  "
      ]
     },
     "execution_count": 40,
     "metadata": {},
     "output_type": "execute_result"
    }
   ],
   "source": [
    "# I can remove the id and the text columns since they are here useless\n",
    "labelled_reviews_df = labelled_reviews_df.drop(['labelled_review.uid','text'], axis=1)\n",
    "labelled_reviews_df.head()"
   ]
  },
  {
   "cell_type": "code",
   "execution_count": 41,
   "id": "98af864e",
   "metadata": {},
   "outputs": [
    {
     "data": {
      "text/html": [
       "<div>\n",
       "<style scoped>\n",
       "    .dataframe tbody tr th:only-of-type {\n",
       "        vertical-align: middle;\n",
       "    }\n",
       "\n",
       "    .dataframe tbody tr th {\n",
       "        vertical-align: top;\n",
       "    }\n",
       "\n",
       "    .dataframe thead th {\n",
       "        text-align: right;\n",
       "    }\n",
       "</style>\n",
       "<table border=\"1\" class=\"dataframe\">\n",
       "  <thead>\n",
       "    <tr style=\"text-align: right;\">\n",
       "      <th></th>\n",
       "      <th>processed_text</th>\n",
       "    </tr>\n",
       "  </thead>\n",
       "  <tbody>\n",
       "    <tr>\n",
       "      <th>0</th>\n",
       "      <td>bought sever vital can dog food product found ...</td>\n",
       "    </tr>\n",
       "    <tr>\n",
       "      <th>1</th>\n",
       "      <td>product arriv label jumbo salt peanut peanut a...</td>\n",
       "    </tr>\n",
       "    <tr>\n",
       "      <th>2</th>\n",
       "      <td>confect around centuri light pillowi citru gel...</td>\n",
       "    </tr>\n",
       "    <tr>\n",
       "      <th>3</th>\n",
       "      <td>look secret ingredi robitussin believ found go...</td>\n",
       "    </tr>\n",
       "    <tr>\n",
       "      <th>4</th>\n",
       "      <td>great taffi great price wide assort yummi taff...</td>\n",
       "    </tr>\n",
       "  </tbody>\n",
       "</table>\n",
       "</div>"
      ],
      "text/plain": [
       "                                      processed_text\n",
       "0  bought sever vital can dog food product found ...\n",
       "1  product arriv label jumbo salt peanut peanut a...\n",
       "2  confect around centuri light pillowi citru gel...\n",
       "3  look secret ingredi robitussin believ found go...\n",
       "4  great taffi great price wide assort yummi taff..."
      ]
     },
     "execution_count": 41,
     "metadata": {},
     "output_type": "execute_result"
    }
   ],
   "source": [
    "reviews_df = reviews_df.drop(['review.uid','user.uid','text'], axis=1)\n",
    "reviews_df.head()"
   ]
  },
  {
   "cell_type": "code",
   "execution_count": 42,
   "id": "aff76aa8",
   "metadata": {},
   "outputs": [],
   "source": [
    "train_df = labelled_reviews_df\n",
    "test_df = reviews_df"
   ]
  },
  {
   "cell_type": "markdown",
   "id": "14922389",
   "metadata": {},
   "source": [
    "## Feature Engineering: TF-IDF"
   ]
  },
  {
   "cell_type": "code",
   "execution_count": 43,
   "id": "e64e1a74",
   "metadata": {},
   "outputs": [],
   "source": [
    "# target variable\n",
    "x_train = train_df['processed_text']\n",
    "y_train = train_df['sentiment_label_target']\n",
    "\n",
    "x_test = test_df['processed_text']"
   ]
  },
  {
   "cell_type": "code",
   "execution_count": 44,
   "id": "b7299ef4",
   "metadata": {},
   "outputs": [],
   "source": [
    "#Tf-Idf \n",
    "vectorizer= TfidfVectorizer()\n",
    "\n",
    "tf_x_train = vectorizer.fit_transform(x_train)\n",
    "\n",
    "tf_x_test = vectorizer.transform(x_test)"
   ]
  },
  {
   "cell_type": "markdown",
   "id": "cace0685",
   "metadata": {},
   "source": [
    "## Training & Testing"
   ]
  },
  {
   "cell_type": "code",
   "execution_count": 45,
   "id": "68c21d9d",
   "metadata": {},
   "outputs": [],
   "source": [
    "# from 'compound score' to label: 0,1,2\n",
    "\n",
    "sia = SentimentIntensityAnalyzer()\n",
    "def vader_predict(text):\n",
    "    score = sia.polarity_scores(text)['compound']\n",
    "    if score >= 0.05:\n",
    "        return 2  #positive\n",
    "    elif score <= -0.05:\n",
    "        return 0  #negative\n",
    "    else:\n",
    "        return 1  #neutral"
   ]
  },
  {
   "cell_type": "code",
   "execution_count": 46,
   "id": "9a92d734",
   "metadata": {},
   "outputs": [],
   "source": [
    "# new feature\n",
    "\n",
    "vader_preds_train = train_df['processed_text'].apply(vader_predict)\n",
    "vader_preds_train = np.array(vader_preds_train).reshape(-1, 1)\n",
    "x_train_vader = hstack([tf_x_train, vader_preds_train])\n",
    "\n",
    "vader_preds_test = test_df['processed_text'].apply(vader_predict)\n",
    "vader_preds_test = np.array(vader_preds_test).reshape(-1, 1)\n",
    "x_test_vader = hstack([tf_x_test, vader_preds_test])"
   ]
  },
  {
   "cell_type": "code",
   "execution_count": 47,
   "id": "f7367878",
   "metadata": {},
   "outputs": [
    {
     "name": "stdout",
     "output_type": "stream",
     "text": [
      "                             accuracy  precision: 0  recall: 0     f1: 0  \\\n",
      "model               dataset                                                \n",
      "Logistic Regression Train    0.795185      0.828216   0.927310  0.874966   \n",
      "                    Test     0.774756      0.816745   0.915831  0.863455   \n",
      "                    Train    0.793886      0.828565   0.925705  0.874445   \n",
      "\n",
      "                             precision: 1  recall: 1     f1: 1  precision: 2  \\\n",
      "model               dataset                                                    \n",
      "Logistic Regression Train        0.694807   0.546250  0.611637      0.758500   \n",
      "                    Test         0.651896   0.512971  0.574149      0.713061   \n",
      "                    Train        0.690932   0.544169  0.608831      0.750311   \n",
      "\n",
      "                             recall: 2     f1: 2  \n",
      "model               dataset                       \n",
      "Logistic Regression Train     0.596583  0.667868  \n",
      "                    Test      0.551138  0.621729  \n",
      "                    Train     0.599682  0.666593  \n"
     ]
    }
   ],
   "source": [
    "model = LogisticRegression(max_iter=1000, solver=\"saga\", random_state=1312)\n",
    "\n",
    "# fit\n",
    "model.fit(x_train_vader, y_train)\n",
    "\n",
    "# predict\n",
    "y_train_pred = model.predict(x_train_vader)\n",
    "y_test_pred = model.predict(x_test_vader)\n",
    "\n",
    "# evaluation\n",
    "train_results = evaluate_model(y_train, y_train_pred, \"Train\")\n",
    "\n",
    "# name\n",
    "train_results[\"model\"] = \"Logistic Regression\"\n",
    "\n",
    "# final results\n",
    "all_results.extend([train_results])\n",
    "results_df = pd.DataFrame(all_results)\n",
    "results_df = results_df.set_index([\"model\", \"dataset\"])\n",
    "print(results_df)"
   ]
  },
  {
   "cell_type": "markdown",
   "id": "64f2225e",
   "metadata": {},
   "source": [
    "### Saving Dataset"
   ]
  },
  {
   "cell_type": "code",
   "execution_count": 48,
   "id": "f908eb4b",
   "metadata": {},
   "outputs": [
    {
     "data": {
      "text/html": [
       "<div>\n",
       "<style scoped>\n",
       "    .dataframe tbody tr th:only-of-type {\n",
       "        vertical-align: middle;\n",
       "    }\n",
       "\n",
       "    .dataframe tbody tr th {\n",
       "        vertical-align: top;\n",
       "    }\n",
       "\n",
       "    .dataframe thead th {\n",
       "        text-align: right;\n",
       "    }\n",
       "</style>\n",
       "<table border=\"1\" class=\"dataframe\">\n",
       "  <thead>\n",
       "    <tr style=\"text-align: right;\">\n",
       "      <th></th>\n",
       "      <th>user_ids</th>\n",
       "      <th>y_test_pred</th>\n",
       "    </tr>\n",
       "  </thead>\n",
       "  <tbody>\n",
       "    <tr>\n",
       "      <th>0</th>\n",
       "      <td>tcdf7enqg9sxqq4ie4qh3xzjbt</td>\n",
       "      <td>1</td>\n",
       "    </tr>\n",
       "    <tr>\n",
       "      <th>1</th>\n",
       "      <td>kszpqbggktbzmtkkkejthwyucw</td>\n",
       "      <td>2</td>\n",
       "    </tr>\n",
       "    <tr>\n",
       "      <th>2</th>\n",
       "      <td>l01hczdvthqra6hsxbovmqipdc</td>\n",
       "      <td>0</td>\n",
       "    </tr>\n",
       "    <tr>\n",
       "      <th>3</th>\n",
       "      <td>cmszp7l1j9pt53fvt178v3avxd</td>\n",
       "      <td>0</td>\n",
       "    </tr>\n",
       "    <tr>\n",
       "      <th>4</th>\n",
       "      <td>bhimnczlhxddegbdaytb7gbhx2</td>\n",
       "      <td>0</td>\n",
       "    </tr>\n",
       "  </tbody>\n",
       "</table>\n",
       "</div>"
      ],
      "text/plain": [
       "                     user_ids  y_test_pred\n",
       "0  tcdf7enqg9sxqq4ie4qh3xzjbt            1\n",
       "1  kszpqbggktbzmtkkkejthwyucw            2\n",
       "2  l01hczdvthqra6hsxbovmqipdc            0\n",
       "3  cmszp7l1j9pt53fvt178v3avxd            0\n",
       "4  bhimnczlhxddegbdaytb7gbhx2            0"
      ]
     },
     "execution_count": 48,
     "metadata": {},
     "output_type": "execute_result"
    }
   ],
   "source": [
    "sentiment_predicted = pd.DataFrame({\n",
    "    \"user_ids\": user_ids,\n",
    "    \"y_test_pred\": y_test_pred\n",
    "})\n",
    "\n",
    "sentiment_predicted.head()"
   ]
  },
  {
   "cell_type": "code",
   "execution_count": 49,
   "id": "bf631be5",
   "metadata": {},
   "outputs": [
    {
     "data": {
      "text/plain": [
       "WindowsPath('c:/Users/davyt/Desktop/Bicocca/Marketing Analytics/unimib_snowit_project')"
      ]
     },
     "execution_count": 49,
     "metadata": {},
     "output_type": "execute_result"
    }
   ],
   "source": [
    "# project directory\n",
    "from pathlib import Path\n",
    "project_dir = Path.cwd().parents[0]\n",
    "project_dir"
   ]
  },
  {
   "cell_type": "code",
   "execution_count": 50,
   "id": "2b2dc1c0",
   "metadata": {},
   "outputs": [
    {
     "data": {
      "text/plain": [
       "WindowsPath('c:/Users/davyt/Desktop/Bicocca/Marketing Analytics/unimib_snowit_project/models')"
      ]
     },
     "execution_count": 50,
     "metadata": {},
     "output_type": "execute_result"
    }
   ],
   "source": [
    "# 'models' folder\n",
    "models_dir = project_dir / \"models\"\n",
    "models_dir.mkdir(parents=True, exist_ok=True) \n",
    "models_dir"
   ]
  },
  {
   "cell_type": "code",
   "execution_count": 51,
   "id": "f8151333",
   "metadata": {},
   "outputs": [],
   "source": [
    "# saving\n",
    "sentiment_predicted.to_csv(models_dir / \"predicted_sentiment.csv\", index=False)"
   ]
  }
 ],
 "metadata": {
  "kernelspec": {
   "display_name": "MarketingAnalytics",
   "language": "python",
   "name": "python3"
  },
  "language_info": {
   "codemirror_mode": {
    "name": "ipython",
    "version": 3
   },
   "file_extension": ".py",
   "mimetype": "text/x-python",
   "name": "python",
   "nbconvert_exporter": "python",
   "pygments_lexer": "ipython3",
   "version": "3.12.9"
  }
 },
 "nbformat": 4,
 "nbformat_minor": 5
}
