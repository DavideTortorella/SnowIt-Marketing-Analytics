{
 "cells": [
  {
   "cell_type": "code",
   "execution_count": 1,
   "id": "84e2cf44",
   "metadata": {},
   "outputs": [],
   "source": [
    "%load_ext autoreload\n",
    "# This line loads the extension 'autoreload' that enables to reload automatically the imported moduls whenever they\n",
    "# are modified.\n",
    "\n",
    "%autoreload 2\n",
    "# This line activates mode 2, meaning:\n",
    "# automatically reload all the imported moduls before every command\n",
    "\n",
    "#e.g.\n",
    "# When you're developing a Python module (my_module.py) and you import it in a notebook:\n",
    "# from my_module import my_function\n",
    "# If you then modify my_function in the my_module.py file, you would normally need to restart the kernel or re-import the module for the changes to take effect. \n",
    "# However, with %autoreload 2, the module is reloaded automatically, and you can use the updated version right away."
   ]
  },
  {
   "cell_type": "code",
   "execution_count": 2,
   "id": "7fdbddd8",
   "metadata": {},
   "outputs": [],
   "source": [
    "import re\n",
    "\n",
    "import dill\n",
    "import pandas as pd\n",
    "\n",
    "import unimib_snowit_project.utils as u"
   ]
  },
  {
   "cell_type": "markdown",
   "id": "d0f1d966",
   "metadata": {},
   "source": [
    "# Setup"
   ]
  },
  {
   "cell_type": "code",
   "execution_count": 3,
   "id": "967562c6",
   "metadata": {},
   "outputs": [],
   "source": [
    "# Base Params\n",
    "\n",
    "# folder\n",
    "DATA_IN_DIR = 'data_input'\n",
    "\n",
    "# files\n",
    "USERS_IN_FILENAME = 'users.csv'\n",
    "PROFILES_IN_FILENAME = 'profiles.csv'\n",
    "CARDS_IN_FILENAME = 'cards.csv'\n",
    "ORDERS_IN_FILENAME = 'orders.csv'\n",
    "ORDER_DETAILS_IN_FILENAME = 'order_details.csv'\n",
    "\n",
    "# OSS: \"pickle\" stands for .pkl, a typical Python extension to save dataframes and files, similar to .csv, but more efficient.\n",
    "\n",
    "# folder (to store pickle data after cleaning)\n",
    "DATA_PKL_DIR = 'data_loaded'\n",
    "\n",
    "# files (pickle data after cleaning)\n",
    "USERS_PKL_FILENAME = 'users.pkl'\n",
    "PROFILES_PKL_FILENAME = 'profiles.pkl'\n",
    "CARDS_PKL_FILENAME = 'cards.pkl'\n",
    "ORDERS_PKL_FILENAME = 'orders.pkl'\n",
    "ORDER_DETAILS_PKL_FILENAME = 'order_details.pkl'\n",
    "\n",
    "# na values\n",
    "NA_VALUES = ['', ' ', '\"\"',\n",
    "             '#N/A', '#N/A N/A', '#NA', 'N/A', '<NA>', 'n/a', # 'NA',\n",
    "             '-1.#IND', '1.#IND',\n",
    "             '-1.#QNAN', '-NaN', '-nan', '-NAN', '1.#QNAN', 'NaN', 'nan', 'NAN',\n",
    "             'NULL', 'Null', 'null',\n",
    "             'NONE', 'None', 'none',\n",
    "             '[]'\n",
    "             ]"
   ]
  },
  {
   "cell_type": "code",
   "execution_count": 4,
   "id": "eca49fb6",
   "metadata": {},
   "outputs": [],
   "source": [
    "# Base paths\n",
    "\n",
    "root_dir_path = u.get_root_dir()\n",
    "# in my case: ('C:/Users/davyt/Desktop/Bicocca/Marketing Analytics/unimib_snowit_project')\n",
    "\n",
    "data_in_dir_path = root_dir_path.joinpath(DATA_IN_DIR) # in my case: ('C:/Users/davyt/Desktop/Bicocca/Marketing Analytics/unimib_snowit_project/data_input')\n",
    "users_in_path = data_in_dir_path.joinpath(USERS_IN_FILENAME)\n",
    "profiles_in_path = data_in_dir_path.joinpath(PROFILES_IN_FILENAME)\n",
    "cards_in_path = data_in_dir_path.joinpath(CARDS_IN_FILENAME)\n",
    "orders_in_path = data_in_dir_path.joinpath(ORDERS_IN_FILENAME)\n",
    "order_details_in_path = data_in_dir_path.joinpath(ORDER_DETAILS_IN_FILENAME) \n",
    "\n",
    "data_pkl_dir_path = root_dir_path.joinpath(DATA_PKL_DIR) \n",
    "users_pkl_path = data_pkl_dir_path.joinpath(USERS_PKL_FILENAME)\n",
    "profiles_pkl_path = data_pkl_dir_path.joinpath(PROFILES_PKL_FILENAME)\n",
    "cards_pkl_path = data_pkl_dir_path.joinpath(CARDS_PKL_FILENAME)\n",
    "orders_pkl_path = data_pkl_dir_path.joinpath(ORDERS_PKL_FILENAME)\n",
    "order_details_pkl_path = data_pkl_dir_path.joinpath(ORDER_DETAILS_PKL_FILENAME)"
   ]
  },
  {
   "cell_type": "markdown",
   "id": "5078431a",
   "metadata": {},
   "source": [
    "# LOAD"
   ]
  },
  {
   "cell_type": "markdown",
   "id": "770b6c85",
   "metadata": {},
   "source": [
    "## Load Users"
   ]
  },
  {
   "cell_type": "code",
   "execution_count": 5,
   "id": "2884fadd",
   "metadata": {},
   "outputs": [],
   "source": [
    "safeload_users_df = pd.read_csv(users_in_path,\n",
    "                                dtype='string', \n",
    "                                na_values=[],     \n",
    "                                keep_default_na=False \n",
    "                                )"
   ]
  },
  {
   "cell_type": "code",
   "execution_count": 6,
   "id": "d75765a0",
   "metadata": {},
   "outputs": [
    {
     "data": {
      "text/plain": [
       "Index(['user.uid', 'createdAt', 'source', 'isAnonymous', 'referralsCount',\n",
       "       'city', 'language', 'googleId', 'appleId', 'facebookId',\n",
       "       'referral.medium', 'referral.source', 'referral.type',\n",
       "       'favouriteZones'],\n",
       "      dtype='object')"
      ]
     },
     "execution_count": 6,
     "metadata": {},
     "output_type": "execute_result"
    }
   ],
   "source": [
    "safeload_users_df.columns"
   ]
  },
  {
   "cell_type": "code",
   "execution_count": 7,
   "id": "4fc2b722",
   "metadata": {},
   "outputs": [
    {
     "data": {
      "text/plain": [
       "(728598, 14)"
      ]
     },
     "execution_count": 7,
     "metadata": {},
     "output_type": "execute_result"
    }
   ],
   "source": [
    "safeload_users_df.shape"
   ]
  },
  {
   "cell_type": "code",
   "execution_count": 8,
   "id": "afab1aaa",
   "metadata": {},
   "outputs": [
    {
     "data": {
      "text/plain": [
       "(728598,)"
      ]
     },
     "execution_count": 8,
     "metadata": {},
     "output_type": "execute_result"
    }
   ],
   "source": [
    "col_to_check = 'user.uid'\n",
    "safeload_users_df[col_to_check].unique().shape\n",
    "# I expect this number to be the same as the dimension of the shape, and that's what happens"
   ]
  },
  {
   "cell_type": "code",
   "execution_count": 9,
   "id": "bf8a2204",
   "metadata": {},
   "outputs": [
    {
     "data": {
      "text/plain": [
       "<StringArray>\n",
       "['website', 'app', 'terze_parti', 'welfare']\n",
       "Length: 4, dtype: string"
      ]
     },
     "execution_count": 9,
     "metadata": {},
     "output_type": "execute_result"
    }
   ],
   "source": [
    "col_to_check = 'source'\n",
    "safeload_users_df[col_to_check].unique()"
   ]
  },
  {
   "cell_type": "code",
   "execution_count": 10,
   "id": "4cf98c2c",
   "metadata": {},
   "outputs": [
    {
     "data": {
      "text/plain": [
       "<StringArray>\n",
       "['False', 'True', '']\n",
       "Length: 3, dtype: string"
      ]
     },
     "execution_count": 10,
     "metadata": {},
     "output_type": "execute_result"
    }
   ],
   "source": [
    "col_to_check = 'isAnonymous'\n",
    "safeload_users_df[col_to_check].unique()"
   ]
  },
  {
   "cell_type": "code",
   "execution_count": 11,
   "id": "52daff3d",
   "metadata": {},
   "outputs": [
    {
     "data": {
      "text/plain": [
       "<StringArray>\n",
       "[  '0.0',      '',   '4.0',   '1.0',   '2.0',   '3.0',   '5.0',   '7.0',\n",
       "   '6.0',  '40.0',  '30.0',   '8.0',  '10.0',  '87.0',  '15.0',  '27.0',\n",
       "  '17.0',  '23.0',  '16.0',  '19.0', '100.0',  '38.0',   '9.0']\n",
       "Length: 23, dtype: string"
      ]
     },
     "execution_count": 11,
     "metadata": {},
     "output_type": "execute_result"
    }
   ],
   "source": [
    "col_to_check = 'referralsCount'\n",
    "safeload_users_df[col_to_check].unique()"
   ]
  },
  {
   "cell_type": "code",
   "execution_count": 12,
   "id": "af60c92d",
   "metadata": {},
   "outputs": [
    {
     "data": {
      "text/plain": [
       "<StringArray>\n",
       "[             'Aachen',             'Aalborg',            'Aalborg ',\n",
       "               'Aalen',            'Aalsmeer',               'Aalst',\n",
       "              'Aalter',               'Aarau',             'Aarburg',\n",
       "              'Aarhus',\n",
       " ...\n",
       "  'Zvolensk√° Slatina',               'Zwaag',             'Zwickau',\n",
       "         'Zwijndrecht',           'Zwillikon',         'Zwingenberg',\n",
       "              'Zwolle',            'Zyrardow',              'Zywiec',\n",
       " '\\uf8ffüá¨\\uf8ffüáß ']\n",
       "Length: 22006, dtype: string"
      ]
     },
     "execution_count": 12,
     "metadata": {},
     "output_type": "execute_result"
    }
   ],
   "source": [
    "col_to_check = 'city'\n",
    "safeload_users_df[col_to_check].unique()"
   ]
  },
  {
   "cell_type": "code",
   "execution_count": 13,
   "id": "116e29cc",
   "metadata": {},
   "outputs": [
    {
     "data": {
      "text/plain": [
       "Index(['zurigo', 'zutigo', 'ÊÑèÂ§ßÂà©Á±≥ÂÖ∞ÁúÅÁ±≥ÂÖ∞', 'Î∞ÄÎùºÎÖ∏',\n",
       "       'Ïù¥ÌÉàÎ¶¨ÏïÑ', 'ÿ¨ÿ®ŸäŸÑ', 'ÿßŸÑÿ±ŸäÿßŸÜ', 'ŒëŒ∏ŒÆŒΩŒ±',\n",
       "       'ŒõŒ¨œÅŒΩŒ±Œ∫Œ±', 'ŒõŒµœÖŒ∫œâœÉŒØŒ±', 'ŒöŒüŒúŒüŒ§ŒóŒùŒó',\n",
       "       'ŒöœÖœÄŒµœÅŒøœçŒΩœÑŒ±', 'Œ†Œ¨œÑœÅŒ±', 'Œ†Œ¨œÜŒøœÇ', 'ƒ¶amrun',\n",
       "       'ƒÄda≈æi', 'ƒåavisov', 'ƒåaƒçak', 'ƒåejƒç', 'ƒåel√°kovice',\n",
       "       'ƒåel√°kovice ', 'ƒåeperka', 'ƒåernihiv', 'ƒåernovice', 'ƒåerno≈°ice',\n",
       "       'ƒåerno≈°ice ', 'ƒåern√Ω D≈Øl', 'ƒåerven√© Janovice',\n",
       "       'ƒåerven√© Peƒçky', 'ƒåerven√Ω Kostelec', 'ƒåerven√Ω √öjezd',\n",
       "       'ƒåerƒçany', 'ƒåesk√© Budƒõjovice', 'ƒåesk√© Budƒõjovice ',\n",
       "       'ƒåesk√© Velenice', 'ƒåesk√°', 'ƒåesk√° Kamenice', 'ƒåesk√° L√≠pa',\n",
       "       'ƒåesk√° Republika', 'ƒåesk√° Skalice', 'ƒåesk√° T≈ôebov√°',\n",
       "       'ƒåesk√Ω Brod', 'ƒåesk√Ω Ji≈ôet√≠n', 'ƒåesk√Ω Krumlov',\n",
       "       'ƒåesk√Ω Rudolec', 'ƒåesk√Ω Tƒõ≈°√≠n', 'ƒåisovice', 'ƒåty≈ôkoly',\n",
       "       'ƒå√°slav', 'ƒå√°slavice', 'ƒéurkov', 'ƒ∑ekava', 'ƒ∞STANBUL',\n",
       "       'ƒ∞stanbul', 'üá¨üáß '],\n",
       "      dtype='string', name='city')"
      ]
     },
     "execution_count": 13,
     "metadata": {},
     "output_type": "execute_result"
    }
   ],
   "source": [
    "# I have an encoding problem, for example:\n",
    "safeload_users_df.groupby('city').count().tail(55).index"
   ]
  },
  {
   "cell_type": "code",
   "execution_count": 14,
   "id": "0e32ab91",
   "metadata": {},
   "outputs": [],
   "source": [
    "# to install the package ftfy trying to solve the encoding problem:\n",
    "# (MarketingAnalytics) C:\\Users\\davyt\\Desktop\\Bicocca\\Marketing Analytics> cd unimib_snowit_project\n",
    "# (MarketingAnalytics) C:\\Users\\davyt\\Desktop\\Bicocca\\Marketing Analytics\\unimib_snowit_project> pdm add ftfy"
   ]
  },
  {
   "cell_type": "code",
   "execution_count": 15,
   "id": "02fefe48",
   "metadata": {},
   "outputs": [],
   "source": [
    "import pandas as pd\n",
    "from ftfy import fix_text\n",
    "\n",
    "safeload_users_df.loc[safeload_users_df['city'].notna(), 'city'] = safeload_users_df.loc[safeload_users_df['city'].notna(), 'city'].apply(fix_text)"
   ]
  },
  {
   "cell_type": "code",
   "execution_count": 16,
   "id": "0cc8b30d",
   "metadata": {},
   "outputs": [
    {
     "data": {
      "text/plain": [
       "Index(['zurigo', 'zutigo', 'Ādaži', 'Čavisov', 'Čačak', 'Čejč', 'Čelákovice',\n",
       "       'Čelákovice ', 'Čeperka', 'Černihiv', 'Černovice', 'Černošice',\n",
       "       'Černošice ', 'Černý Důl', 'Červené Janovice', 'Červené Pečky',\n",
       "       'Červený Kostelec', 'Červený Újezd', 'Čerčany', 'Česká',\n",
       "       'Česká Kamenice', 'Česká Lípa', 'Česká Republika', 'Česká Skalice',\n",
       "       'Česká Třebová', 'České Budějovice', 'České Budějovice ',\n",
       "       'České Velenice', 'Český Brod', 'Český Jiřetín', 'Český Krumlov',\n",
       "       'Český Rudolec', 'Český Těšín', 'Čisovice', 'Čtyřkoly', 'Čáslav',\n",
       "       'Čáslavice', 'Ďurkov', 'Ħamrun', 'İSTANBUL', 'İstanbul', 'ķekava',\n",
       "       'Αθήνα', 'ΚΟΜΟΤΗΝΗ', 'Κυπερούντα', 'Λάρνακα', 'Λευκωσία', 'Πάτρα',\n",
       "       'Πάφος', 'الريان', 'جبيل', '意大利米兰省米兰', '밀라노', '이탈리아', '🇬🇧 '],\n",
       "      dtype='string', name='city')"
      ]
     },
     "execution_count": 16,
     "metadata": {},
     "output_type": "execute_result"
    }
   ],
   "source": [
    "safeload_users_df.groupby('city').count().tail(55).index"
   ]
  },
  {
   "cell_type": "code",
   "execution_count": 17,
   "id": "f5b82178",
   "metadata": {},
   "outputs": [],
   "source": [
    "safeload_users_df['city']= safeload_users_df['city'].apply(lambda x:\n",
    "                                                                       u.clean_str(x, 'lower')\n",
    "                                                                       if pd.notnull(x)\n",
    "                                                                       else None\n",
    "                                                                       )"
   ]
  },
  {
   "cell_type": "code",
   "execution_count": 18,
   "id": "368c76a9",
   "metadata": {},
   "outputs": [
    {
     "data": {
      "text/plain": [
       "array(['aachen', 'aalborg', 'aalen', ..., 'zyrardow', 'zywiec', '🇬🇧'],\n",
       "      shape=(15863,), dtype=object)"
      ]
     },
     "execution_count": 18,
     "metadata": {},
     "output_type": "execute_result"
    }
   ],
   "source": [
    "safeload_users_df['city'].unique()\n",
    "# we reduce the number of unique cities from 22006 to 15862"
   ]
  },
  {
   "cell_type": "code",
   "execution_count": 19,
   "id": "8b35df1a",
   "metadata": {},
   "outputs": [
    {
     "data": {
      "text/plain": [
       "<StringArray>\n",
       "['en', 'de', 'it',   '', 'nl', 'es', 'fr', 'cs', 'ru', 'zh', 'sv', 'da', 'fi',\n",
       " 'pt', 'ro', 'sl', 'nb', 'sk', 'pl']\n",
       "Length: 19, dtype: string"
      ]
     },
     "execution_count": 19,
     "metadata": {},
     "output_type": "execute_result"
    }
   ],
   "source": [
    "col_to_check = 'language'\n",
    "safeload_users_df[col_to_check].unique()"
   ]
  },
  {
   "cell_type": "code",
   "execution_count": 20,
   "id": "b9a8cb4d",
   "metadata": {},
   "outputs": [
    {
     "data": {
      "text/plain": [
       "<StringArray>\n",
       "['True', '']\n",
       "Length: 2, dtype: string"
      ]
     },
     "execution_count": 20,
     "metadata": {},
     "output_type": "execute_result"
    }
   ],
   "source": [
    "col_to_check = 'googleId'\n",
    "safeload_users_df[col_to_check].unique()"
   ]
  },
  {
   "cell_type": "code",
   "execution_count": 21,
   "id": "a8971f5d",
   "metadata": {},
   "outputs": [
    {
     "data": {
      "text/plain": [
       "<StringArray>\n",
       "['', 'True']\n",
       "Length: 2, dtype: string"
      ]
     },
     "execution_count": 21,
     "metadata": {},
     "output_type": "execute_result"
    }
   ],
   "source": [
    "col_to_check = 'appleId'\n",
    "safeload_users_df[col_to_check].unique()"
   ]
  },
  {
   "cell_type": "code",
   "execution_count": 22,
   "id": "11c2af40",
   "metadata": {},
   "outputs": [
    {
     "data": {
      "text/plain": [
       "<StringArray>\n",
       "['', 'True']\n",
       "Length: 2, dtype: string"
      ]
     },
     "execution_count": 22,
     "metadata": {},
     "output_type": "execute_result"
    }
   ],
   "source": [
    "col_to_check = 'facebookId'\n",
    "safeload_users_df[col_to_check].unique()"
   ]
  },
  {
   "cell_type": "code",
   "execution_count": 23,
   "id": "691bf21c",
   "metadata": {},
   "outputs": [
    {
     "data": {
      "text/plain": [
       "<StringArray>\n",
       "[                                 '',                               'cpc',\n",
       "                           'website',                             'email',\n",
       "                       'affiliation',             'satispay-landing-page',\n",
       "                           'cpc,cpc',                     'gite-in-treno',\n",
       "                           'organic',        'pubbliredazionale-dicembre',\n",
       "                       'pickuppoint',                          'referral',\n",
       "                               'app', 'bcg-landing-page,bcg-landing-page',\n",
       "                             'flyer',                      'landing-page',\n",
       "                'influencer-stories',                            'banner',\n",
       "                            'bobbio',                           'sitoweb',\n",
       "                               'NEN',                      'bcgplatinion',\n",
       "                        'bormiopass',                              'sito',\n",
       "                           'bottone',                          'magazine',\n",
       "                              'news',                              'blog',\n",
       "         'pubbliredazionale-gennaio',                            'email ',\n",
       "                               'dem',                       'cheventi.it',\n",
       "                             'dasio',                           'offline',\n",
       "                              'paid',                              'skin',\n",
       "                        'influencer',                           'article',\n",
       "                         'pacchetto',                     'qrcode_stampa',\n",
       "                         'affiliate',                           'qr-code',\n",
       "                            'social',               'qrcode_biglietteria',\n",
       "                  'trenord-prodotti',            'art_gitelomb_4percorsi',\n",
       "                  'tariffario_flyer',                   'company_profile',\n",
       "             'publiredaz-dovesciare']\n",
       "Length: 49, dtype: string"
      ]
     },
     "execution_count": 23,
     "metadata": {},
     "output_type": "execute_result"
    }
   ],
   "source": [
    "col_to_check = 'referral.medium'\n",
    "safeload_users_df[col_to_check].unique()"
   ]
  },
  {
   "cell_type": "code",
   "execution_count": 24,
   "id": "b2f47978",
   "metadata": {},
   "outputs": [
    {
     "data": {
      "text/plain": [
       "<StringArray>\n",
       "[                              '',                         'google',\n",
       "                           'meta',         'piani-di-bobbio-barzio',\n",
       "                          'brevo',                       'magazine',\n",
       "                         'widget',                         'social',\n",
       "                       'satispay',                  'google,google',\n",
       "                        'trenord',                         'chiesa',\n",
       "                         'aprica',              'chiesa-valmalenco',\n",
       "                           'yome',                 'ActiveCampaign',\n",
       "                     'dovesciare',                    'pickuppoint',\n",
       "                   'email_snowit',                           'blog',\n",
       "                        'adwords', 'piani-di-bobbio-barzio,trenord',\n",
       "            'ads_bikeit_noleggio',                    'mail_snowit',\n",
       "                     'domobianca',                       'app_home',\n",
       "                        'skiinfo',                     'FB_funcard',\n",
       "                           'awin',                        'bcg,bcg',\n",
       "                     'Neveitalia',                     'newsletter',\n",
       "                      'snowmates',                         'snowit',\n",
       "                          'flyer',                   'landing-page',\n",
       "                       'madesimo',                  'social_snowit',\n",
       "                'mail_crm_snowit',                     'influencer',\n",
       "                         'bobbio',             'livigno_skipassion',\n",
       "                      'bormioski',                    'sponsorship',\n",
       "                    'coupons_it2',                'giteinlombardia',\n",
       "           'Landing_Visit_Bormio',                       'Scalapay',\n",
       "           'santacaterinawebsite',                          'blog ',\n",
       "                      'francesco',                            'git',\n",
       "                       'referral',                       'facebook',\n",
       "                           'mail',           'gazzetta-dello-sport',\n",
       "                    'blog_bikeit',                  'transactional',\n",
       "                 'restaurantguru',                    'cheventi.it',\n",
       "               'landingbenvenuto',      'catalogo-fidaty-esselunga',\n",
       "                     'google_ads',                     'sendinblue',\n",
       "                  'fb-SiteLink-5',                       'scalapay',\n",
       "                             'fb',               'Corno Alle Scale',\n",
       "             'il ciclista viaggi',                        'organic',\n",
       "                     'neveitalia',                      'sportweek',\n",
       "                     'bikeitalia',                         'tiktok',\n",
       "                       'hs_email',                 'SnowitMagazine',\n",
       "                'meta-SiteLink-2',                    'chatgpt.com',\n",
       "                      'kitesurfy',                   'gazzettaquot',\n",
       "                        'Skiinfo',                 'newsletter_231',\n",
       "        'google_ads_bikeit_brand',                    'blog-snowit',\n",
       "                             'ig',  'google_ads_bikeit_brand_smart',\n",
       "                        'livigno',                         'bormio',\n",
       "                     'trustpilot',                 'newsletter_171',\n",
       "          'publiredaz-dovesciare',                       'linktree',\n",
       "                 'newsletter_167',                'meta-SiteLink-3',\n",
       "               'ilciclistaviaggi',                        'sailogy']\n",
       "Length: 96, dtype: string"
      ]
     },
     "execution_count": 24,
     "metadata": {},
     "output_type": "execute_result"
    }
   ],
   "source": [
    "col_to_check = 'referral.source'\n",
    "safeload_users_df[col_to_check].unique()"
   ]
  },
  {
   "cell_type": "code",
   "execution_count": 25,
   "id": "ba7c3833",
   "metadata": {},
   "outputs": [
    {
     "data": {
      "text/plain": [
       "<StringArray>\n",
       "[     '',   '1.0',   '2.0',   '3.0',   '4.0',   '5.0',   '6.0',   '7.0',\n",
       "   '8.0',   '9.0',\n",
       " ...\n",
       " '453.0', '454.0', '455.0', '456.0', '457.0', '458.0', '459.0', '460.0',\n",
       " '461.0', '462.0']\n",
       "Length: 463, dtype: string"
      ]
     },
     "execution_count": 25,
     "metadata": {},
     "output_type": "execute_result"
    }
   ],
   "source": [
    "col_to_check = 'referral.type'\n",
    "safeload_users_df[col_to_check].unique()"
   ]
  },
  {
   "cell_type": "code",
   "execution_count": 26,
   "id": "c6b57413",
   "metadata": {},
   "outputs": [
    {
     "data": {
      "text/plain": [
       "<StringArray>\n",
       "[                                                                                          '',\n",
       "                             '[Alagna - Monterosa Ski,Gressoney-La-Trinit√© - Monterosa Ski]',\n",
       "                                                                                     '[Pila]',\n",
       "                                                     '[Chiesa Valmalenco Bernina Ski Resort]',\n",
       "                                                            '[Cervinia,Courmayeur,La Thuile]',\n",
       "  '[Cervinia,Champoluc - Monterosa Ski,La Thuile,Gressoney-La-Trinit√© - Monterosa Ski,Pila]',\n",
       "                                                                 '[Barzio - Piani di Bobbio]',\n",
       "                                                                            '[Alpe di Siusi]',\n",
       "                                                                                   '[Andalo]',\n",
       "                                               '[Folgaria,Maniva,Pontedilegno-Tonale,Andalo]',\n",
       " ...\n",
       " \"[Barzio - Piani di Bobbio,Cervinia,Champoluc - Monterosa Ski,Cortina d'Ampezzo,Courmayeur]\",\n",
       "                                                                       '[Courmayeur,Livigno]',\n",
       "                                                     '[Livigno,Bormio,Sestriere - Vialattea]',\n",
       "                            '[Alagna - Monterosa Ski,Cervinia,Pila,Barzio - Piani di Bobbio]',\n",
       "                                               '[Claviere - Vialattea,Sestriere - Vialattea]',\n",
       "            '[Livigno,Alagna - Monterosa Ski,Aprica,Champoluc - Monterosa Ski,Valtournenche]',\n",
       "                                       '[Barzio - Piani di Bobbio,Monte Pora,Carona,Foppolo]',\n",
       "                                     '[Santa Cristina - Val Gardena,Santa Caterina Valfurva]',\n",
       "                                '[Aprica,Badia - Alta Badia,Bardonecchia,Cervinia,La Thuile]',\n",
       "                    '[Andalo,Badia - Alta Badia,Cimone,Corno alle Scale,Fai della Paganella]']\n",
       "Length: 1627, dtype: string"
      ]
     },
     "execution_count": 26,
     "metadata": {},
     "output_type": "execute_result"
    }
   ],
   "source": [
    "col_to_check = 'favouriteZones'\n",
    "safeload_users_df[col_to_check].unique()\n",
    "\n",
    "# I obtain that there are 1627 different combinations of unique \"at most 5 most preferred locations\",\n",
    "# beware that some of them (as the first one) are empty due to null values not managed yet.\n"
   ]
  },
  {
   "cell_type": "code",
   "execution_count": 27,
   "id": "788f5e8d",
   "metadata": {},
   "outputs": [
    {
     "data": {
      "text/html": [
       "<div>\n",
       "<style scoped>\n",
       "    .dataframe tbody tr th:only-of-type {\n",
       "        vertical-align: middle;\n",
       "    }\n",
       "\n",
       "    .dataframe tbody tr th {\n",
       "        vertical-align: top;\n",
       "    }\n",
       "\n",
       "    .dataframe thead th {\n",
       "        text-align: right;\n",
       "    }\n",
       "</style>\n",
       "<table border=\"1\" class=\"dataframe\">\n",
       "  <thead>\n",
       "    <tr style=\"text-align: right;\">\n",
       "      <th></th>\n",
       "      <th>user.uid</th>\n",
       "      <th>createdAt</th>\n",
       "      <th>source</th>\n",
       "      <th>isAnonymous</th>\n",
       "      <th>referralsCount</th>\n",
       "      <th>city</th>\n",
       "      <th>language</th>\n",
       "      <th>googleId</th>\n",
       "      <th>appleId</th>\n",
       "      <th>facebookId</th>\n",
       "      <th>referral.medium</th>\n",
       "      <th>referral.source</th>\n",
       "      <th>referral.type</th>\n",
       "    </tr>\n",
       "    <tr>\n",
       "      <th>favouriteZones</th>\n",
       "      <th></th>\n",
       "      <th></th>\n",
       "      <th></th>\n",
       "      <th></th>\n",
       "      <th></th>\n",
       "      <th></th>\n",
       "      <th></th>\n",
       "      <th></th>\n",
       "      <th></th>\n",
       "      <th></th>\n",
       "      <th></th>\n",
       "      <th></th>\n",
       "      <th></th>\n",
       "    </tr>\n",
       "  </thead>\n",
       "  <tbody>\n",
       "    <tr>\n",
       "      <th></th>\n",
       "      <td>723967</td>\n",
       "      <td>723967</td>\n",
       "      <td>723967</td>\n",
       "      <td>723967</td>\n",
       "      <td>723967</td>\n",
       "      <td>325386</td>\n",
       "      <td>723967</td>\n",
       "      <td>723967</td>\n",
       "      <td>723967</td>\n",
       "      <td>723967</td>\n",
       "      <td>723967</td>\n",
       "      <td>723967</td>\n",
       "      <td>723967</td>\n",
       "    </tr>\n",
       "    <tr>\n",
       "      <th>[Aprica]</th>\n",
       "      <td>203</td>\n",
       "      <td>203</td>\n",
       "      <td>203</td>\n",
       "      <td>203</td>\n",
       "      <td>203</td>\n",
       "      <td>192</td>\n",
       "      <td>203</td>\n",
       "      <td>203</td>\n",
       "      <td>203</td>\n",
       "      <td>203</td>\n",
       "      <td>203</td>\n",
       "      <td>203</td>\n",
       "      <td>203</td>\n",
       "    </tr>\n",
       "    <tr>\n",
       "      <th>[Pontedilegno-Tonale]</th>\n",
       "      <td>189</td>\n",
       "      <td>189</td>\n",
       "      <td>189</td>\n",
       "      <td>189</td>\n",
       "      <td>189</td>\n",
       "      <td>162</td>\n",
       "      <td>189</td>\n",
       "      <td>189</td>\n",
       "      <td>189</td>\n",
       "      <td>189</td>\n",
       "      <td>189</td>\n",
       "      <td>189</td>\n",
       "      <td>189</td>\n",
       "    </tr>\n",
       "    <tr>\n",
       "      <th>[Barzio - Piani di Bobbio]</th>\n",
       "      <td>165</td>\n",
       "      <td>165</td>\n",
       "      <td>165</td>\n",
       "      <td>165</td>\n",
       "      <td>165</td>\n",
       "      <td>151</td>\n",
       "      <td>165</td>\n",
       "      <td>165</td>\n",
       "      <td>165</td>\n",
       "      <td>165</td>\n",
       "      <td>165</td>\n",
       "      <td>165</td>\n",
       "      <td>165</td>\n",
       "    </tr>\n",
       "    <tr>\n",
       "      <th>[Chiesa Valmalenco Bernina Ski Resort]</th>\n",
       "      <td>155</td>\n",
       "      <td>155</td>\n",
       "      <td>155</td>\n",
       "      <td>155</td>\n",
       "      <td>155</td>\n",
       "      <td>136</td>\n",
       "      <td>155</td>\n",
       "      <td>155</td>\n",
       "      <td>155</td>\n",
       "      <td>155</td>\n",
       "      <td>155</td>\n",
       "      <td>155</td>\n",
       "      <td>155</td>\n",
       "    </tr>\n",
       "    <tr>\n",
       "      <th>[Pila]</th>\n",
       "      <td>126</td>\n",
       "      <td>126</td>\n",
       "      <td>126</td>\n",
       "      <td>126</td>\n",
       "      <td>126</td>\n",
       "      <td>117</td>\n",
       "      <td>126</td>\n",
       "      <td>126</td>\n",
       "      <td>126</td>\n",
       "      <td>126</td>\n",
       "      <td>126</td>\n",
       "      <td>126</td>\n",
       "      <td>126</td>\n",
       "    </tr>\n",
       "    <tr>\n",
       "      <th>[Cervinia]</th>\n",
       "      <td>127</td>\n",
       "      <td>127</td>\n",
       "      <td>127</td>\n",
       "      <td>127</td>\n",
       "      <td>127</td>\n",
       "      <td>111</td>\n",
       "      <td>127</td>\n",
       "      <td>127</td>\n",
       "      <td>127</td>\n",
       "      <td>127</td>\n",
       "      <td>127</td>\n",
       "      <td>127</td>\n",
       "      <td>127</td>\n",
       "    </tr>\n",
       "    <tr>\n",
       "      <th>[Madesimo]</th>\n",
       "      <td>114</td>\n",
       "      <td>114</td>\n",
       "      <td>114</td>\n",
       "      <td>114</td>\n",
       "      <td>114</td>\n",
       "      <td>106</td>\n",
       "      <td>114</td>\n",
       "      <td>114</td>\n",
       "      <td>114</td>\n",
       "      <td>114</td>\n",
       "      <td>114</td>\n",
       "      <td>114</td>\n",
       "      <td>114</td>\n",
       "    </tr>\n",
       "    <tr>\n",
       "      <th>[Folgaria]</th>\n",
       "      <td>126</td>\n",
       "      <td>126</td>\n",
       "      <td>126</td>\n",
       "      <td>126</td>\n",
       "      <td>126</td>\n",
       "      <td>105</td>\n",
       "      <td>126</td>\n",
       "      <td>126</td>\n",
       "      <td>126</td>\n",
       "      <td>126</td>\n",
       "      <td>126</td>\n",
       "      <td>126</td>\n",
       "      <td>126</td>\n",
       "    </tr>\n",
       "    <tr>\n",
       "      <th>[Livigno]</th>\n",
       "      <td>108</td>\n",
       "      <td>108</td>\n",
       "      <td>108</td>\n",
       "      <td>108</td>\n",
       "      <td>108</td>\n",
       "      <td>100</td>\n",
       "      <td>108</td>\n",
       "      <td>108</td>\n",
       "      <td>108</td>\n",
       "      <td>108</td>\n",
       "      <td>108</td>\n",
       "      <td>108</td>\n",
       "      <td>108</td>\n",
       "    </tr>\n",
       "  </tbody>\n",
       "</table>\n",
       "</div>"
      ],
      "text/plain": [
       "                                        user.uid  createdAt  source  \\\n",
       "favouriteZones                                                        \n",
       "                                          723967     723967  723967   \n",
       "[Aprica]                                     203        203     203   \n",
       "[Pontedilegno-Tonale]                        189        189     189   \n",
       "[Barzio - Piani di Bobbio]                   165        165     165   \n",
       "[Chiesa Valmalenco Bernina Ski Resort]       155        155     155   \n",
       "[Pila]                                       126        126     126   \n",
       "[Cervinia]                                   127        127     127   \n",
       "[Madesimo]                                   114        114     114   \n",
       "[Folgaria]                                   126        126     126   \n",
       "[Livigno]                                    108        108     108   \n",
       "\n",
       "                                        isAnonymous  referralsCount    city  \\\n",
       "favouriteZones                                                                \n",
       "                                             723967          723967  325386   \n",
       "[Aprica]                                        203             203     192   \n",
       "[Pontedilegno-Tonale]                           189             189     162   \n",
       "[Barzio - Piani di Bobbio]                      165             165     151   \n",
       "[Chiesa Valmalenco Bernina Ski Resort]          155             155     136   \n",
       "[Pila]                                          126             126     117   \n",
       "[Cervinia]                                      127             127     111   \n",
       "[Madesimo]                                      114             114     106   \n",
       "[Folgaria]                                      126             126     105   \n",
       "[Livigno]                                       108             108     100   \n",
       "\n",
       "                                        language  googleId  appleId  \\\n",
       "favouriteZones                                                        \n",
       "                                          723967    723967   723967   \n",
       "[Aprica]                                     203       203      203   \n",
       "[Pontedilegno-Tonale]                        189       189      189   \n",
       "[Barzio - Piani di Bobbio]                   165       165      165   \n",
       "[Chiesa Valmalenco Bernina Ski Resort]       155       155      155   \n",
       "[Pila]                                       126       126      126   \n",
       "[Cervinia]                                   127       127      127   \n",
       "[Madesimo]                                   114       114      114   \n",
       "[Folgaria]                                   126       126      126   \n",
       "[Livigno]                                    108       108      108   \n",
       "\n",
       "                                        facebookId  referral.medium  \\\n",
       "favouriteZones                                                        \n",
       "                                            723967           723967   \n",
       "[Aprica]                                       203              203   \n",
       "[Pontedilegno-Tonale]                          189              189   \n",
       "[Barzio - Piani di Bobbio]                     165              165   \n",
       "[Chiesa Valmalenco Bernina Ski Resort]         155              155   \n",
       "[Pila]                                         126              126   \n",
       "[Cervinia]                                     127              127   \n",
       "[Madesimo]                                     114              114   \n",
       "[Folgaria]                                     126              126   \n",
       "[Livigno]                                      108              108   \n",
       "\n",
       "                                        referral.source  referral.type  \n",
       "favouriteZones                                                          \n",
       "                                                 723967         723967  \n",
       "[Aprica]                                            203            203  \n",
       "[Pontedilegno-Tonale]                               189            189  \n",
       "[Barzio - Piani di Bobbio]                          165            165  \n",
       "[Chiesa Valmalenco Bernina Ski Resort]              155            155  \n",
       "[Pila]                                              126            126  \n",
       "[Cervinia]                                          127            127  \n",
       "[Madesimo]                                          114            114  \n",
       "[Folgaria]                                          126            126  \n",
       "[Livigno]                                           108            108  "
      ]
     },
     "execution_count": 27,
     "metadata": {},
     "output_type": "execute_result"
    }
   ],
   "source": [
    "safeload_users_df.groupby('favouriteZones').count().sort_values(by=\"city\", ascending=False).head(10)"
   ]
  },
  {
   "cell_type": "code",
   "execution_count": 28,
   "id": "d61ea296",
   "metadata": {},
   "outputs": [],
   "source": [
    "# Take a look at the most appreciated combinations\n",
    "# Beware, that is not the best way to treat them, I'd like to have a counter for each specific location, but that is \n",
    "# something I'll deal with during the Exploratory Data Analysis..."
   ]
  },
  {
   "cell_type": "code",
   "execution_count": 29,
   "id": "6a65efc6",
   "metadata": {},
   "outputs": [
    {
     "data": {
      "text/html": [
       "<div>\n",
       "<style scoped>\n",
       "    .dataframe tbody tr th:only-of-type {\n",
       "        vertical-align: middle;\n",
       "    }\n",
       "\n",
       "    .dataframe tbody tr th {\n",
       "        vertical-align: top;\n",
       "    }\n",
       "\n",
       "    .dataframe thead th {\n",
       "        text-align: right;\n",
       "    }\n",
       "</style>\n",
       "<table border=\"1\" class=\"dataframe\">\n",
       "  <thead>\n",
       "    <tr style=\"text-align: right;\">\n",
       "      <th></th>\n",
       "      <th>user.uid</th>\n",
       "      <th>createdAt</th>\n",
       "      <th>source</th>\n",
       "      <th>isAnonymous</th>\n",
       "      <th>referralsCount</th>\n",
       "      <th>city</th>\n",
       "      <th>language</th>\n",
       "      <th>googleId</th>\n",
       "      <th>appleId</th>\n",
       "      <th>facebookId</th>\n",
       "      <th>referral.medium</th>\n",
       "      <th>referral.source</th>\n",
       "      <th>referral.type</th>\n",
       "    </tr>\n",
       "    <tr>\n",
       "      <th>favouriteZones</th>\n",
       "      <th></th>\n",
       "      <th></th>\n",
       "      <th></th>\n",
       "      <th></th>\n",
       "      <th></th>\n",
       "      <th></th>\n",
       "      <th></th>\n",
       "      <th></th>\n",
       "      <th></th>\n",
       "      <th></th>\n",
       "      <th></th>\n",
       "      <th></th>\n",
       "      <th></th>\n",
       "    </tr>\n",
       "  </thead>\n",
       "  <tbody>\n",
       "    <tr>\n",
       "      <th>[Alagna - Monterosa Ski,Champoluc - Monterosa Ski,Gressoney-La-Trinit√© - Monterosa Ski,La Thuile]</th>\n",
       "      <td>1</td>\n",
       "      <td>1</td>\n",
       "      <td>1</td>\n",
       "      <td>1</td>\n",
       "      <td>1</td>\n",
       "      <td>0</td>\n",
       "      <td>1</td>\n",
       "      <td>1</td>\n",
       "      <td>1</td>\n",
       "      <td>1</td>\n",
       "      <td>1</td>\n",
       "      <td>1</td>\n",
       "      <td>1</td>\n",
       "    </tr>\n",
       "    <tr>\n",
       "      <th>[Alagna - Monterosa Ski,Cervinia,Champoluc - Monterosa Ski,Gressoney-La-Trinit√© - Monterosa Ski,Pila]</th>\n",
       "      <td>1</td>\n",
       "      <td>1</td>\n",
       "      <td>1</td>\n",
       "      <td>1</td>\n",
       "      <td>1</td>\n",
       "      <td>0</td>\n",
       "      <td>1</td>\n",
       "      <td>1</td>\n",
       "      <td>1</td>\n",
       "      <td>1</td>\n",
       "      <td>1</td>\n",
       "      <td>1</td>\n",
       "      <td>1</td>\n",
       "    </tr>\n",
       "    <tr>\n",
       "      <th>[Alagna - Monterosa Ski,Cervinia,Champoluc - Monterosa Ski,Gressoney-La-Trinit√© - Monterosa Ski]</th>\n",
       "      <td>1</td>\n",
       "      <td>1</td>\n",
       "      <td>1</td>\n",
       "      <td>1</td>\n",
       "      <td>1</td>\n",
       "      <td>0</td>\n",
       "      <td>1</td>\n",
       "      <td>1</td>\n",
       "      <td>1</td>\n",
       "      <td>1</td>\n",
       "      <td>1</td>\n",
       "      <td>1</td>\n",
       "      <td>1</td>\n",
       "    </tr>\n",
       "    <tr>\n",
       "      <th>[Alagna - Monterosa Ski,Cervinia,Champoluc - Monterosa Ski,La Thuile,Pila]</th>\n",
       "      <td>1</td>\n",
       "      <td>1</td>\n",
       "      <td>1</td>\n",
       "      <td>1</td>\n",
       "      <td>1</td>\n",
       "      <td>0</td>\n",
       "      <td>1</td>\n",
       "      <td>1</td>\n",
       "      <td>1</td>\n",
       "      <td>1</td>\n",
       "      <td>1</td>\n",
       "      <td>1</td>\n",
       "      <td>1</td>\n",
       "    </tr>\n",
       "    <tr>\n",
       "      <th>[Alagna - Monterosa Ski,Barzio - Piani di Bobbio,La Thuile,Domobianca]</th>\n",
       "      <td>1</td>\n",
       "      <td>1</td>\n",
       "      <td>1</td>\n",
       "      <td>1</td>\n",
       "      <td>1</td>\n",
       "      <td>0</td>\n",
       "      <td>1</td>\n",
       "      <td>1</td>\n",
       "      <td>1</td>\n",
       "      <td>1</td>\n",
       "      <td>1</td>\n",
       "      <td>1</td>\n",
       "      <td>1</td>\n",
       "    </tr>\n",
       "    <tr>\n",
       "      <th>[Alagna - Monterosa Ski,Barzio - Piani di Bobbio,Cervinia,Champoluc - Monterosa Ski,Gressoney-La-Trinit√© - Monterosa Ski]</th>\n",
       "      <td>1</td>\n",
       "      <td>1</td>\n",
       "      <td>1</td>\n",
       "      <td>1</td>\n",
       "      <td>1</td>\n",
       "      <td>0</td>\n",
       "      <td>1</td>\n",
       "      <td>1</td>\n",
       "      <td>1</td>\n",
       "      <td>1</td>\n",
       "      <td>1</td>\n",
       "      <td>1</td>\n",
       "      <td>1</td>\n",
       "    </tr>\n",
       "    <tr>\n",
       "      <th>[Valtorta - Piani di Bobbio,Chiesa Valmalenco Bernina Ski Resort,Foppolo]</th>\n",
       "      <td>1</td>\n",
       "      <td>1</td>\n",
       "      <td>1</td>\n",
       "      <td>1</td>\n",
       "      <td>1</td>\n",
       "      <td>0</td>\n",
       "      <td>1</td>\n",
       "      <td>1</td>\n",
       "      <td>1</td>\n",
       "      <td>1</td>\n",
       "      <td>1</td>\n",
       "      <td>1</td>\n",
       "      <td>1</td>\n",
       "    </tr>\n",
       "    <tr>\n",
       "      <th>[Valtorta - Piani di Bobbio,Foppolo,Monte Pora,Piazzatorre,Selvino]</th>\n",
       "      <td>1</td>\n",
       "      <td>1</td>\n",
       "      <td>1</td>\n",
       "      <td>1</td>\n",
       "      <td>1</td>\n",
       "      <td>0</td>\n",
       "      <td>1</td>\n",
       "      <td>1</td>\n",
       "      <td>1</td>\n",
       "      <td>1</td>\n",
       "      <td>1</td>\n",
       "      <td>1</td>\n",
       "      <td>1</td>\n",
       "    </tr>\n",
       "    <tr>\n",
       "      <th>[Alagna - Monterosa Ski,Alpe di Siusi,Barzio - Piani di Bobbio,Cervinia,La Thuile]</th>\n",
       "      <td>1</td>\n",
       "      <td>1</td>\n",
       "      <td>1</td>\n",
       "      <td>1</td>\n",
       "      <td>1</td>\n",
       "      <td>0</td>\n",
       "      <td>1</td>\n",
       "      <td>1</td>\n",
       "      <td>1</td>\n",
       "      <td>1</td>\n",
       "      <td>1</td>\n",
       "      <td>1</td>\n",
       "      <td>1</td>\n",
       "    </tr>\n",
       "    <tr>\n",
       "      <th>[Alagna - Monterosa Ski,Alleghe - Civetta,Alpe Teglio,Alpe di Siusi,Alta Pusteria]</th>\n",
       "      <td>1</td>\n",
       "      <td>1</td>\n",
       "      <td>1</td>\n",
       "      <td>1</td>\n",
       "      <td>1</td>\n",
       "      <td>0</td>\n",
       "      <td>1</td>\n",
       "      <td>1</td>\n",
       "      <td>1</td>\n",
       "      <td>1</td>\n",
       "      <td>1</td>\n",
       "      <td>1</td>\n",
       "      <td>1</td>\n",
       "    </tr>\n",
       "  </tbody>\n",
       "</table>\n",
       "</div>"
      ],
      "text/plain": [
       "                                                    user.uid  createdAt  \\\n",
       "favouriteZones                                                            \n",
       "[Alagna - Monterosa Ski,Champoluc - Monterosa S...         1          1   \n",
       "[Alagna - Monterosa Ski,Cervinia,Champoluc - Mo...         1          1   \n",
       "[Alagna - Monterosa Ski,Cervinia,Champoluc - Mo...         1          1   \n",
       "[Alagna - Monterosa Ski,Cervinia,Champoluc - Mo...         1          1   \n",
       "[Alagna - Monterosa Ski,Barzio - Piani di Bobbi...         1          1   \n",
       "[Alagna - Monterosa Ski,Barzio - Piani di Bobbi...         1          1   \n",
       "[Valtorta - Piani di Bobbio,Chiesa Valmalenco B...         1          1   \n",
       "[Valtorta - Piani di Bobbio,Foppolo,Monte Pora,...         1          1   \n",
       "[Alagna - Monterosa Ski,Alpe di Siusi,Barzio - ...         1          1   \n",
       "[Alagna - Monterosa Ski,Alleghe - Civetta,Alpe ...         1          1   \n",
       "\n",
       "                                                    source  isAnonymous  \\\n",
       "favouriteZones                                                            \n",
       "[Alagna - Monterosa Ski,Champoluc - Monterosa S...       1            1   \n",
       "[Alagna - Monterosa Ski,Cervinia,Champoluc - Mo...       1            1   \n",
       "[Alagna - Monterosa Ski,Cervinia,Champoluc - Mo...       1            1   \n",
       "[Alagna - Monterosa Ski,Cervinia,Champoluc - Mo...       1            1   \n",
       "[Alagna - Monterosa Ski,Barzio - Piani di Bobbi...       1            1   \n",
       "[Alagna - Monterosa Ski,Barzio - Piani di Bobbi...       1            1   \n",
       "[Valtorta - Piani di Bobbio,Chiesa Valmalenco B...       1            1   \n",
       "[Valtorta - Piani di Bobbio,Foppolo,Monte Pora,...       1            1   \n",
       "[Alagna - Monterosa Ski,Alpe di Siusi,Barzio - ...       1            1   \n",
       "[Alagna - Monterosa Ski,Alleghe - Civetta,Alpe ...       1            1   \n",
       "\n",
       "                                                    referralsCount  city  \\\n",
       "favouriteZones                                                             \n",
       "[Alagna - Monterosa Ski,Champoluc - Monterosa S...               1     0   \n",
       "[Alagna - Monterosa Ski,Cervinia,Champoluc - Mo...               1     0   \n",
       "[Alagna - Monterosa Ski,Cervinia,Champoluc - Mo...               1     0   \n",
       "[Alagna - Monterosa Ski,Cervinia,Champoluc - Mo...               1     0   \n",
       "[Alagna - Monterosa Ski,Barzio - Piani di Bobbi...               1     0   \n",
       "[Alagna - Monterosa Ski,Barzio - Piani di Bobbi...               1     0   \n",
       "[Valtorta - Piani di Bobbio,Chiesa Valmalenco B...               1     0   \n",
       "[Valtorta - Piani di Bobbio,Foppolo,Monte Pora,...               1     0   \n",
       "[Alagna - Monterosa Ski,Alpe di Siusi,Barzio - ...               1     0   \n",
       "[Alagna - Monterosa Ski,Alleghe - Civetta,Alpe ...               1     0   \n",
       "\n",
       "                                                    language  googleId  \\\n",
       "favouriteZones                                                           \n",
       "[Alagna - Monterosa Ski,Champoluc - Monterosa S...         1         1   \n",
       "[Alagna - Monterosa Ski,Cervinia,Champoluc - Mo...         1         1   \n",
       "[Alagna - Monterosa Ski,Cervinia,Champoluc - Mo...         1         1   \n",
       "[Alagna - Monterosa Ski,Cervinia,Champoluc - Mo...         1         1   \n",
       "[Alagna - Monterosa Ski,Barzio - Piani di Bobbi...         1         1   \n",
       "[Alagna - Monterosa Ski,Barzio - Piani di Bobbi...         1         1   \n",
       "[Valtorta - Piani di Bobbio,Chiesa Valmalenco B...         1         1   \n",
       "[Valtorta - Piani di Bobbio,Foppolo,Monte Pora,...         1         1   \n",
       "[Alagna - Monterosa Ski,Alpe di Siusi,Barzio - ...         1         1   \n",
       "[Alagna - Monterosa Ski,Alleghe - Civetta,Alpe ...         1         1   \n",
       "\n",
       "                                                    appleId  facebookId  \\\n",
       "favouriteZones                                                            \n",
       "[Alagna - Monterosa Ski,Champoluc - Monterosa S...        1           1   \n",
       "[Alagna - Monterosa Ski,Cervinia,Champoluc - Mo...        1           1   \n",
       "[Alagna - Monterosa Ski,Cervinia,Champoluc - Mo...        1           1   \n",
       "[Alagna - Monterosa Ski,Cervinia,Champoluc - Mo...        1           1   \n",
       "[Alagna - Monterosa Ski,Barzio - Piani di Bobbi...        1           1   \n",
       "[Alagna - Monterosa Ski,Barzio - Piani di Bobbi...        1           1   \n",
       "[Valtorta - Piani di Bobbio,Chiesa Valmalenco B...        1           1   \n",
       "[Valtorta - Piani di Bobbio,Foppolo,Monte Pora,...        1           1   \n",
       "[Alagna - Monterosa Ski,Alpe di Siusi,Barzio - ...        1           1   \n",
       "[Alagna - Monterosa Ski,Alleghe - Civetta,Alpe ...        1           1   \n",
       "\n",
       "                                                    referral.medium  \\\n",
       "favouriteZones                                                        \n",
       "[Alagna - Monterosa Ski,Champoluc - Monterosa S...                1   \n",
       "[Alagna - Monterosa Ski,Cervinia,Champoluc - Mo...                1   \n",
       "[Alagna - Monterosa Ski,Cervinia,Champoluc - Mo...                1   \n",
       "[Alagna - Monterosa Ski,Cervinia,Champoluc - Mo...                1   \n",
       "[Alagna - Monterosa Ski,Barzio - Piani di Bobbi...                1   \n",
       "[Alagna - Monterosa Ski,Barzio - Piani di Bobbi...                1   \n",
       "[Valtorta - Piani di Bobbio,Chiesa Valmalenco B...                1   \n",
       "[Valtorta - Piani di Bobbio,Foppolo,Monte Pora,...                1   \n",
       "[Alagna - Monterosa Ski,Alpe di Siusi,Barzio - ...                1   \n",
       "[Alagna - Monterosa Ski,Alleghe - Civetta,Alpe ...                1   \n",
       "\n",
       "                                                    referral.source  \\\n",
       "favouriteZones                                                        \n",
       "[Alagna - Monterosa Ski,Champoluc - Monterosa S...                1   \n",
       "[Alagna - Monterosa Ski,Cervinia,Champoluc - Mo...                1   \n",
       "[Alagna - Monterosa Ski,Cervinia,Champoluc - Mo...                1   \n",
       "[Alagna - Monterosa Ski,Cervinia,Champoluc - Mo...                1   \n",
       "[Alagna - Monterosa Ski,Barzio - Piani di Bobbi...                1   \n",
       "[Alagna - Monterosa Ski,Barzio - Piani di Bobbi...                1   \n",
       "[Valtorta - Piani di Bobbio,Chiesa Valmalenco B...                1   \n",
       "[Valtorta - Piani di Bobbio,Foppolo,Monte Pora,...                1   \n",
       "[Alagna - Monterosa Ski,Alpe di Siusi,Barzio - ...                1   \n",
       "[Alagna - Monterosa Ski,Alleghe - Civetta,Alpe ...                1   \n",
       "\n",
       "                                                    referral.type  \n",
       "favouriteZones                                                     \n",
       "[Alagna - Monterosa Ski,Champoluc - Monterosa S...              1  \n",
       "[Alagna - Monterosa Ski,Cervinia,Champoluc - Mo...              1  \n",
       "[Alagna - Monterosa Ski,Cervinia,Champoluc - Mo...              1  \n",
       "[Alagna - Monterosa Ski,Cervinia,Champoluc - Mo...              1  \n",
       "[Alagna - Monterosa Ski,Barzio - Piani di Bobbi...              1  \n",
       "[Alagna - Monterosa Ski,Barzio - Piani di Bobbi...              1  \n",
       "[Valtorta - Piani di Bobbio,Chiesa Valmalenco B...              1  \n",
       "[Valtorta - Piani di Bobbio,Foppolo,Monte Pora,...              1  \n",
       "[Alagna - Monterosa Ski,Alpe di Siusi,Barzio - ...              1  \n",
       "[Alagna - Monterosa Ski,Alleghe - Civetta,Alpe ...              1  "
      ]
     },
     "execution_count": 29,
     "metadata": {},
     "output_type": "execute_result"
    }
   ],
   "source": [
    "safeload_users_df.groupby('favouriteZones').count().sort_values(by=\"city\", ascending=False).tail(10)"
   ]
  },
  {
   "cell_type": "code",
   "execution_count": 30,
   "id": "03f278da",
   "metadata": {},
   "outputs": [],
   "source": [
    "# Read and fix the \"final\" users data\n",
    "from ftfy import fix_text\n",
    "\n",
    "users_df = pd.read_csv(users_in_path,\n",
    "                       keep_default_na=False,\n",
    "                       na_values=NA_VALUES, # assign the ones previously defined\n",
    "                       dtype={\n",
    "                           'user.uid': 'string',\n",
    "                           'createdAt': 'string',\n",
    "                           'source': 'string',\n",
    "                           'isAnonymous': 'boolean',\n",
    "                           'referralsCount': 'Int64',\n",
    "                           'city': 'string',\n",
    "                           'language': 'string',\n",
    "                           'googleId': 'boolean',\n",
    "                           'appleId': 'boolean',\n",
    "                           'facebookId': 'boolean',\n",
    "                           'referral.medium': 'string',\n",
    "                           'referral.source': 'string',\n",
    "                           'referral.type': 'Int64',\n",
    "                           'favouriteZones': 'string'\n",
    "                       }\n",
    "                       )\n",
    "\n",
    "users_df['createdAt'] = pd.to_datetime(users_df['createdAt'])\n",
    "\n",
    "users_df['city'] = (users_df['city']\n",
    "                    .apply(lambda x:\n",
    "                           u.clean_str(x, 'lower')\n",
    "                           if pd.notnull(x)\n",
    "                           else None\n",
    "                           )\n",
    "                    )\n",
    "users_df['city'] = users_df['city'].apply(\n",
    "    lambda x: fix_text(x) if not (str(x).strip() in NA_VALUES) else x\n",
    ")\n",
    "\n",
    "\n",
    "users_df['referral.medium'] = (users_df['referral.medium']\n",
    "                        .apply(lambda x:\n",
    "                               u.clean_str(x, 'lower')\n",
    "                               if pd.notnull(x)\n",
    "                               else None\n",
    "                               )\n",
    "                        )\n",
    "\n",
    "users_df['referral.source'] = (users_df['referral.source']\n",
    "                        .apply(lambda x:\n",
    "                               u.clean_str(x, 'lower')\n",
    "                               if pd.notnull(x)\n",
    "                               else None\n",
    "                               )\n",
    "                        )\n",
    "\n",
    "# create an actual list out of the string\n",
    "users_df['favouriteZones'] = (users_df['favouriteZones']\n",
    "                              .apply(lambda x:\n",
    "                                     u.get_list_from_str(x)\n",
    "                                     if pd.notnull(x)\n",
    "                                     else []\n",
    "                                     )\n",
    "                              )"
   ]
  },
  {
   "cell_type": "code",
   "execution_count": 31,
   "id": "c8f22faf",
   "metadata": {},
   "outputs": [
    {
     "data": {
      "text/plain": [
       "0"
      ]
     },
     "metadata": {},
     "output_type": "display_data"
    },
    {
     "data": {
      "text/html": [
       "<div>\n",
       "<style scoped>\n",
       "    .dataframe tbody tr th:only-of-type {\n",
       "        vertical-align: middle;\n",
       "    }\n",
       "\n",
       "    .dataframe tbody tr th {\n",
       "        vertical-align: top;\n",
       "    }\n",
       "\n",
       "    .dataframe thead th {\n",
       "        text-align: right;\n",
       "    }\n",
       "</style>\n",
       "<table border=\"1\" class=\"dataframe\">\n",
       "  <thead>\n",
       "    <tr style=\"text-align: right;\">\n",
       "      <th></th>\n",
       "      <th>num_rows</th>\n",
       "    </tr>\n",
       "    <tr>\n",
       "      <th>user.uid</th>\n",
       "      <th></th>\n",
       "    </tr>\n",
       "  </thead>\n",
       "  <tbody>\n",
       "  </tbody>\n",
       "</table>\n",
       "</div>"
      ],
      "text/plain": [
       "Empty DataFrame\n",
       "Columns: [num_rows]\n",
       "Index: []"
      ]
     },
     "metadata": {},
     "output_type": "display_data"
    }
   ],
   "source": [
    "# CHECK Primary Key VALIDITY\n",
    "\n",
    "# SELECT count(1) as num_rows\n",
    "# FROM users_df\n",
    "# WHERE user.uid IS NULL\n",
    "\n",
    "display(\n",
    "    users_df\n",
    "    .loc[lambda tbl: tbl['user.uid'].isnull()]\n",
    "    .assign(aux=1.0) \n",
    "    .shape[0]\n",
    ")\n",
    "\n",
    "\n",
    "# SELECT user.uid, count(1) as num_rows\n",
    "# FROM users_df\n",
    "# GROUP BY user.id\n",
    "# HAVING num_rows > 1\n",
    "\n",
    "display(\n",
    "    users_df\n",
    "    .assign(aux=1.0) # add a new column named 'aux' with value 1, useful to count rows\n",
    "    .groupby(['user.uid'], dropna=False)\n",
    "    .agg(num_rows=('aux', pd.Series.count)) # 'agg' creates a new column named 'num_rows' whose values are the result of the application of the function 'pd.Series.count' to the column 'aux'\n",
    "                                            \n",
    "    .loc[lambda tbl: tbl['num_rows'] > 1] # lamba used here takes as argument (tbl) the same item I do the .loc on,\n",
    "                                          # this case the entire dataframe.\n",
    "                                          # When doing .apply(lambda x) x is a \"portion\" (like a row) of the item I do,\n",
    "                                          # for example, the .loc on.\n",
    ")"
   ]
  },
  {
   "cell_type": "code",
   "execution_count": 32,
   "id": "40be6a12",
   "metadata": {},
   "outputs": [
    {
     "data": {
      "text/html": [
       "<div>\n",
       "<style scoped>\n",
       "    .dataframe tbody tr th:only-of-type {\n",
       "        vertical-align: middle;\n",
       "    }\n",
       "\n",
       "    .dataframe tbody tr th {\n",
       "        vertical-align: top;\n",
       "    }\n",
       "\n",
       "    .dataframe thead th {\n",
       "        text-align: right;\n",
       "    }\n",
       "</style>\n",
       "<table border=\"1\" class=\"dataframe\">\n",
       "  <thead>\n",
       "    <tr style=\"text-align: right;\">\n",
       "      <th></th>\n",
       "      <th>NameNewColumn</th>\n",
       "    </tr>\n",
       "    <tr>\n",
       "      <th>user.uid</th>\n",
       "      <th></th>\n",
       "    </tr>\n",
       "  </thead>\n",
       "  <tbody>\n",
       "    <tr>\n",
       "      <th>87aezxkbjcfr1zgs6u3dt1cqvl</th>\n",
       "      <td>1</td>\n",
       "    </tr>\n",
       "    <tr>\n",
       "      <th>adhwlj2x4rfvugzef8iaijnpjd</th>\n",
       "      <td>1</td>\n",
       "    </tr>\n",
       "    <tr>\n",
       "      <th>ez4oclwv92ofoeklnccp4nflgz</th>\n",
       "      <td>1</td>\n",
       "    </tr>\n",
       "    <tr>\n",
       "      <th>fol9wcwjvltb0vus6shl0zakfl</th>\n",
       "      <td>1</td>\n",
       "    </tr>\n",
       "    <tr>\n",
       "      <th>gg5ntjlexfsaoagecwkvyj7txu</th>\n",
       "      <td>1</td>\n",
       "    </tr>\n",
       "    <tr>\n",
       "      <th>mzgjl3z7tfcmmum8k6nanthskk</th>\n",
       "      <td>1</td>\n",
       "    </tr>\n",
       "    <tr>\n",
       "      <th>ud3cuumrysslvy5hzgsq6ygovh</th>\n",
       "      <td>1</td>\n",
       "    </tr>\n",
       "    <tr>\n",
       "      <th>vgf8cmv8xnp0ifmyugwdzksz3s</th>\n",
       "      <td>1</td>\n",
       "    </tr>\n",
       "    <tr>\n",
       "      <th>y35dhzdewid6nzq5ctivwcogxd</th>\n",
       "      <td>1</td>\n",
       "    </tr>\n",
       "  </tbody>\n",
       "</table>\n",
       "</div>"
      ],
      "text/plain": [
       "                            NameNewColumn\n",
       "user.uid                                 \n",
       "87aezxkbjcfr1zgs6u3dt1cqvl              1\n",
       "adhwlj2x4rfvugzef8iaijnpjd              1\n",
       "ez4oclwv92ofoeklnccp4nflgz              1\n",
       "fol9wcwjvltb0vus6shl0zakfl              1\n",
       "gg5ntjlexfsaoagecwkvyj7txu              1\n",
       "mzgjl3z7tfcmmum8k6nanthskk              1\n",
       "ud3cuumrysslvy5hzgsq6ygovh              1\n",
       "vgf8cmv8xnp0ifmyugwdzksz3s              1\n",
       "y35dhzdewid6nzq5ctivwcogxd              1"
      ]
     },
     "execution_count": 32,
     "metadata": {},
     "output_type": "execute_result"
    }
   ],
   "source": [
    "# example of not having null\n",
    "tool_data = users_df[1:10]\n",
    "tool_data.assign(aux=1.0).groupby(['user.uid'], dropna=False).agg(NameNewColumn=('aux', pd.Series.count))"
   ]
  },
  {
   "cell_type": "code",
   "execution_count": 33,
   "id": "b33a0d71",
   "metadata": {},
   "outputs": [
    {
     "data": {
      "text/plain": [
       "(728598, 14)"
      ]
     },
     "execution_count": 33,
     "metadata": {},
     "output_type": "execute_result"
    }
   ],
   "source": [
    "# A look at the 'final' data\n",
    "users_df.shape"
   ]
  },
  {
   "cell_type": "code",
   "execution_count": 34,
   "id": "fab23244",
   "metadata": {},
   "outputs": [
    {
     "data": {
      "text/html": [
       "<div>\n",
       "<style scoped>\n",
       "    .dataframe tbody tr th:only-of-type {\n",
       "        vertical-align: middle;\n",
       "    }\n",
       "\n",
       "    .dataframe tbody tr th {\n",
       "        vertical-align: top;\n",
       "    }\n",
       "\n",
       "    .dataframe thead th {\n",
       "        text-align: right;\n",
       "    }\n",
       "</style>\n",
       "<table border=\"1\" class=\"dataframe\">\n",
       "  <thead>\n",
       "    <tr style=\"text-align: right;\">\n",
       "      <th></th>\n",
       "      <th>user.uid</th>\n",
       "      <th>createdAt</th>\n",
       "      <th>source</th>\n",
       "      <th>isAnonymous</th>\n",
       "      <th>referralsCount</th>\n",
       "      <th>city</th>\n",
       "      <th>language</th>\n",
       "      <th>googleId</th>\n",
       "      <th>appleId</th>\n",
       "      <th>facebookId</th>\n",
       "      <th>referral.medium</th>\n",
       "      <th>referral.source</th>\n",
       "      <th>referral.type</th>\n",
       "      <th>favouriteZones</th>\n",
       "    </tr>\n",
       "  </thead>\n",
       "  <tbody>\n",
       "    <tr>\n",
       "      <th>728588</th>\n",
       "      <td>o2xjmToYS7bQgfVxe7B8zoxGgz3</td>\n",
       "      <td>2024-12-29</td>\n",
       "      <td>website</td>\n",
       "      <td>False</td>\n",
       "      <td>&lt;NA&gt;</td>\n",
       "      <td>zwolle</td>\n",
       "      <td>en</td>\n",
       "      <td>True</td>\n",
       "      <td>&lt;NA&gt;</td>\n",
       "      <td>&lt;NA&gt;</td>\n",
       "      <td>None</td>\n",
       "      <td>None</td>\n",
       "      <td>&lt;NA&gt;</td>\n",
       "      <td>[]</td>\n",
       "    </tr>\n",
       "    <tr>\n",
       "      <th>728589</th>\n",
       "      <td>saP3XuuUn4gR22EyBH1dgs5uTHy</td>\n",
       "      <td>2023-12-27</td>\n",
       "      <td>website</td>\n",
       "      <td>False</td>\n",
       "      <td>0</td>\n",
       "      <td>zwolle</td>\n",
       "      <td>&lt;NA&gt;</td>\n",
       "      <td>&lt;NA&gt;</td>\n",
       "      <td>&lt;NA&gt;</td>\n",
       "      <td>&lt;NA&gt;</td>\n",
       "      <td>None</td>\n",
       "      <td>None</td>\n",
       "      <td>&lt;NA&gt;</td>\n",
       "      <td>[]</td>\n",
       "    </tr>\n",
       "    <tr>\n",
       "      <th>728590</th>\n",
       "      <td>txpG2bQl8Ve45ANraCVV40JSR71</td>\n",
       "      <td>2022-01-10</td>\n",
       "      <td>website</td>\n",
       "      <td>False</td>\n",
       "      <td>&lt;NA&gt;</td>\n",
       "      <td>zwolle</td>\n",
       "      <td>&lt;NA&gt;</td>\n",
       "      <td>&lt;NA&gt;</td>\n",
       "      <td>&lt;NA&gt;</td>\n",
       "      <td>&lt;NA&gt;</td>\n",
       "      <td>None</td>\n",
       "      <td>None</td>\n",
       "      <td>&lt;NA&gt;</td>\n",
       "      <td>[]</td>\n",
       "    </tr>\n",
       "    <tr>\n",
       "      <th>728591</th>\n",
       "      <td>ulOwZeYSFOXLeIS3mXq5NRz1WGK</td>\n",
       "      <td>2025-01-20</td>\n",
       "      <td>website</td>\n",
       "      <td>False</td>\n",
       "      <td>&lt;NA&gt;</td>\n",
       "      <td>zwolle</td>\n",
       "      <td>&lt;NA&gt;</td>\n",
       "      <td>&lt;NA&gt;</td>\n",
       "      <td>&lt;NA&gt;</td>\n",
       "      <td>&lt;NA&gt;</td>\n",
       "      <td>None</td>\n",
       "      <td>None</td>\n",
       "      <td>&lt;NA&gt;</td>\n",
       "      <td>[]</td>\n",
       "    </tr>\n",
       "    <tr>\n",
       "      <th>728592</th>\n",
       "      <td>C1IV755uejbd5mVaJh3tsX0GQ1o</td>\n",
       "      <td>2023-02-21</td>\n",
       "      <td>website</td>\n",
       "      <td>False</td>\n",
       "      <td>0</td>\n",
       "      <td>zyrardow</td>\n",
       "      <td>it</td>\n",
       "      <td>True</td>\n",
       "      <td>&lt;NA&gt;</td>\n",
       "      <td>&lt;NA&gt;</td>\n",
       "      <td>None</td>\n",
       "      <td>None</td>\n",
       "      <td>&lt;NA&gt;</td>\n",
       "      <td>[]</td>\n",
       "    </tr>\n",
       "    <tr>\n",
       "      <th>728593</th>\n",
       "      <td>14G4T7sZLhSnMkUXmAdOVCuevaL</td>\n",
       "      <td>2023-11-24</td>\n",
       "      <td>website</td>\n",
       "      <td>False</td>\n",
       "      <td>0</td>\n",
       "      <td>zywiec</td>\n",
       "      <td>it</td>\n",
       "      <td>True</td>\n",
       "      <td>&lt;NA&gt;</td>\n",
       "      <td>&lt;NA&gt;</td>\n",
       "      <td>None</td>\n",
       "      <td>None</td>\n",
       "      <td>&lt;NA&gt;</td>\n",
       "      <td>[]</td>\n",
       "    </tr>\n",
       "    <tr>\n",
       "      <th>728594</th>\n",
       "      <td>qBYuW5TV7dN1zm7bzGtOzIsGoXv</td>\n",
       "      <td>2025-01-09</td>\n",
       "      <td>website</td>\n",
       "      <td>False</td>\n",
       "      <td>&lt;NA&gt;</td>\n",
       "      <td>🇬🇧</td>\n",
       "      <td>en</td>\n",
       "      <td>&lt;NA&gt;</td>\n",
       "      <td>&lt;NA&gt;</td>\n",
       "      <td>&lt;NA&gt;</td>\n",
       "      <td>None</td>\n",
       "      <td>None</td>\n",
       "      <td>&lt;NA&gt;</td>\n",
       "      <td>[]</td>\n",
       "    </tr>\n",
       "    <tr>\n",
       "      <th>728595</th>\n",
       "      <td>QYVsQw7QvTQRFswaLA2nO8v0FhH</td>\n",
       "      <td>2022-01-03</td>\n",
       "      <td>website</td>\n",
       "      <td>False</td>\n",
       "      <td>&lt;NA&gt;</td>\n",
       "      <td>None</td>\n",
       "      <td>it</td>\n",
       "      <td>&lt;NA&gt;</td>\n",
       "      <td>&lt;NA&gt;</td>\n",
       "      <td>&lt;NA&gt;</td>\n",
       "      <td>None</td>\n",
       "      <td>None</td>\n",
       "      <td>&lt;NA&gt;</td>\n",
       "      <td>[]</td>\n",
       "    </tr>\n",
       "    <tr>\n",
       "      <th>728596</th>\n",
       "      <td>hKVbfqQpPYXQ28Syz8gP7xmpofL</td>\n",
       "      <td>2024-01-08</td>\n",
       "      <td>website</td>\n",
       "      <td>False</td>\n",
       "      <td>0</td>\n",
       "      <td>None</td>\n",
       "      <td>it</td>\n",
       "      <td>&lt;NA&gt;</td>\n",
       "      <td>&lt;NA&gt;</td>\n",
       "      <td>&lt;NA&gt;</td>\n",
       "      <td>None</td>\n",
       "      <td>None</td>\n",
       "      <td>&lt;NA&gt;</td>\n",
       "      <td>[]</td>\n",
       "    </tr>\n",
       "    <tr>\n",
       "      <th>728597</th>\n",
       "      <td>oWRue3fvr5P8S1FCziP1im53XOm</td>\n",
       "      <td>2025-02-14</td>\n",
       "      <td>app</td>\n",
       "      <td>False</td>\n",
       "      <td>&lt;NA&gt;</td>\n",
       "      <td>None</td>\n",
       "      <td>&lt;NA&gt;</td>\n",
       "      <td>&lt;NA&gt;</td>\n",
       "      <td>&lt;NA&gt;</td>\n",
       "      <td>&lt;NA&gt;</td>\n",
       "      <td>None</td>\n",
       "      <td>None</td>\n",
       "      <td>&lt;NA&gt;</td>\n",
       "      <td>[]</td>\n",
       "    </tr>\n",
       "  </tbody>\n",
       "</table>\n",
       "</div>"
      ],
      "text/plain": [
       "                           user.uid  createdAt   source  isAnonymous  \\\n",
       "728588  o2xjmToYS7bQgfVxe7B8zoxGgz3 2024-12-29  website        False   \n",
       "728589  saP3XuuUn4gR22EyBH1dgs5uTHy 2023-12-27  website        False   \n",
       "728590  txpG2bQl8Ve45ANraCVV40JSR71 2022-01-10  website        False   \n",
       "728591  ulOwZeYSFOXLeIS3mXq5NRz1WGK 2025-01-20  website        False   \n",
       "728592  C1IV755uejbd5mVaJh3tsX0GQ1o 2023-02-21  website        False   \n",
       "728593  14G4T7sZLhSnMkUXmAdOVCuevaL 2023-11-24  website        False   \n",
       "728594  qBYuW5TV7dN1zm7bzGtOzIsGoXv 2025-01-09  website        False   \n",
       "728595  QYVsQw7QvTQRFswaLA2nO8v0FhH 2022-01-03  website        False   \n",
       "728596  hKVbfqQpPYXQ28Syz8gP7xmpofL 2024-01-08  website        False   \n",
       "728597  oWRue3fvr5P8S1FCziP1im53XOm 2025-02-14      app        False   \n",
       "\n",
       "        referralsCount      city language  googleId  appleId  facebookId  \\\n",
       "728588            <NA>    zwolle       en      True     <NA>        <NA>   \n",
       "728589               0    zwolle     <NA>      <NA>     <NA>        <NA>   \n",
       "728590            <NA>    zwolle     <NA>      <NA>     <NA>        <NA>   \n",
       "728591            <NA>    zwolle     <NA>      <NA>     <NA>        <NA>   \n",
       "728592               0  zyrardow       it      True     <NA>        <NA>   \n",
       "728593               0    zywiec       it      True     <NA>        <NA>   \n",
       "728594            <NA>        🇬🇧       en      <NA>     <NA>        <NA>   \n",
       "728595            <NA>      None       it      <NA>     <NA>        <NA>   \n",
       "728596               0      None       it      <NA>     <NA>        <NA>   \n",
       "728597            <NA>      None     <NA>      <NA>     <NA>        <NA>   \n",
       "\n",
       "       referral.medium referral.source  referral.type favouriteZones  \n",
       "728588            None            None           <NA>             []  \n",
       "728589            None            None           <NA>             []  \n",
       "728590            None            None           <NA>             []  \n",
       "728591            None            None           <NA>             []  \n",
       "728592            None            None           <NA>             []  \n",
       "728593            None            None           <NA>             []  \n",
       "728594            None            None           <NA>             []  \n",
       "728595            None            None           <NA>             []  \n",
       "728596            None            None           <NA>             []  \n",
       "728597            None            None           <NA>             []  "
      ]
     },
     "execution_count": 34,
     "metadata": {},
     "output_type": "execute_result"
    }
   ],
   "source": [
    "users_df.tail(10)"
   ]
  },
  {
   "cell_type": "markdown",
   "id": "a1317d84",
   "metadata": {},
   "source": [
    "## Load Profiles"
   ]
  },
  {
   "cell_type": "code",
   "execution_count": 35,
   "id": "43069091",
   "metadata": {},
   "outputs": [],
   "source": [
    "safeload_profiles_df = pd.read_csv(profiles_in_path,\n",
    "                                   dtype='string',\n",
    "                                   na_values=[],\n",
    "                                   keep_default_na=False\n",
    "                                   )"
   ]
  },
  {
   "cell_type": "code",
   "execution_count": 36,
   "id": "55caf006",
   "metadata": {},
   "outputs": [
    {
     "data": {
      "text/plain": [
       "Index(['user.uid', 'profile.uid', 'birthday', 'sex', 'city', 'height',\n",
       "       'weight', 'skibootsSize', 'level', 'types'],\n",
       "      dtype='object')"
      ]
     },
     "execution_count": 36,
     "metadata": {},
     "output_type": "execute_result"
    }
   ],
   "source": [
    "safeload_profiles_df.columns"
   ]
  },
  {
   "cell_type": "code",
   "execution_count": 37,
   "id": "3b5b67e2",
   "metadata": {},
   "outputs": [
    {
     "data": {
      "text/plain": [
       "(97158, 10)"
      ]
     },
     "execution_count": 37,
     "metadata": {},
     "output_type": "execute_result"
    }
   ],
   "source": [
    "safeload_profiles_df.shape"
   ]
  },
  {
   "cell_type": "code",
   "execution_count": 38,
   "id": "a7cc278f",
   "metadata": {},
   "outputs": [
    {
     "data": {
      "text/plain": [
       "<StringArray>\n",
       "['9oqhfw0zsc5prlkwh9gk', 'miejgay5t0m7v7gsjffo', 'vi88jcuymkmxkandvy3l',\n",
       " 'p54s6m0hejd4nucibz4e', 'zkzpf8fnha6s4kmc2rwn', 'bqnrhm4itmwhofvxxxqh',\n",
       " 'gci1tdbxhtyvcdacfewi', 'mmnf0ffbevaspno2u6zf', 'sw6ezr1tlxcpndhgka1s',\n",
       " 'nuuzmulrxdbrhww3o70q',\n",
       " ...\n",
       " '1r2dtjklawjzgnbfcvdr', 'mmrzndbjrwu9rycgzhtp', 'hvj0s7frv7wuwgohq1hh',\n",
       " 'le259lscdxhmvwjgfpym', 'balfq1j0nsnlztp2ntjh', 'rrjectzobab0e0yjg7ln',\n",
       " 'c1xmzeeq0shd5wq5j3mk', 'miu7ipqiuvwnmdjrcfbj', 'i5jcva8arghxpflohvra',\n",
       " 'qve3xjgnvnhqtevfa0sf']\n",
       "Length: 97158, dtype: string"
      ]
     },
     "execution_count": 38,
     "metadata": {},
     "output_type": "execute_result"
    }
   ],
   "source": [
    "col_to_check = 'profile.uid'\n",
    "safeload_profiles_df[col_to_check].unique()\n",
    "# that's the primary key and, as expected, has the same dimension of the dataset"
   ]
  },
  {
   "cell_type": "code",
   "execution_count": 39,
   "id": "1fd3c160",
   "metadata": {},
   "outputs": [
    {
     "data": {
      "text/plain": [
       "<StringArray>\n",
       "['tvvgjd4sdgfucn33brkigrnjjv', 'iwu2obhsgzamrxcp4wnoxlf5b0',\n",
       " 'bmgilq4eatrpt2hhwamnbcqnir', 'ysbrr5ve9azqvr1jw72expbnxr',\n",
       " 'txy3ls535wzclygjnlt2gjalm1', 'f73bpmavwla9pho2qpgi5n7cdx',\n",
       " '2ch0jf5weordcmluqz51cuz1vb', 'fi9xtuvfhfqqkm9kcvonh7b13m',\n",
       " 'nu7wfxo3u3cxbb5zfhelggfg1y', 'iuviiqflcjydzbvj7xbveexauh',\n",
       " ...\n",
       " '1h5aimn0ioc8z9wdybnvsneub3', 'ajvmewdjmntwl3qe9freo9020j',\n",
       " 'hx4c5qjla6fwtkdzflhyy3leaa', 'kayyuolrnvrznzlcausph85t9a',\n",
       " 'z2hubzult5xm8ixddc6xv2otyz', 'j2jgcghmxhbwuocf0koypm27be',\n",
       " 'nbf8wvwtnrv97vdu1pk00drcxs', 'ucyqnolgulsap6k3835jfeapdk',\n",
       " 'jzlczkcpaphgkgfljwu1tn3usl', 'mszngxuiuieb06relyhvduaxmq']\n",
       "Length: 64238, dtype: string"
      ]
     },
     "execution_count": 39,
     "metadata": {},
     "output_type": "execute_result"
    }
   ],
   "source": [
    "col_to_check = 'user.uid'\n",
    "safeload_profiles_df[col_to_check].unique()\n",
    "# oss 'profiles' > 'user', meaning that more profiles (mother, father, daughter) are related to the same user account"
   ]
  },
  {
   "cell_type": "code",
   "execution_count": 40,
   "id": "0731e898",
   "metadata": {},
   "outputs": [
    {
     "data": {
      "text/plain": [
       "<StringArray>\n",
       "['2000-05-23', '1994-08-07', '1992-05-06', '1998-02-16', '1994-05-12',\n",
       " '1979-12-09', '1982-02-02', '2009-09-18', '2000-03-04', '2004-02-22',\n",
       " ...\n",
       " '2024-01-17', '1956-09-26', '2016-06-28', '2018-12-08', '1964-09-09',\n",
       " '2021-02-25', '1962-02-13', '1959-06-14', '1972-05-09', '2019-03-13']\n",
       "Length: 19464, dtype: string"
      ]
     },
     "execution_count": 40,
     "metadata": {},
     "output_type": "execute_result"
    }
   ],
   "source": [
    "col_to_check = 'birthday'\n",
    "safeload_profiles_df[col_to_check].unique()"
   ]
  },
  {
   "cell_type": "code",
   "execution_count": 41,
   "id": "cf05c91c",
   "metadata": {},
   "outputs": [
    {
     "data": {
      "text/plain": [
       "<StringArray>\n",
       "['M', 'F', '', 'Uomo', 'Maschio', '\"\"', 'm', 'maschio']\n",
       "Length: 8, dtype: string"
      ]
     },
     "execution_count": 41,
     "metadata": {},
     "output_type": "execute_result"
    }
   ],
   "source": [
    "col_to_check = 'sex'\n",
    "safeload_profiles_df[col_to_check].unique()\n",
    "# will be needed a function to standardize them"
   ]
  },
  {
   "cell_type": "code",
   "execution_count": 42,
   "id": "456e6d33",
   "metadata": {},
   "outputs": [
    {
     "data": {
      "text/plain": [
       "<StringArray>\n",
       "[         'Zwolle',          'Zurigo',         'Z√ºrich',          'Zurich',\n",
       "       'ZUR MOSHE',        'Zugliano',            'zone',    'Zola Predosa',\n",
       "    'Zola predosa',   'Zogno Bergamo',\n",
       " ...\n",
       "          'Acerra',       'Abu Dhabi',         'Absecon',       'Aboncourt',\n",
       "        'Aberdeen',   'Abbiategrasso',   'ABBIATEGRASSO',   'abbiategrasso',\n",
       " 'Abbadia Lariana',          'Aarhus']\n",
       "Length: 3227, dtype: string"
      ]
     },
     "execution_count": 42,
     "metadata": {},
     "output_type": "execute_result"
    }
   ],
   "source": [
    "col_to_check = 'city'\n",
    "safeload_profiles_df[col_to_check].unique()"
   ]
  },
  {
   "cell_type": "code",
   "execution_count": 43,
   "id": "dcc7dacf",
   "metadata": {},
   "outputs": [],
   "source": [
    "safeload_profiles_df['city'] = (safeload_profiles_df['city']\n",
    "                                .apply(lambda x:\n",
    "                                       u.clean_str(x, 'lower')\n",
    "                                       if pd.notnull(x)\n",
    "                                       else None\n",
    "                                       )\n",
    "                                )\n",
    "safeload_profiles_df['city'] = safeload_profiles_df['city'].apply(\n",
    "    lambda x: fix_text(x) if not (str(x).strip() in NA_VALUES) else x\n",
    ")"
   ]
  },
  {
   "cell_type": "code",
   "execution_count": 44,
   "id": "f475e063",
   "metadata": {},
   "outputs": [
    {
     "data": {
      "text/plain": [
       "array(['zwolle', 'zurigo', 'zürich', ..., 'abbiategrasso',\n",
       "       'abbadia lariana', 'aarhus'], shape=(2464,), dtype=object)"
      ]
     },
     "execution_count": 44,
     "metadata": {},
     "output_type": "execute_result"
    }
   ],
   "source": [
    "safeload_profiles_df[col_to_check].unique()"
   ]
  },
  {
   "cell_type": "code",
   "execution_count": 45,
   "id": "eca29127",
   "metadata": {},
   "outputs": [
    {
     "data": {
      "text/plain": [
       "<StringArray>\n",
       "[   '180.0',    '185.0',         '',    '161.0',    '159.0',    '165.0',\n",
       "    '158.0',    '200.0',    '160.0',    '178.0',\n",
       " ...\n",
       "     '42.0',   '1890.0', '501660.0',    '211.0',     '44.0',     '51.0',\n",
       "      '6.0',     '61.0',   '1779.0',     '17.0']\n",
       "Length: 191, dtype: string"
      ]
     },
     "execution_count": 45,
     "metadata": {},
     "output_type": "execute_result"
    }
   ],
   "source": [
    "col_to_check = 'height'\n",
    "safeload_profiles_df[col_to_check].unique()"
   ]
  },
  {
   "cell_type": "code",
   "execution_count": 46,
   "id": "ffe95d24",
   "metadata": {},
   "outputs": [
    {
     "name": "stdout",
     "output_type": "stream",
     "text": [
      "count        75771.0\n",
      "mean      174.904566\n",
      "std      1822.869884\n",
      "min              1.0\n",
      "25%            163.0\n",
      "50%            171.0\n",
      "75%            179.0\n",
      "max         501660.0\n",
      "Name: height, dtype: Float64\n"
     ]
    }
   ],
   "source": [
    "import pandas as pd\n",
    "\n",
    "safeload_profiles_df['height'] = pd.to_numeric(safeload_profiles_df['height'], errors='coerce')\n",
    "summary = safeload_profiles_df['height'].describe()\n",
    "\n",
    "print(summary)\n"
   ]
  },
  {
   "cell_type": "code",
   "execution_count": 47,
   "id": "59e2099f",
   "metadata": {},
   "outputs": [
    {
     "name": "stdout",
     "output_type": "stream",
     "text": [
      "Values with height > 250cm: 9\n"
     ]
    }
   ],
   "source": [
    "count = (safeload_profiles_df['height'] > 250).sum()\n",
    "print(f\"Values with height > 250cm: {count}\")"
   ]
  },
  {
   "cell_type": "code",
   "execution_count": 48,
   "id": "d2c42980",
   "metadata": {},
   "outputs": [],
   "source": [
    "import numpy as np\n",
    "safeload_profiles_df.loc[safeload_profiles_df['height'] > 250, 'height'] = np.nan\n"
   ]
  },
  {
   "cell_type": "code",
   "execution_count": 49,
   "id": "2817fa4f",
   "metadata": {},
   "outputs": [
    {
     "name": "stdout",
     "output_type": "stream",
     "text": [
      "Values with height < 50cm: 40\n"
     ]
    }
   ],
   "source": [
    "count = (safeload_profiles_df['height'] < 50).sum()\n",
    "print(f\"Values with height < 50cm: {count}\")"
   ]
  },
  {
   "cell_type": "code",
   "execution_count": 50,
   "id": "51931da7",
   "metadata": {},
   "outputs": [],
   "source": [
    "safeload_profiles_df.loc[safeload_profiles_df['height'] < 50, 'height'] = np.nan"
   ]
  },
  {
   "cell_type": "code",
   "execution_count": 51,
   "id": "44ee54b8",
   "metadata": {},
   "outputs": [
    {
     "data": {
      "text/plain": [
       "<StringArray>\n",
       "[  '70',   '95',     '',   '56',   '80',   '75',   '55',  '110',   '68',\n",
       "   '72',\n",
       " ...\n",
       "  '179',  '146', '8043',  '260',   '10',  '152',  '186', '3090',  '134',\n",
       " '5963']\n",
       "Length: 201, dtype: string"
      ]
     },
     "execution_count": 51,
     "metadata": {},
     "output_type": "execute_result"
    }
   ],
   "source": [
    "col_to_check = 'weight'\n",
    "safeload_profiles_df[col_to_check].unique()"
   ]
  },
  {
   "cell_type": "code",
   "execution_count": 52,
   "id": "f7a66d93",
   "metadata": {},
   "outputs": [
    {
     "name": "stdout",
     "output_type": "stream",
     "text": [
      "count      75548.0\n",
      "mean     65.756871\n",
      "std      42.012059\n",
      "min            0.0\n",
      "25%           55.0\n",
      "50%           65.0\n",
      "75%           77.0\n",
      "max         8043.0\n",
      "Name: weight, dtype: Float64\n"
     ]
    }
   ],
   "source": [
    "safeload_profiles_df['weight'] = pd.to_numeric(safeload_profiles_df['weight'], errors='coerce')\n",
    "summary = safeload_profiles_df['weight'].describe()\n",
    "\n",
    "print(summary)"
   ]
  },
  {
   "cell_type": "code",
   "execution_count": 53,
   "id": "240d041b",
   "metadata": {},
   "outputs": [
    {
     "name": "stdout",
     "output_type": "stream",
     "text": [
      "Values with weight > 160kg: 147\n"
     ]
    }
   ],
   "source": [
    "count = (safeload_profiles_df['weight'] > 160).sum()\n",
    "print(f\"Values with weight > 160kg: {count}\")\n",
    "\n",
    "#let's assume these people entered their weight in libbre"
   ]
  },
  {
   "cell_type": "code",
   "execution_count": 54,
   "id": "dc023a2d",
   "metadata": {},
   "outputs": [],
   "source": [
    "def correct_weight_column(df, col='weight'):\n",
    "    df[col] = pd.to_numeric(df[col], errors='coerce') \n",
    "    df[col] = df[col].apply(lambda w: w / 2.205 if w > 160 else w)\n",
    "    \n",
    "    return df\n"
   ]
  },
  {
   "cell_type": "code",
   "execution_count": 55,
   "id": "56264627",
   "metadata": {},
   "outputs": [],
   "source": [
    "safeload_profiles_df = correct_weight_column(safeload_profiles_df)"
   ]
  },
  {
   "cell_type": "code",
   "execution_count": 56,
   "id": "21ef5c2f",
   "metadata": {},
   "outputs": [
    {
     "name": "stdout",
     "output_type": "stream",
     "text": [
      "Values with weight < 13kg: 16\n"
     ]
    }
   ],
   "source": [
    "count = (safeload_profiles_df['weight'] < 13).sum()\n",
    "print(f\"Values with weight < 13kg: {count}\")"
   ]
  },
  {
   "cell_type": "code",
   "execution_count": 57,
   "id": "72de729d",
   "metadata": {},
   "outputs": [
    {
     "data": {
      "text/plain": [
       "<StringArray>\n",
       "[  '43',     '',   '38',   '45',   '40',   '48',   '44',   '42',   '36',\n",
       "   '41',\n",
       " ...\n",
       " '10.5',  '248',  '165',   '80',  '318',  '355',   '16',  '160', '4037',\n",
       "  '338']\n",
       "Length: 130, dtype: string"
      ]
     },
     "execution_count": 57,
     "metadata": {},
     "output_type": "execute_result"
    }
   ],
   "source": [
    "col_to_check = 'skibootsSize'\n",
    "safeload_profiles_df[col_to_check].unique()"
   ]
  },
  {
   "cell_type": "code",
   "execution_count": 58,
   "id": "40a98a9b",
   "metadata": {},
   "outputs": [
    {
     "name": "stdout",
     "output_type": "stream",
     "text": [
      "count      75526.0\n",
      "mean     41.036941\n",
      "std      48.518657\n",
      "min            0.0\n",
      "25%           38.0\n",
      "50%           41.0\n",
      "75%           43.0\n",
      "max         4546.0\n",
      "Name: skibootsSize, dtype: Float64\n"
     ]
    }
   ],
   "source": [
    "safeload_profiles_df['skibootsSize'] = pd.to_numeric(safeload_profiles_df['skibootsSize'], errors='coerce')\n",
    "summary = safeload_profiles_df['skibootsSize'].describe()\n",
    "\n",
    "print(summary)"
   ]
  },
  {
   "cell_type": "code",
   "execution_count": 59,
   "id": "1c8b14ec",
   "metadata": {},
   "outputs": [
    {
     "data": {
      "text/plain": [
       "<StringArray>\n",
       "['beginner', 'intermediate', 'expert', '']\n",
       "Length: 4, dtype: string"
      ]
     },
     "execution_count": 59,
     "metadata": {},
     "output_type": "execute_result"
    }
   ],
   "source": [
    "col_to_check = 'level'\n",
    "safeload_profiles_df[col_to_check].unique()"
   ]
  },
  {
   "cell_type": "code",
   "execution_count": 60,
   "id": "5cff2659",
   "metadata": {},
   "outputs": [
    {
     "data": {
      "text/plain": [
       "<StringArray>\n",
       "[                             '[\"insurance\",\"rent\",\"rent/ski\",\"rent/bike\",\"lesson\",\"lesson/ski\",\"lesson/bike\",\"hotel\",\"travel\",\"train\",\"transport\",\"itinerary\",\"skipass\"]',\n",
       "                                         '[\"insurance\",\"rent/bike\",\"rent\",\"lesson\",\"lesson/ski\",\"lesson/bike\",\"hotel\",\"travel\",\"train\",\"transport\",\"itinerary\",\"skipass\"]',\n",
       "           '[\"insurance\",\"rent\",\"rent/ski\",\"rent/bike\",\"lesson\",\"lesson/ski\",\"lesson/bike\",\"hotel\",\"travel\",\"train\",\"transport\",\"itinerary\",\"skipass\",\"skipass/promo-cf\"]',\n",
       "                             '[\"insurance\",\"rent\",\"rent/ski\",\"rent/bike\",\"lesson\",\"lesson/ski\",\"lesson/bike\",\"hotel\",\"travel\",\"train\",\"transport\",\"itinerary\",\"seasonal\"]',\n",
       "           '[\"insurance\",\"rent/bike\",\"rent\",\"lesson\",\"lesson/ski\",\"lesson/bike\",\"hotel\",\"travel\",\"train\",\"transport\",\"itinerary\",\"seasonal/maestri\",\"seasonal\",\"skipass\"]',\n",
       "                                                                           '[\"insurance\",\"rent/bike\",\"rent\",\"train\",\"transport\",\"itinerary\",\"skipass\",\"skipass/promo-cf\"]',\n",
       "                                                                '[\"insurance\",\"rent/bike\",\"rent\",\"train\",\"transport\",\"itinerary\",\"seasonal/maestri\",\"seasonal\",\"skipass\"]',\n",
       "                                               '[\"insurance\",\"rent\",\"rent/ski\",\"rent/bike\",\"lesson\",\"lesson/ski\",\"lesson/bike\",\"hotel\",\"transport\",\"itinerary\",\"skipass\"]',\n",
       "                                      '[\"insurance\",\"rent\",\"rent/ski\",\"rent/bike\",\"lesson\",\"lesson/ski\",\"lesson/bike\",\"travel\",\"train\",\"transport\",\"itinerary\",\"skipass\"]',\n",
       "                                               '[\"insurance\",\"rent\",\"rent/ski\",\"rent/bike\",\"lesson\",\"lesson/ski\",\"lesson/bike\",\"train\",\"transport\",\"itinerary\",\"skipass\"]',\n",
       " ...\n",
       "                               '[\"insurance\",\"rent/bike\",\"rent\",\"hotel\",\"travel\",\"train\",\"transport\",\"itinerary\",\"seasonal/fisi\",\"seasonal\",\"skipass\",\"skipass/promo-cf\"]',\n",
       "                                                         '[\"insurance\",\"rent/bike\",\"rent\",\"lesson\",\"lesson/ski\",\"lesson/bike\",\"train\",\"transport\",\"itinerary\",\"seasonal\"]',\n",
       "                                    '[\"insurance\",\"rent/bike\",\"rent\",\"travel\",\"train\",\"transport\",\"itinerary\",\"seasonal/maestri\",\"seasonal\",\"skipass\",\"skipass/promo-cf\"]',\n",
       "        '[\"insurance\",\"rent\",\"rent/ski\",\"rent/bike\",\"lesson\",\"lesson/ski\",\"lesson/bike\",\"travel\",\"train\",\"transport\",\"itinerary\",\"seasonal/maestri\",\"seasonal\",\"skipass\"]',\n",
       "                            '[\"insurance\",\"rent/bike\",\"rent\",\"hotel\",\"travel\",\"train\",\"transport\",\"itinerary\",\"seasonal/maestri\",\"seasonal\",\"skipass\",\"skipass/promo-cf\"]',\n",
       " '[\"insurance\",\"rent\",\"rent/ski\",\"rent/bike\",\"lesson\",\"lesson/ski\",\"lesson/bike\",\"hotel\",\"transport\",\"itinerary\",\"seasonal/fisi\",\"seasonal\",\"skipass\",\"skipass/promo-cf\"]',\n",
       "                                     '[\"insurance\",\"rent\",\"rent/ski\",\"rent/bike\",\"lesson\",\"lesson/ski\",\"lesson/bike\",\"travel\",\"train\",\"transport\",\"itinerary\",\"seasonal\"]',\n",
       "                 '[\"insurance\",\"rent\",\"rent/ski\",\"rent/bike\",\"lesson\",\"lesson/ski\",\"lesson/bike\",\"hotel\",\"transport\",\"itinerary\",\"seasonal/maestri\",\"seasonal\",\"skipass\"]',\n",
       "                                                 '[\"insurance\",\"rent/bike\",\"rent\",\"lesson\",\"lesson/ski\",\"lesson/bike\",\"hotel\",\"train\",\"transport\",\"itinerary\",\"seasonal\"]',\n",
       "                    '[\"insurance\",\"rent\",\"rent/ski\",\"rent/bike\",\"lesson\",\"lesson/ski\",\"lesson/bike\",\"hotel\",\"transport\",\"itinerary\",\"seasonal/fisi\",\"seasonal\",\"skipass\"]']\n",
       "Length: 129, dtype: string"
      ]
     },
     "execution_count": 60,
     "metadata": {},
     "output_type": "execute_result"
    }
   ],
   "source": [
    "col_to_check = 'types'\n",
    "safeload_profiles_df[col_to_check].unique()\n",
    "\n",
    "# out of the 97158 profiles (before cleaning), I have 129 unique combinations of available services"
   ]
  },
  {
   "cell_type": "code",
   "execution_count": 61,
   "id": "0b95b5a1",
   "metadata": {},
   "outputs": [],
   "source": [
    "# Read and fix\n",
    "import numpy as np\n",
    "\n",
    "profiles_df = pd.read_csv(profiles_in_path,\n",
    "                       keep_default_na=False,\n",
    "                       na_values=NA_VALUES, # assign the ones previously defined\n",
    "                       dtype={\n",
    "                           'user.uid': 'string',\n",
    "                           'profile.uid': 'string',\n",
    "                           'birthday': 'string',\n",
    "                           'sex': 'string',\n",
    "                           'city': 'string',\n",
    "                           'height': 'Float64',\n",
    "                           'weight': 'Float64',\n",
    "                           'skibootsSize': 'Float64',\n",
    "                           'level': 'string',\n",
    "                           'types': 'string'\n",
    "                       }\n",
    "                       )\n",
    "\n",
    "profiles_df['birthday'] = pd.to_datetime(profiles_df['birthday'])\n",
    "\n",
    "def clean_profile_sex(sex: str) -> str | None:\n",
    "    clean = u.clean_str(sex, 'upper')\n",
    "    if clean in ['M', 'F']:\n",
    "        return clean\n",
    "    elif clean == ['UOMO', 'MASCHIO']:\n",
    "        return 'M'\n",
    "    elif clean == ['DONNA', 'FEMMINA']:\n",
    "        return 'F'\n",
    "    else:\n",
    "        None\n",
    "profiles_df['sex'] = (profiles_df['sex']\n",
    "                      .apply(lambda x:\n",
    "                             clean_profile_sex(x)\n",
    "                             if pd.notnull(x)\n",
    "                             else None\n",
    "                             )\n",
    "                      )\n",
    "\n",
    "profiles_df['city'] = (profiles_df['city']\n",
    "                    .apply(lambda x:\n",
    "                           u.clean_str(x, 'lower')\n",
    "                           if pd.notnull(x)\n",
    "                           else None\n",
    "                           )\n",
    "                    )\n",
    "profiles_df['city'] = profiles_df['city'].apply(\n",
    "    lambda x: fix_text(x) if not (str(x).strip() in NA_VALUES) else x\n",
    ")\n",
    "\n",
    "profiles_df.loc[ (safeload_profiles_df['height'] < 50) | (safeload_profiles_df['height'] > 250),\n",
    "                'height'] = np.nan\n",
    "\n",
    "def correct_weight_column(df, col='weight'):\n",
    "    df[col] = pd.to_numeric(df[col], errors='coerce') \n",
    "    df[col] = df[col].apply(lambda w: w / 2.205 if w > 160 else w)\n",
    "    df.loc[df[col] < 13, col] = np.nan\n",
    "    return df\n",
    "profiles_df = correct_weight_column(profiles_df)\n",
    "\n",
    "profiles_df['types'] = (profiles_df['types']\n",
    "                              .apply(lambda x:\n",
    "                                     u.get_list_from_str(x)\n",
    "                                     if pd.notnull(x)\n",
    "                                     else []\n",
    "                                     )\n",
    "                              )"
   ]
  },
  {
   "cell_type": "code",
   "execution_count": 62,
   "id": "db31d5bb",
   "metadata": {},
   "outputs": [
    {
     "data": {
      "text/plain": [
       "0"
      ]
     },
     "metadata": {},
     "output_type": "display_data"
    },
    {
     "data": {
      "text/html": [
       "<div>\n",
       "<style scoped>\n",
       "    .dataframe tbody tr th:only-of-type {\n",
       "        vertical-align: middle;\n",
       "    }\n",
       "\n",
       "    .dataframe tbody tr th {\n",
       "        vertical-align: top;\n",
       "    }\n",
       "\n",
       "    .dataframe thead th {\n",
       "        text-align: right;\n",
       "    }\n",
       "</style>\n",
       "<table border=\"1\" class=\"dataframe\">\n",
       "  <thead>\n",
       "    <tr style=\"text-align: right;\">\n",
       "      <th></th>\n",
       "      <th>num_rows</th>\n",
       "    </tr>\n",
       "    <tr>\n",
       "      <th>profile.uid</th>\n",
       "      <th></th>\n",
       "    </tr>\n",
       "  </thead>\n",
       "  <tbody>\n",
       "  </tbody>\n",
       "</table>\n",
       "</div>"
      ],
      "text/plain": [
       "Empty DataFrame\n",
       "Columns: [num_rows]\n",
       "Index: []"
      ]
     },
     "metadata": {},
     "output_type": "display_data"
    }
   ],
   "source": [
    "# CHECK Primary Key VALIDITY\n",
    "\n",
    "# SELECT count(1) as num_rows\n",
    "# FROM profiles_df\n",
    "# WHERE profile.uid IS NULL\n",
    "\n",
    "display(\n",
    "    profiles_df\n",
    "    .loc[lambda tbl: tbl['profile.uid'].isnull()]\n",
    "    .assign(aux=1.0)\n",
    "    .shape[0]\n",
    ")\n",
    "\n",
    "# SELECT profile.uid, count(1) as num_rows\n",
    "# FROM profiles_df\n",
    "# GROUP BY profile.id\n",
    "# HAVING num_rows > 1\n",
    "\n",
    "display(\n",
    "    profiles_df\n",
    "    .assign(aux=1.0)\n",
    "    .groupby(['profile.uid'], dropna=False)\n",
    "    .agg(num_rows=('aux', pd.Series.count))\n",
    "    .loc[lambda tbl: tbl['num_rows'] > 1]\n",
    ")"
   ]
  },
  {
   "cell_type": "code",
   "execution_count": 63,
   "id": "797ea10a",
   "metadata": {},
   "outputs": [
    {
     "data": {
      "text/html": [
       "<div>\n",
       "<style scoped>\n",
       "    .dataframe tbody tr th:only-of-type {\n",
       "        vertical-align: middle;\n",
       "    }\n",
       "\n",
       "    .dataframe tbody tr th {\n",
       "        vertical-align: top;\n",
       "    }\n",
       "\n",
       "    .dataframe thead th {\n",
       "        text-align: right;\n",
       "    }\n",
       "</style>\n",
       "<table border=\"1\" class=\"dataframe\">\n",
       "  <thead>\n",
       "    <tr style=\"text-align: right;\">\n",
       "      <th></th>\n",
       "      <th>num_rows</th>\n",
       "    </tr>\n",
       "    <tr>\n",
       "      <th>in_users</th>\n",
       "      <th></th>\n",
       "    </tr>\n",
       "  </thead>\n",
       "  <tbody>\n",
       "    <tr>\n",
       "      <th>1.0</th>\n",
       "      <td>46026</td>\n",
       "    </tr>\n",
       "    <tr>\n",
       "      <th>NaN</th>\n",
       "      <td>18212</td>\n",
       "    </tr>\n",
       "  </tbody>\n",
       "</table>\n",
       "</div>"
      ],
      "text/plain": [
       "          num_rows\n",
       "in_users          \n",
       "1.0          46026\n",
       "NaN          18212"
      ]
     },
     "execution_count": 63,
     "metadata": {},
     "output_type": "execute_result"
    }
   ],
   "source": [
    "# CHECK Foreign Key VALIDITY\n",
    "\n",
    "# SELECT\n",
    "#   A.user.uid,\n",
    "#   count(1) as num_rows\n",
    "# FROM \n",
    "#   (SELECT DISTINCT user.uid\n",
    "#   FROM profiles_df\n",
    "#   WHERE user.uid IS NOT NULL) AS A\n",
    "#   LEFT JOIN\n",
    "#   (SELECT user.uid, 1.0 AS in_users\n",
    "#   FROM users_df) AS B\n",
    "#   ON A.user.uid = B.user.uid\n",
    "# GROUP BY in_users\n",
    "# HAVING num_rows > 1\n",
    "\n",
    "(profiles_df\n",
    " [['user.uid']]\n",
    " .loc[lambda tbl: tbl['user.uid'].notnull()]\n",
    " .drop_duplicates()\n",
    " .merge(users_df[['user.uid']].assign(in_users=1.0),\n",
    "        how='left',\n",
    "        on='user.uid'\n",
    "        )\n",
    " .assign(aux=1.0)\n",
    " .groupby(['in_users'], dropna=False)\n",
    " .agg(num_rows=('aux', pd.Series.count))\n",
    " .loc[lambda tbl: tbl['num_rows'] > 1]\n",
    ")"
   ]
  },
  {
   "cell_type": "code",
   "execution_count": 64,
   "id": "f62834f4",
   "metadata": {},
   "outputs": [],
   "source": [
    "# issue: I have 18212 profiles with a userID that is not matched with an official one ! "
   ]
  },
  {
   "cell_type": "code",
   "execution_count": 65,
   "id": "efe1e74b",
   "metadata": {},
   "outputs": [
    {
     "data": {
      "text/html": [
       "<div>\n",
       "<style scoped>\n",
       "    .dataframe tbody tr th:only-of-type {\n",
       "        vertical-align: middle;\n",
       "    }\n",
       "\n",
       "    .dataframe tbody tr th {\n",
       "        vertical-align: top;\n",
       "    }\n",
       "\n",
       "    .dataframe thead th {\n",
       "        text-align: right;\n",
       "    }\n",
       "</style>\n",
       "<table border=\"1\" class=\"dataframe\">\n",
       "  <thead>\n",
       "    <tr style=\"text-align: right;\">\n",
       "      <th></th>\n",
       "      <th>user.uid</th>\n",
       "      <th>in_users</th>\n",
       "    </tr>\n",
       "  </thead>\n",
       "  <tbody>\n",
       "    <tr>\n",
       "      <th>0</th>\n",
       "      <td>tvvgjd4sdgfucn33brkigrnjjv</td>\n",
       "      <td>NaN</td>\n",
       "    </tr>\n",
       "    <tr>\n",
       "      <th>2</th>\n",
       "      <td>bmgilq4eatrpt2hhwamnbcqnir</td>\n",
       "      <td>NaN</td>\n",
       "    </tr>\n",
       "    <tr>\n",
       "      <th>3</th>\n",
       "      <td>ysbrr5ve9azqvr1jw72expbnxr</td>\n",
       "      <td>NaN</td>\n",
       "    </tr>\n",
       "    <tr>\n",
       "      <th>4</th>\n",
       "      <td>txy3ls535wzclygjnlt2gjalm1</td>\n",
       "      <td>NaN</td>\n",
       "    </tr>\n",
       "    <tr>\n",
       "      <th>5</th>\n",
       "      <td>f73bpmavwla9pho2qpgi5n7cdx</td>\n",
       "      <td>NaN</td>\n",
       "    </tr>\n",
       "    <tr>\n",
       "      <th>...</th>\n",
       "      <td>...</td>\n",
       "      <td>...</td>\n",
       "    </tr>\n",
       "    <tr>\n",
       "      <th>64149</th>\n",
       "      <td>mtlnpaw38weptp9pmbbyifknko</td>\n",
       "      <td>NaN</td>\n",
       "    </tr>\n",
       "    <tr>\n",
       "      <th>64164</th>\n",
       "      <td>jpkst6ew69gkluh7in43m4ohvs</td>\n",
       "      <td>NaN</td>\n",
       "    </tr>\n",
       "    <tr>\n",
       "      <th>64166</th>\n",
       "      <td>smqgdbfhyofngnjqth4bglwax7</td>\n",
       "      <td>NaN</td>\n",
       "    </tr>\n",
       "    <tr>\n",
       "      <th>64217</th>\n",
       "      <td>pzffry3ps6aagidfvisp89giam</td>\n",
       "      <td>NaN</td>\n",
       "    </tr>\n",
       "    <tr>\n",
       "      <th>64219</th>\n",
       "      <td>34w1omc2f7fskwlhteltqcomrc</td>\n",
       "      <td>NaN</td>\n",
       "    </tr>\n",
       "  </tbody>\n",
       "</table>\n",
       "<p>18212 rows × 2 columns</p>\n",
       "</div>"
      ],
      "text/plain": [
       "                         user.uid  in_users\n",
       "0      tvvgjd4sdgfucn33brkigrnjjv       NaN\n",
       "2      bmgilq4eatrpt2hhwamnbcqnir       NaN\n",
       "3      ysbrr5ve9azqvr1jw72expbnxr       NaN\n",
       "4      txy3ls535wzclygjnlt2gjalm1       NaN\n",
       "5      f73bpmavwla9pho2qpgi5n7cdx       NaN\n",
       "...                           ...       ...\n",
       "64149  mtlnpaw38weptp9pmbbyifknko       NaN\n",
       "64164  jpkst6ew69gkluh7in43m4ohvs       NaN\n",
       "64166  smqgdbfhyofngnjqth4bglwax7       NaN\n",
       "64217  pzffry3ps6aagidfvisp89giam       NaN\n",
       "64219  34w1omc2f7fskwlhteltqcomrc       NaN\n",
       "\n",
       "[18212 rows x 2 columns]"
      ]
     },
     "execution_count": 65,
     "metadata": {},
     "output_type": "execute_result"
    }
   ],
   "source": [
    "# let's visualize these 18212 profiles\n",
    "\n",
    "# SELECT\n",
    "#   A.user.uid,\n",
    "#   count(1) as num_rows\n",
    "# FROM \n",
    "#   (SELECT DISTINCT user.uid\n",
    "#   FROM profiles_df\n",
    "#   WHERE user.uid IS NOT NULL) AS A\n",
    "#   LEFT JOIN\n",
    "#   (SELECT user.uid, 1.0 AS in_users\n",
    "#   FROM users_df) AS B\n",
    "#   ON A.user.uid = B.user.uid\n",
    "# WHERE\n",
    "#   in_users IS NULL\n",
    "\n",
    "(profiles_df\n",
    " [['user.uid']]\n",
    " .loc[lambda tbl: tbl['user.uid'].notnull()]\n",
    " .drop_duplicates()\n",
    " .merge(users_df[['user.uid']].assign(in_users=1.0),\n",
    "        how='left',\n",
    "        on='user.uid'\n",
    "        )\n",
    " .loc[lambda tbl: tbl['in_users'].isnull()]\n",
    ")"
   ]
  },
  {
   "cell_type": "code",
   "execution_count": 66,
   "id": "7926e01d",
   "metadata": {},
   "outputs": [
    {
     "data": {
      "text/plain": [
       "0        tvvgjd4sdgfucn33brkigrnjjv\n",
       "2        bmgilq4eatrpt2hhwamnbcqnir\n",
       "3        ysbrr5ve9azqvr1jw72expbnxr\n",
       "4        txy3ls535wzclygjnlt2gjalm1\n",
       "5        f73bpmavwla9pho2qpgi5n7cdx\n",
       "                    ...            \n",
       "64149    mtlnpaw38weptp9pmbbyifknko\n",
       "64164    jpkst6ew69gkluh7in43m4ohvs\n",
       "64166    smqgdbfhyofngnjqth4bglwax7\n",
       "64217    pzffry3ps6aagidfvisp89giam\n",
       "64219    34w1omc2f7fskwlhteltqcomrc\n",
       "Name: user.uid, Length: 18212, dtype: string"
      ]
     },
     "metadata": {},
     "output_type": "display_data"
    },
    {
     "data": {
      "text/html": [
       "<div>\n",
       "<style scoped>\n",
       "    .dataframe tbody tr th:only-of-type {\n",
       "        vertical-align: middle;\n",
       "    }\n",
       "\n",
       "    .dataframe tbody tr th {\n",
       "        vertical-align: top;\n",
       "    }\n",
       "\n",
       "    .dataframe thead th {\n",
       "        text-align: right;\n",
       "    }\n",
       "</style>\n",
       "<table border=\"1\" class=\"dataframe\">\n",
       "  <thead>\n",
       "    <tr style=\"text-align: right;\">\n",
       "      <th></th>\n",
       "      <th>user.uid</th>\n",
       "      <th>profile.uid</th>\n",
       "      <th>birthday</th>\n",
       "      <th>sex</th>\n",
       "      <th>city</th>\n",
       "      <th>height</th>\n",
       "      <th>weight</th>\n",
       "      <th>skibootsSize</th>\n",
       "      <th>level</th>\n",
       "      <th>types</th>\n",
       "    </tr>\n",
       "  </thead>\n",
       "  <tbody>\n",
       "    <tr>\n",
       "      <th>0</th>\n",
       "      <td>tvvgjd4sdgfucn33brkigrnjjv</td>\n",
       "      <td>9oqhfw0zsc5prlkwh9gk</td>\n",
       "      <td>2000-05-23</td>\n",
       "      <td>M</td>\n",
       "      <td>zwolle</td>\n",
       "      <td>180.0</td>\n",
       "      <td>70.0</td>\n",
       "      <td>43.0</td>\n",
       "      <td>beginner</td>\n",
       "      <td>[\"insurance\", \"rent\", \"rent/ski\", \"rent/bike\",...</td>\n",
       "    </tr>\n",
       "    <tr>\n",
       "      <th>2</th>\n",
       "      <td>bmgilq4eatrpt2hhwamnbcqnir</td>\n",
       "      <td>vi88jcuymkmxkandvy3l</td>\n",
       "      <td>1992-05-06</td>\n",
       "      <td>F</td>\n",
       "      <td>zürich</td>\n",
       "      <td>&lt;NA&gt;</td>\n",
       "      <td>NaN</td>\n",
       "      <td>&lt;NA&gt;</td>\n",
       "      <td>intermediate</td>\n",
       "      <td>[\"insurance\", \"rent/bike\", \"rent\", \"lesson\", \"...</td>\n",
       "    </tr>\n",
       "    <tr>\n",
       "      <th>3</th>\n",
       "      <td>ysbrr5ve9azqvr1jw72expbnxr</td>\n",
       "      <td>p54s6m0hejd4nucibz4e</td>\n",
       "      <td>1998-02-16</td>\n",
       "      <td>F</td>\n",
       "      <td>zurich</td>\n",
       "      <td>161.0</td>\n",
       "      <td>56.0</td>\n",
       "      <td>38.0</td>\n",
       "      <td>beginner</td>\n",
       "      <td>[\"insurance\", \"rent\", \"rent/ski\", \"rent/bike\",...</td>\n",
       "    </tr>\n",
       "    <tr>\n",
       "      <th>4</th>\n",
       "      <td>ysbrr5ve9azqvr1jw72expbnxr</td>\n",
       "      <td>zkzpf8fnha6s4kmc2rwn</td>\n",
       "      <td>1994-05-12</td>\n",
       "      <td>M</td>\n",
       "      <td>zurich</td>\n",
       "      <td>180.0</td>\n",
       "      <td>80.0</td>\n",
       "      <td>45.0</td>\n",
       "      <td>beginner</td>\n",
       "      <td>[\"insurance\", \"rent\", \"rent/ski\", \"rent/bike\",...</td>\n",
       "    </tr>\n",
       "    <tr>\n",
       "      <th>5</th>\n",
       "      <td>txy3ls535wzclygjnlt2gjalm1</td>\n",
       "      <td>bqnrhm4itmwhofvxxxqh</td>\n",
       "      <td>1979-12-09</td>\n",
       "      <td>M</td>\n",
       "      <td>zur moshe</td>\n",
       "      <td>180.0</td>\n",
       "      <td>75.0</td>\n",
       "      <td>43.0</td>\n",
       "      <td>beginner</td>\n",
       "      <td>[\"insurance\", \"rent\", \"rent/ski\", \"rent/bike\",...</td>\n",
       "    </tr>\n",
       "    <tr>\n",
       "      <th>...</th>\n",
       "      <td>...</td>\n",
       "      <td>...</td>\n",
       "      <td>...</td>\n",
       "      <td>...</td>\n",
       "      <td>...</td>\n",
       "      <td>...</td>\n",
       "      <td>...</td>\n",
       "      <td>...</td>\n",
       "      <td>...</td>\n",
       "      <td>...</td>\n",
       "    </tr>\n",
       "    <tr>\n",
       "      <th>97043</th>\n",
       "      <td>smqgdbfhyofngnjqth4bglwax7</td>\n",
       "      <td>ib1un3kn23p8dn5jso3e</td>\n",
       "      <td>2018-09-04</td>\n",
       "      <td>M</td>\n",
       "      <td>albosaggia</td>\n",
       "      <td>118.0</td>\n",
       "      <td>20.0</td>\n",
       "      <td>29.0</td>\n",
       "      <td>beginner</td>\n",
       "      <td>[\"insurance\", \"rent\", \"rent/ski\", \"rent/bike\",...</td>\n",
       "    </tr>\n",
       "    <tr>\n",
       "      <th>97044</th>\n",
       "      <td>smqgdbfhyofngnjqth4bglwax7</td>\n",
       "      <td>ah904epxoefqvk2slt6k</td>\n",
       "      <td>2018-09-04</td>\n",
       "      <td>M</td>\n",
       "      <td>albosaggia</td>\n",
       "      <td>118.0</td>\n",
       "      <td>20.0</td>\n",
       "      <td>29.0</td>\n",
       "      <td>beginner</td>\n",
       "      <td>[\"insurance\", \"rent\", \"rent/ski\", \"rent/bike\",...</td>\n",
       "    </tr>\n",
       "    <tr>\n",
       "      <th>97097</th>\n",
       "      <td>dyz1ivjmcym14jagwuyjnhtrz7</td>\n",
       "      <td>mdqipvzojgtgsajxjtlx</td>\n",
       "      <td>1999-10-05</td>\n",
       "      <td>None</td>\n",
       "      <td>aidone</td>\n",
       "      <td>155.0</td>\n",
       "      <td>55.0</td>\n",
       "      <td>36.0</td>\n",
       "      <td>&lt;NA&gt;</td>\n",
       "      <td>[\"insurance\", \"rent/bike\", \"rent\", \"travel\", \"...</td>\n",
       "    </tr>\n",
       "    <tr>\n",
       "      <th>97126</th>\n",
       "      <td>pzffry3ps6aagidfvisp89giam</td>\n",
       "      <td>mbpgeblzb2t0bylyrhww</td>\n",
       "      <td>2003-10-17</td>\n",
       "      <td>M</td>\n",
       "      <td>acquedolci</td>\n",
       "      <td>167.0</td>\n",
       "      <td>60.0</td>\n",
       "      <td>39.0</td>\n",
       "      <td>intermediate</td>\n",
       "      <td>[\"insurance\", \"rent\", \"rent/ski\", \"rent/bike\",...</td>\n",
       "    </tr>\n",
       "    <tr>\n",
       "      <th>97129</th>\n",
       "      <td>34w1omc2f7fskwlhteltqcomrc</td>\n",
       "      <td>a3uvbr9wxao9vuiilw6b</td>\n",
       "      <td>2005-04-16</td>\n",
       "      <td>F</td>\n",
       "      <td>acicastello</td>\n",
       "      <td>177.0</td>\n",
       "      <td>65.0</td>\n",
       "      <td>40.0</td>\n",
       "      <td>beginner</td>\n",
       "      <td>[\"insurance\", \"rent\", \"rent/ski\", \"rent/bike\",...</td>\n",
       "    </tr>\n",
       "  </tbody>\n",
       "</table>\n",
       "<p>28133 rows × 10 columns</p>\n",
       "</div>"
      ],
      "text/plain": [
       "                         user.uid           profile.uid   birthday   sex  \\\n",
       "0      tvvgjd4sdgfucn33brkigrnjjv  9oqhfw0zsc5prlkwh9gk 2000-05-23     M   \n",
       "2      bmgilq4eatrpt2hhwamnbcqnir  vi88jcuymkmxkandvy3l 1992-05-06     F   \n",
       "3      ysbrr5ve9azqvr1jw72expbnxr  p54s6m0hejd4nucibz4e 1998-02-16     F   \n",
       "4      ysbrr5ve9azqvr1jw72expbnxr  zkzpf8fnha6s4kmc2rwn 1994-05-12     M   \n",
       "5      txy3ls535wzclygjnlt2gjalm1  bqnrhm4itmwhofvxxxqh 1979-12-09     M   \n",
       "...                           ...                   ...        ...   ...   \n",
       "97043  smqgdbfhyofngnjqth4bglwax7  ib1un3kn23p8dn5jso3e 2018-09-04     M   \n",
       "97044  smqgdbfhyofngnjqth4bglwax7  ah904epxoefqvk2slt6k 2018-09-04     M   \n",
       "97097  dyz1ivjmcym14jagwuyjnhtrz7  mdqipvzojgtgsajxjtlx 1999-10-05  None   \n",
       "97126  pzffry3ps6aagidfvisp89giam  mbpgeblzb2t0bylyrhww 2003-10-17     M   \n",
       "97129  34w1omc2f7fskwlhteltqcomrc  a3uvbr9wxao9vuiilw6b 2005-04-16     F   \n",
       "\n",
       "              city  height  weight  skibootsSize         level  \\\n",
       "0           zwolle   180.0    70.0          43.0      beginner   \n",
       "2           zürich    <NA>     NaN          <NA>  intermediate   \n",
       "3           zurich   161.0    56.0          38.0      beginner   \n",
       "4           zurich   180.0    80.0          45.0      beginner   \n",
       "5        zur moshe   180.0    75.0          43.0      beginner   \n",
       "...            ...     ...     ...           ...           ...   \n",
       "97043   albosaggia   118.0    20.0          29.0      beginner   \n",
       "97044   albosaggia   118.0    20.0          29.0      beginner   \n",
       "97097       aidone   155.0    55.0          36.0          <NA>   \n",
       "97126   acquedolci   167.0    60.0          39.0  intermediate   \n",
       "97129  acicastello   177.0    65.0          40.0      beginner   \n",
       "\n",
       "                                                   types  \n",
       "0      [\"insurance\", \"rent\", \"rent/ski\", \"rent/bike\",...  \n",
       "2      [\"insurance\", \"rent/bike\", \"rent\", \"lesson\", \"...  \n",
       "3      [\"insurance\", \"rent\", \"rent/ski\", \"rent/bike\",...  \n",
       "4      [\"insurance\", \"rent\", \"rent/ski\", \"rent/bike\",...  \n",
       "5      [\"insurance\", \"rent\", \"rent/ski\", \"rent/bike\",...  \n",
       "...                                                  ...  \n",
       "97043  [\"insurance\", \"rent\", \"rent/ski\", \"rent/bike\",...  \n",
       "97044  [\"insurance\", \"rent\", \"rent/ski\", \"rent/bike\",...  \n",
       "97097  [\"insurance\", \"rent/bike\", \"rent\", \"travel\", \"...  \n",
       "97126  [\"insurance\", \"rent\", \"rent/ski\", \"rent/bike\",...  \n",
       "97129  [\"insurance\", \"rent\", \"rent/ski\", \"rent/bike\",...  \n",
       "\n",
       "[28133 rows x 10 columns]"
      ]
     },
     "metadata": {},
     "output_type": "display_data"
    }
   ],
   "source": [
    "# from the table printed before I select just the column ['user.uid'],\n",
    "# those IDs without a correspondence in the users_df\n",
    "profile_fail_useruids = (profiles_df\n",
    "    [['user.uid']]\n",
    "    .loc[lambda tbl: tbl['user.uid'].notnull()]\n",
    "    .drop_duplicates()\n",
    "    .merge(users_df[['user.uid']].assign(in_users=1.0),\n",
    "            how='left',\n",
    "            on='user.uid'\n",
    "            )\n",
    "    .loc[lambda tbl: tbl['in_users'].isnull()]\n",
    "    ['user.uid']\n",
    ")\n",
    "display(profile_fail_useruids)\n",
    "\n",
    "# extract now the profiles with \"inconsistent\" 'user.uid'\n",
    "profile_fail_useruid_df = profiles_df.loc[lambda tbl: tbl['user.uid'].isin(profile_fail_useruids)]\n",
    "display(profile_fail_useruid_df)"
   ]
  },
  {
   "cell_type": "code",
   "execution_count": 67,
   "id": "2d9c2c18",
   "metadata": {},
   "outputs": [],
   "source": [
    "# FIX Foreing Key ISSUE: remove them ! \n",
    "profiles_df.drop(list(profile_fail_useruid_df.index), inplace=True)"
   ]
  },
  {
   "cell_type": "code",
   "execution_count": 68,
   "id": "87570c49",
   "metadata": {},
   "outputs": [
    {
     "data": {
      "text/html": [
       "<div>\n",
       "<style scoped>\n",
       "    .dataframe tbody tr th:only-of-type {\n",
       "        vertical-align: middle;\n",
       "    }\n",
       "\n",
       "    .dataframe tbody tr th {\n",
       "        vertical-align: top;\n",
       "    }\n",
       "\n",
       "    .dataframe thead th {\n",
       "        text-align: right;\n",
       "    }\n",
       "</style>\n",
       "<table border=\"1\" class=\"dataframe\">\n",
       "  <thead>\n",
       "    <tr style=\"text-align: right;\">\n",
       "      <th></th>\n",
       "      <th>num_rows</th>\n",
       "    </tr>\n",
       "    <tr>\n",
       "      <th>in_users</th>\n",
       "      <th></th>\n",
       "    </tr>\n",
       "  </thead>\n",
       "  <tbody>\n",
       "    <tr>\n",
       "      <th>1.0</th>\n",
       "      <td>46026</td>\n",
       "    </tr>\n",
       "  </tbody>\n",
       "</table>\n",
       "</div>"
      ],
      "text/plain": [
       "          num_rows\n",
       "in_users          \n",
       "1.0          46026"
      ]
     },
     "metadata": {},
     "output_type": "display_data"
    }
   ],
   "source": [
    "display(\n",
    "    profiles_df\n",
    "    [['user.uid']]\n",
    "    .loc[lambda tbl: tbl['user.uid'].notnull()]\n",
    "    .drop_duplicates()\n",
    "    .merge(users_df[['user.uid']].assign(in_users=1.0),\n",
    "            how='left',\n",
    "            on='user.uid'\n",
    "            )\n",
    "    .assign(aux=1.0)\n",
    "    .groupby(['in_users'], dropna=False)\n",
    "    .agg(num_rows=('aux', pd.Series.count))\n",
    "    .loc[lambda tbl: tbl['num_rows'] > 1]\n",
    ")\n",
    "# now, as expected, I don't have null values after the left join"
   ]
  },
  {
   "cell_type": "markdown",
   "id": "daf5a69d",
   "metadata": {},
   "source": [
    "## Load Cards"
   ]
  },
  {
   "cell_type": "code",
   "execution_count": 69,
   "id": "ca74b837",
   "metadata": {},
   "outputs": [],
   "source": [
    "safeload_cards_df = pd.read_csv(cards_in_path,\n",
    "                                dtype='string',\n",
    "                                na_values=[],\n",
    "                                keep_default_na=False\n",
    "                                )"
   ]
  },
  {
   "cell_type": "code",
   "execution_count": 70,
   "id": "385b626c",
   "metadata": {},
   "outputs": [
    {
     "data": {
      "text/plain": [
       "Index(['card.uid', 'assignedAt', 'birthday', 'status', 'user.uid'], dtype='object')"
      ]
     },
     "execution_count": 70,
     "metadata": {},
     "output_type": "execute_result"
    }
   ],
   "source": [
    "safeload_cards_df.columns"
   ]
  },
  {
   "cell_type": "code",
   "execution_count": 71,
   "id": "be8b2d9b",
   "metadata": {},
   "outputs": [
    {
     "data": {
      "text/plain": [
       "(805837, 5)"
      ]
     },
     "execution_count": 71,
     "metadata": {},
     "output_type": "execute_result"
    }
   ],
   "source": [
    "safeload_cards_df.shape"
   ]
  },
  {
   "cell_type": "code",
   "execution_count": 72,
   "id": "ef0f78e1",
   "metadata": {},
   "outputs": [
    {
     "data": {
      "text/plain": [
       "<StringArray>\n",
       "['00000001', '00000011', '00000022', '00000033', '00000044', '00000055',\n",
       " '00000066', '00000077', '00000088', '00000099',\n",
       " ...\n",
       " '99131935', '99131946', '99131957', '99131968', '99131979', '99131980',\n",
       " '99131991', '99999995', '99999997', '99999999']\n",
       "Length: 710917, dtype: string"
      ]
     },
     "execution_count": 72,
     "metadata": {},
     "output_type": "execute_result"
    }
   ],
   "source": [
    "col_to_check = 'card.uid'\n",
    "safeload_cards_df[col_to_check].unique()\n",
    "# since this length is lower than the dimension,\n",
    "# it means that either some ids are null or some ids are not unique"
   ]
  },
  {
   "cell_type": "code",
   "execution_count": 73,
   "id": "5dd7c1d9",
   "metadata": {},
   "outputs": [
    {
     "name": "stdout",
     "output_type": "stream",
     "text": [
      "Null values in 'card.uid': 0\n"
     ]
    }
   ],
   "source": [
    "col_to_check = 'card.uid'\n",
    "num_nulls = safeload_cards_df[col_to_check].isnull().sum()\n",
    "print(f\"Null values in '{col_to_check}': {num_nulls}\")\n",
    "# there are some duplicates"
   ]
  },
  {
   "cell_type": "code",
   "execution_count": 74,
   "id": "966a7b02",
   "metadata": {},
   "outputs": [
    {
     "name": "stdout",
     "output_type": "stream",
     "text": [
      "Empty DataFrame\n",
      "Columns: [card.uid, assignedAt, birthday, status, user.uid]\n",
      "Index: []\n"
     ]
    }
   ],
   "source": [
    "dupe_key = safeload_cards_df['card.uid'].duplicated(keep=False)\n",
    "dupe_full = safeload_cards_df.duplicated(keep=False)\n",
    "\n",
    "conflicting_rows = safeload_cards_df[dupe_key & ~dupe_full]\n",
    "print(conflicting_rows)\n",
    "\n",
    "# if card.uid has a duplicate, then the full row is a duplicate"
   ]
  },
  {
   "cell_type": "code",
   "execution_count": 75,
   "id": "618ff563",
   "metadata": {},
   "outputs": [
    {
     "data": {
      "text/plain": [
       "<StringArray>\n",
       "['6m8fx3mvanac7bcltkx79lbxjs', 'ogv7xt7089clwmbgmtam35zvjq',\n",
       " 'naxfhkqjhcqrx3nv6ge9kxenth',                           '',\n",
       " '70uymyvsxtusxwrrgva0bfen8q', '9w4drnej3ixwqtwkixk94r7rdn',\n",
       " 'ujp5e6dtw9cvituayhlvevvdk6', 'mlwkfozqeefazgmboia8hxxkj1',\n",
       " 'uhxdpccr8npu3lljw9osf0vlwy', '78nvha6ci7nldfizzhmdxaodqr',\n",
       " ...\n",
       " 'mmp6yjfsqbudllov893ysyt3ke', 'ridpfdmnd9oqmqmx2eet14mwzh',\n",
       " 'nntnw7pjnuqrtb07kkdi09ukvl', 't0yezkfzeuhfhqfmdvdshrvwva',\n",
       " 'qeoinqsbzbdkho47uudymbmi8q', 'dov2d9ymmdwz1umyvj4c07amox',\n",
       " 'm3a4kh3q78tvvqidugyqxw0rna', 'a3k15nzfzmrmklnnpkuonacrwf',\n",
       " 'abpz5y53frcqdfc9nl5ojj1uzi', 'cfui0h9ooqogedmrpsdedq4b7k']\n",
       "Length: 161029, dtype: string"
      ]
     },
     "execution_count": 75,
     "metadata": {},
     "output_type": "execute_result"
    }
   ],
   "source": [
    "col_to_check = 'user.uid'\n",
    "safeload_cards_df[col_to_check].unique()\n",
    "# as expected, the number of unique user ids is inferior to the number of cards,\n",
    "# since the same user can activate cards for others"
   ]
  },
  {
   "cell_type": "code",
   "execution_count": 76,
   "id": "30c6e0f7",
   "metadata": {},
   "outputs": [
    {
     "data": {
      "text/plain": [
       "<StringArray>\n",
       "['2025-02-01', '2023-03-13', '2022-01-14',           '', '2018-01-03',\n",
       " '2017-12-20', '2018-01-07', '2019-02-08', '2019-12-14', '2019-11-25',\n",
       " ...\n",
       " '2024-08-29', '2024-07-27', '2024-08-21', '2024-05-13', '2024-08-02',\n",
       " '2024-06-07', '2023-04-20', '2024-07-20', '2021-09-17', '2022-06-23']\n",
       "Length: 1775, dtype: string"
      ]
     },
     "execution_count": 76,
     "metadata": {},
     "output_type": "execute_result"
    }
   ],
   "source": [
    "col_to_check = 'assignedAt'\n",
    "safeload_cards_df[col_to_check].unique()"
   ]
  },
  {
   "cell_type": "code",
   "execution_count": 77,
   "id": "3c1677c6",
   "metadata": {},
   "outputs": [
    {
     "data": {
      "text/plain": [
       "<StringArray>\n",
       "['2018-07-02', '1985-02-21', '1985-09-28',           '', '2008-12-31',\n",
       " '2004-10-16', '1992-11-12', '1999-05-19', '1975-01-09', '1995-05-08',\n",
       " ...\n",
       " '1951-09-13', '1950-01-08', '1951-01-19', '1955-11-20', '2019-09-19',\n",
       " '1956-04-16', '1963-04-14', '1950-12-19', '1955-02-02', '2018-02-11']\n",
       "Length: 25266, dtype: string"
      ]
     },
     "execution_count": 77,
     "metadata": {},
     "output_type": "execute_result"
    }
   ],
   "source": [
    "col_to_check = 'birthday'\n",
    "safeload_cards_df[col_to_check].unique()"
   ]
  },
  {
   "cell_type": "code",
   "execution_count": 78,
   "id": "a4817437",
   "metadata": {},
   "outputs": [
    {
     "data": {
      "text/plain": [
       "<StringArray>\n",
       "[     'pending', 'not-assigned',        'valid',     'rejected',\n",
       "      'warning',   'membership',        'error']\n",
       "Length: 7, dtype: string"
      ]
     },
     "execution_count": 78,
     "metadata": {},
     "output_type": "execute_result"
    }
   ],
   "source": [
    "col_to_check = 'status'\n",
    "safeload_cards_df[col_to_check].unique()"
   ]
  },
  {
   "cell_type": "code",
   "execution_count": 79,
   "id": "003b9a45",
   "metadata": {},
   "outputs": [],
   "source": [
    "# Read and fix\n",
    "import numpy as np\n",
    "\n",
    "cards_df = pd.read_csv(cards_in_path,\n",
    "                       keep_default_na=False,\n",
    "                       na_values=NA_VALUES, # assign the ones previously defined\n",
    "                       dtype={\n",
    "                           'user.uid': 'string',\n",
    "                           'card.uid': 'string',\n",
    "                           'assignedAt': 'string',\n",
    "                           'birthday': 'string',\n",
    "                           'status': 'string',\n",
    "                       }\n",
    "                       )\n",
    "\n",
    "cards_df = cards_df.drop_duplicates()\n",
    "\n",
    "cards_df['assignedAt'] = pd.to_datetime(cards_df['assignedAt'])\n",
    "\n",
    "cards_df['birthday'] = pd.to_datetime(cards_df['birthday'], format='mixed')"
   ]
  },
  {
   "cell_type": "code",
   "execution_count": 80,
   "id": "43e7fb46",
   "metadata": {},
   "outputs": [
    {
     "data": {
      "text/plain": [
       "0"
      ]
     },
     "metadata": {},
     "output_type": "display_data"
    },
    {
     "data": {
      "text/html": [
       "<div>\n",
       "<style scoped>\n",
       "    .dataframe tbody tr th:only-of-type {\n",
       "        vertical-align: middle;\n",
       "    }\n",
       "\n",
       "    .dataframe tbody tr th {\n",
       "        vertical-align: top;\n",
       "    }\n",
       "\n",
       "    .dataframe thead th {\n",
       "        text-align: right;\n",
       "    }\n",
       "</style>\n",
       "<table border=\"1\" class=\"dataframe\">\n",
       "  <thead>\n",
       "    <tr style=\"text-align: right;\">\n",
       "      <th></th>\n",
       "      <th>num_rows</th>\n",
       "    </tr>\n",
       "    <tr>\n",
       "      <th>card.uid</th>\n",
       "      <th></th>\n",
       "    </tr>\n",
       "  </thead>\n",
       "  <tbody>\n",
       "  </tbody>\n",
       "</table>\n",
       "</div>"
      ],
      "text/plain": [
       "Empty DataFrame\n",
       "Columns: [num_rows]\n",
       "Index: []"
      ]
     },
     "metadata": {},
     "output_type": "display_data"
    }
   ],
   "source": [
    "# CHECK Primary Key VALIDITY\n",
    "\n",
    "# SELECT count(1) as num_rows\n",
    "# FROM cards_df\n",
    "# WHERE cards.uid IS NULL\n",
    "\n",
    "display(\n",
    "    cards_df\n",
    "    .loc[lambda tbl: tbl['card.uid'].isnull()]\n",
    "    .assign(aux=1.0)\n",
    "    .shape[0]\n",
    ")\n",
    "# SELECT card.uid, count(1) as num_rows\n",
    "# FROM cards_df\n",
    "# GROUP BY cards.uid\n",
    "# HAVING num_rows > 1\n",
    "\n",
    "display(\n",
    "    cards_df\n",
    "    .assign(aux=1.0)\n",
    "    .groupby(['card.uid'], dropna=False)\n",
    "    .agg(num_rows=('aux', pd.Series.count))\n",
    "    .loc[lambda tbl: tbl['num_rows'] > 1]\n",
    ")"
   ]
  },
  {
   "cell_type": "code",
   "execution_count": 81,
   "id": "641be3e4",
   "metadata": {},
   "outputs": [
    {
     "data": {
      "text/html": [
       "<div>\n",
       "<style scoped>\n",
       "    .dataframe tbody tr th:only-of-type {\n",
       "        vertical-align: middle;\n",
       "    }\n",
       "\n",
       "    .dataframe tbody tr th {\n",
       "        vertical-align: top;\n",
       "    }\n",
       "\n",
       "    .dataframe thead th {\n",
       "        text-align: right;\n",
       "    }\n",
       "</style>\n",
       "<table border=\"1\" class=\"dataframe\">\n",
       "  <thead>\n",
       "    <tr style=\"text-align: right;\">\n",
       "      <th></th>\n",
       "      <th>num_rows</th>\n",
       "    </tr>\n",
       "    <tr>\n",
       "      <th>in_users</th>\n",
       "      <th></th>\n",
       "    </tr>\n",
       "  </thead>\n",
       "  <tbody>\n",
       "    <tr>\n",
       "      <th>1.0</th>\n",
       "      <td>111687</td>\n",
       "    </tr>\n",
       "    <tr>\n",
       "      <th>NaN</th>\n",
       "      <td>49341</td>\n",
       "    </tr>\n",
       "  </tbody>\n",
       "</table>\n",
       "</div>"
      ],
      "text/plain": [
       "          num_rows\n",
       "in_users          \n",
       "1.0         111687\n",
       "NaN          49341"
      ]
     },
     "execution_count": 81,
     "metadata": {},
     "output_type": "execute_result"
    }
   ],
   "source": [
    "# CHECK Foreign Key VALIDITY\n",
    "\n",
    "# SELECT\n",
    "#   A.user.uid,\n",
    "#   count(1) as num_rows\n",
    "# FROM \n",
    "#   (SELECT DISTINCT user.uid\n",
    "#   FROM cards_df\n",
    "#   WHERE user.uid IS NOT NULL) AS A\n",
    "#   LEFT JOIN\n",
    "#   (SELECT user.uid, 1.0 AS in_users\n",
    "#   FROM users_df) AS B\n",
    "#   ON A.user.uid = B.user.uid\n",
    "# GROUP BY in_users\n",
    "# HAVING num_rows > 1\n",
    "\n",
    "(cards_df\n",
    " [['user.uid']]\n",
    " .loc[lambda tbl: tbl['user.uid'].notnull()]\n",
    " .drop_duplicates()\n",
    " .merge(users_df[['user.uid']].assign(in_users=1.0),\n",
    "        how='left',\n",
    "        on='user.uid'\n",
    "        )\n",
    " .assign(aux=1.0)\n",
    " .groupby(['in_users'], dropna=False)\n",
    " .agg(num_rows=('aux', pd.Series.count))\n",
    " .loc[lambda tbl: tbl['num_rows'] > 1]\n",
    ")"
   ]
  },
  {
   "cell_type": "code",
   "execution_count": 82,
   "id": "d44db522",
   "metadata": {},
   "outputs": [],
   "source": [
    "# issue, I have 49341 cards with an empty left join with the user.uid table\n",
    "# let's visualize these 49341 profiles"
   ]
  },
  {
   "cell_type": "code",
   "execution_count": 83,
   "id": "4d33af83",
   "metadata": {},
   "outputs": [
    {
     "data": {
      "text/html": [
       "<div>\n",
       "<style scoped>\n",
       "    .dataframe tbody tr th:only-of-type {\n",
       "        vertical-align: middle;\n",
       "    }\n",
       "\n",
       "    .dataframe tbody tr th {\n",
       "        vertical-align: top;\n",
       "    }\n",
       "\n",
       "    .dataframe thead th {\n",
       "        text-align: right;\n",
       "    }\n",
       "</style>\n",
       "<table border=\"1\" class=\"dataframe\">\n",
       "  <thead>\n",
       "    <tr style=\"text-align: right;\">\n",
       "      <th></th>\n",
       "      <th>user.uid</th>\n",
       "      <th>in_users</th>\n",
       "    </tr>\n",
       "  </thead>\n",
       "  <tbody>\n",
       "    <tr>\n",
       "      <th>0</th>\n",
       "      <td>6m8fx3mvanac7bcltkx79lbxjs</td>\n",
       "      <td>NaN</td>\n",
       "    </tr>\n",
       "    <tr>\n",
       "      <th>5</th>\n",
       "      <td>ujp5e6dtw9cvituayhlvevvdk6</td>\n",
       "      <td>NaN</td>\n",
       "    </tr>\n",
       "    <tr>\n",
       "      <th>6</th>\n",
       "      <td>mlwkfozqeefazgmboia8hxxkj1</td>\n",
       "      <td>NaN</td>\n",
       "    </tr>\n",
       "    <tr>\n",
       "      <th>13</th>\n",
       "      <td>qdre60bu5yqy1socrinaqpwjpw</td>\n",
       "      <td>NaN</td>\n",
       "    </tr>\n",
       "    <tr>\n",
       "      <th>20</th>\n",
       "      <td>ip7sunw40nzhy7hhqvoe4pbtvy</td>\n",
       "      <td>NaN</td>\n",
       "    </tr>\n",
       "    <tr>\n",
       "      <th>...</th>\n",
       "      <td>...</td>\n",
       "      <td>...</td>\n",
       "    </tr>\n",
       "    <tr>\n",
       "      <th>161008</th>\n",
       "      <td>pwdzotpiuumlsgcxnbodsqqmon</td>\n",
       "      <td>NaN</td>\n",
       "    </tr>\n",
       "    <tr>\n",
       "      <th>161010</th>\n",
       "      <td>k9meaohmztomnopznzzbcdorqt</td>\n",
       "      <td>NaN</td>\n",
       "    </tr>\n",
       "    <tr>\n",
       "      <th>161013</th>\n",
       "      <td>qod9geqy2yyqosu2xrjyatbsvq</td>\n",
       "      <td>NaN</td>\n",
       "    </tr>\n",
       "    <tr>\n",
       "      <th>161014</th>\n",
       "      <td>nvezbqfonuzshthd38g3ajjopo</td>\n",
       "      <td>NaN</td>\n",
       "    </tr>\n",
       "    <tr>\n",
       "      <th>161026</th>\n",
       "      <td>abpz5y53frcqdfc9nl5ojj1uzi</td>\n",
       "      <td>NaN</td>\n",
       "    </tr>\n",
       "  </tbody>\n",
       "</table>\n",
       "<p>49341 rows × 2 columns</p>\n",
       "</div>"
      ],
      "text/plain": [
       "                          user.uid  in_users\n",
       "0       6m8fx3mvanac7bcltkx79lbxjs       NaN\n",
       "5       ujp5e6dtw9cvituayhlvevvdk6       NaN\n",
       "6       mlwkfozqeefazgmboia8hxxkj1       NaN\n",
       "13      qdre60bu5yqy1socrinaqpwjpw       NaN\n",
       "20      ip7sunw40nzhy7hhqvoe4pbtvy       NaN\n",
       "...                            ...       ...\n",
       "161008  pwdzotpiuumlsgcxnbodsqqmon       NaN\n",
       "161010  k9meaohmztomnopznzzbcdorqt       NaN\n",
       "161013  qod9geqy2yyqosu2xrjyatbsvq       NaN\n",
       "161014  nvezbqfonuzshthd38g3ajjopo       NaN\n",
       "161026  abpz5y53frcqdfc9nl5ojj1uzi       NaN\n",
       "\n",
       "[49341 rows x 2 columns]"
      ]
     },
     "execution_count": 83,
     "metadata": {},
     "output_type": "execute_result"
    }
   ],
   "source": [
    "# SELECT\n",
    "#   A.user.uid,\n",
    "#   count(1) as num_rows\n",
    "# FROM \n",
    "#   (SELECT DISTINCT user.uid\n",
    "#   FROM cards_df\n",
    "#   WHERE user.uid IS NOT NULL) AS A\n",
    "#   LEFT JOIN\n",
    "#   (SELECT user.uid, 1.0 AS in_users\n",
    "#   FROM users_df) AS B\n",
    "#   ON A.user.uid = B.user.uid\n",
    "# WHERE\n",
    "#   in_users IS NULL\n",
    "\n",
    "(cards_df\n",
    " [['user.uid']]\n",
    " .loc[lambda tbl: tbl['user.uid'].notnull()]\n",
    " .drop_duplicates()\n",
    " .merge(users_df[['user.uid']].assign(in_users=1.0),\n",
    "        how='left',\n",
    "        on='user.uid'\n",
    "        )\n",
    " .loc[lambda tbl: tbl['in_users'].isnull()]\n",
    ")"
   ]
  },
  {
   "cell_type": "code",
   "execution_count": 84,
   "id": "09dbf29c",
   "metadata": {},
   "outputs": [
    {
     "data": {
      "text/plain": [
       "0         6m8fx3mvanac7bcltkx79lbxjs\n",
       "5         ujp5e6dtw9cvituayhlvevvdk6\n",
       "6         mlwkfozqeefazgmboia8hxxkj1\n",
       "13        qdre60bu5yqy1socrinaqpwjpw\n",
       "20        ip7sunw40nzhy7hhqvoe4pbtvy\n",
       "                     ...            \n",
       "161008    pwdzotpiuumlsgcxnbodsqqmon\n",
       "161010    k9meaohmztomnopznzzbcdorqt\n",
       "161013    qod9geqy2yyqosu2xrjyatbsvq\n",
       "161014    nvezbqfonuzshthd38g3ajjopo\n",
       "161026    abpz5y53frcqdfc9nl5ojj1uzi\n",
       "Name: user.uid, Length: 49341, dtype: string"
      ]
     },
     "metadata": {},
     "output_type": "display_data"
    }
   ],
   "source": [
    "# from the table printed before I select just the column ['user.uid'],\n",
    "# those IDs without a correspondence in the users_df\n",
    "card_fail_useruids = (cards_df\n",
    "    [['user.uid']]\n",
    "    .loc[lambda tbl: tbl['user.uid'].notnull()]\n",
    "    .drop_duplicates()\n",
    "    .merge(users_df[['user.uid']].assign(in_users=1.0),\n",
    "            how='left',\n",
    "            on='user.uid'\n",
    "            )\n",
    "    .loc[lambda tbl: tbl['in_users'].isnull()]\n",
    "    ['user.uid']\n",
    ")\n",
    "display(card_fail_useruids)"
   ]
  },
  {
   "cell_type": "code",
   "execution_count": 85,
   "id": "3a29e241",
   "metadata": {},
   "outputs": [
    {
     "data": {
      "text/html": [
       "<div>\n",
       "<style scoped>\n",
       "    .dataframe tbody tr th:only-of-type {\n",
       "        vertical-align: middle;\n",
       "    }\n",
       "\n",
       "    .dataframe tbody tr th {\n",
       "        vertical-align: top;\n",
       "    }\n",
       "\n",
       "    .dataframe thead th {\n",
       "        text-align: right;\n",
       "    }\n",
       "</style>\n",
       "<table border=\"1\" class=\"dataframe\">\n",
       "  <thead>\n",
       "    <tr style=\"text-align: right;\">\n",
       "      <th></th>\n",
       "      <th>card.uid</th>\n",
       "      <th>assignedAt</th>\n",
       "      <th>birthday</th>\n",
       "      <th>status</th>\n",
       "      <th>user.uid</th>\n",
       "    </tr>\n",
       "  </thead>\n",
       "  <tbody>\n",
       "    <tr>\n",
       "      <th>0</th>\n",
       "      <td>00000001</td>\n",
       "      <td>2025-02-01</td>\n",
       "      <td>2018-07-02</td>\n",
       "      <td>pending</td>\n",
       "      <td>6m8fx3mvanac7bcltkx79lbxjs</td>\n",
       "    </tr>\n",
       "    <tr>\n",
       "      <th>7</th>\n",
       "      <td>00000077</td>\n",
       "      <td>2017-12-20</td>\n",
       "      <td>NaT</td>\n",
       "      <td>pending</td>\n",
       "      <td>ujp5e6dtw9cvituayhlvevvdk6</td>\n",
       "    </tr>\n",
       "    <tr>\n",
       "      <th>8</th>\n",
       "      <td>00000088</td>\n",
       "      <td>2018-01-07</td>\n",
       "      <td>NaT</td>\n",
       "      <td>pending</td>\n",
       "      <td>mlwkfozqeefazgmboia8hxxkj1</td>\n",
       "    </tr>\n",
       "    <tr>\n",
       "      <th>12</th>\n",
       "      <td>00000125</td>\n",
       "      <td>2020-01-02</td>\n",
       "      <td>NaT</td>\n",
       "      <td>pending</td>\n",
       "      <td>ujp5e6dtw9cvituayhlvevvdk6</td>\n",
       "    </tr>\n",
       "    <tr>\n",
       "      <th>13</th>\n",
       "      <td>00000136</td>\n",
       "      <td>2020-01-19</td>\n",
       "      <td>NaT</td>\n",
       "      <td>pending</td>\n",
       "      <td>ujp5e6dtw9cvituayhlvevvdk6</td>\n",
       "    </tr>\n",
       "    <tr>\n",
       "      <th>...</th>\n",
       "      <td>...</td>\n",
       "      <td>...</td>\n",
       "      <td>...</td>\n",
       "      <td>...</td>\n",
       "      <td>...</td>\n",
       "    </tr>\n",
       "    <tr>\n",
       "      <th>805346</th>\n",
       "      <td>99127121</td>\n",
       "      <td>2022-03-11</td>\n",
       "      <td>1990-11-11</td>\n",
       "      <td>pending</td>\n",
       "      <td>oa88nzwvnfqifqhhuegnizcuzk</td>\n",
       "    </tr>\n",
       "    <tr>\n",
       "      <th>805347</th>\n",
       "      <td>99127132</td>\n",
       "      <td>2022-12-29</td>\n",
       "      <td>1996-02-21</td>\n",
       "      <td>pending</td>\n",
       "      <td>nvezbqfonuzshthd38g3ajjopo</td>\n",
       "    </tr>\n",
       "    <tr>\n",
       "      <th>805369</th>\n",
       "      <td>99127350</td>\n",
       "      <td>2024-12-27</td>\n",
       "      <td>2016-01-01</td>\n",
       "      <td>valid</td>\n",
       "      <td>oa88nzwvnfqifqhhuegnizcuzk</td>\n",
       "    </tr>\n",
       "    <tr>\n",
       "      <th>805736</th>\n",
       "      <td>99131027</td>\n",
       "      <td>2024-01-19</td>\n",
       "      <td>1965-04-23</td>\n",
       "      <td>pending</td>\n",
       "      <td>abpz5y53frcqdfc9nl5ojj1uzi</td>\n",
       "    </tr>\n",
       "    <tr>\n",
       "      <th>805806</th>\n",
       "      <td>99131728</td>\n",
       "      <td>2022-01-28</td>\n",
       "      <td>1995-10-14</td>\n",
       "      <td>pending</td>\n",
       "      <td>xtaom20duhpf4r3mrkxks12ifk</td>\n",
       "    </tr>\n",
       "  </tbody>\n",
       "</table>\n",
       "<p>84394 rows × 5 columns</p>\n",
       "</div>"
      ],
      "text/plain": [
       "        card.uid assignedAt   birthday   status                    user.uid\n",
       "0       00000001 2025-02-01 2018-07-02  pending  6m8fx3mvanac7bcltkx79lbxjs\n",
       "7       00000077 2017-12-20        NaT  pending  ujp5e6dtw9cvituayhlvevvdk6\n",
       "8       00000088 2018-01-07        NaT  pending  mlwkfozqeefazgmboia8hxxkj1\n",
       "12      00000125 2020-01-02        NaT  pending  ujp5e6dtw9cvituayhlvevvdk6\n",
       "13      00000136 2020-01-19        NaT  pending  ujp5e6dtw9cvituayhlvevvdk6\n",
       "...          ...        ...        ...      ...                         ...\n",
       "805346  99127121 2022-03-11 1990-11-11  pending  oa88nzwvnfqifqhhuegnizcuzk\n",
       "805347  99127132 2022-12-29 1996-02-21  pending  nvezbqfonuzshthd38g3ajjopo\n",
       "805369  99127350 2024-12-27 2016-01-01    valid  oa88nzwvnfqifqhhuegnizcuzk\n",
       "805736  99131027 2024-01-19 1965-04-23  pending  abpz5y53frcqdfc9nl5ojj1uzi\n",
       "805806  99131728 2022-01-28 1995-10-14  pending  xtaom20duhpf4r3mrkxks12ifk\n",
       "\n",
       "[84394 rows x 5 columns]"
      ]
     },
     "metadata": {},
     "output_type": "display_data"
    },
    {
     "data": {
      "text/html": [
       "<div>\n",
       "<style scoped>\n",
       "    .dataframe tbody tr th:only-of-type {\n",
       "        vertical-align: middle;\n",
       "    }\n",
       "\n",
       "    .dataframe tbody tr th {\n",
       "        vertical-align: top;\n",
       "    }\n",
       "\n",
       "    .dataframe thead th {\n",
       "        text-align: right;\n",
       "    }\n",
       "</style>\n",
       "<table border=\"1\" class=\"dataframe\">\n",
       "  <thead>\n",
       "    <tr style=\"text-align: right;\">\n",
       "      <th></th>\n",
       "      <th>num_rows</th>\n",
       "    </tr>\n",
       "    <tr>\n",
       "      <th>in_users</th>\n",
       "      <th></th>\n",
       "    </tr>\n",
       "  </thead>\n",
       "  <tbody>\n",
       "    <tr>\n",
       "      <th>1.0</th>\n",
       "      <td>111687</td>\n",
       "    </tr>\n",
       "  </tbody>\n",
       "</table>\n",
       "</div>"
      ],
      "text/plain": [
       "          num_rows\n",
       "in_users          \n",
       "1.0         111687"
      ]
     },
     "metadata": {},
     "output_type": "display_data"
    }
   ],
   "source": [
    "# extract now the profiles with \"inconsistent\" 'user.uid'\n",
    "card_fail_useruid_df = cards_df.loc[lambda tbl: tbl['user.uid'].isin(card_fail_useruids)]\n",
    "display(card_fail_useruid_df)\n",
    "\n",
    "# FIX Foreing Key ISSUE: remove them ! \n",
    "cards_df.drop(list(card_fail_useruid_df.index), inplace=True)\n",
    "\n",
    "display(\n",
    "    cards_df\n",
    "    [['user.uid']]\n",
    "    .loc[lambda tbl: tbl['user.uid'].notnull()]\n",
    "    .drop_duplicates()\n",
    "    .merge(users_df[['user.uid']].assign(in_users=1.0),\n",
    "            how='left',\n",
    "            on='user.uid'\n",
    "            )\n",
    "    .assign(aux=1.0)\n",
    "    .groupby(['in_users'], dropna=False)\n",
    "    .agg(num_rows=('aux', pd.Series.count))\n",
    "    .loc[lambda tbl: tbl['num_rows'] > 1]\n",
    ")\n",
    "# now, as expected, I don't have null values after the left join"
   ]
  },
  {
   "cell_type": "markdown",
   "id": "c8bf576f",
   "metadata": {},
   "source": [
    "## Load Orders"
   ]
  },
  {
   "cell_type": "code",
   "execution_count": 86,
   "id": "5d72857a",
   "metadata": {},
   "outputs": [],
   "source": [
    "safeload_orders_df = pd.read_csv(orders_in_path,\n",
    "                                 dtype='string',\n",
    "                                 na_values=[],\n",
    "                                 keep_default_na=False\n",
    "                                )"
   ]
  },
  {
   "cell_type": "code",
   "execution_count": 87,
   "id": "d044d767",
   "metadata": {},
   "outputs": [
    {
     "data": {
      "text/plain": [
       "Index(['order.uid', 'user.uid', 'createdAt', 'createdAtTime', 'paymentGateway',\n",
       "       'paymentBrand', 'pickup', 'pickupComplete', 'source', 'tenant',\n",
       "       'paymentAttempts', 'timeZone', 'clientInfo'],\n",
       "      dtype='object')"
      ]
     },
     "execution_count": 87,
     "metadata": {},
     "output_type": "execute_result"
    }
   ],
   "source": [
    "safeload_orders_df.columns"
   ]
  },
  {
   "cell_type": "code",
   "execution_count": 88,
   "id": "6b309a2f",
   "metadata": {},
   "outputs": [
    {
     "data": {
      "text/plain": [
       "(549900, 13)"
      ]
     },
     "execution_count": 88,
     "metadata": {},
     "output_type": "execute_result"
    }
   ],
   "source": [
    "safeload_orders_df.shape"
   ]
  },
  {
   "cell_type": "code",
   "execution_count": 89,
   "id": "4d8b881a",
   "metadata": {},
   "outputs": [
    {
     "data": {
      "text/plain": [
       "<StringArray>\n",
       "['4y9zqqvldfqr9n2xnu', 'termljwsr2gecnzwks', 'ko8axscf5grobnz9in',\n",
       " 'tu8b9haokkimu72aza', 'a8mvwuv6ileh9aqblu', 'kmwabdpnhtm46p8me8',\n",
       " 'i9eovtgp3uxbmesebv', 'nsc55zfspubshggcm5', 'ltr5f48gwicqwcnzkf',\n",
       " 'eyx8wesrjaeltlgqna',\n",
       " ...\n",
       " '5f8he6aq0sbnmrrwzq', 'g0tkwbe686jnynbxs9', 'aoud70hexrj3uryxmd',\n",
       " 'h0vb0rmb2mk4c7s3tv', 'v1obzy9nwp99nanhue', '6icnjfrltzhdi2eato',\n",
       " '4n6z8api7q0cz8jxox', 'pdubfidjsudk9mhwdc', 'f8zj28hdatvraibekk',\n",
       " 'wy69h8jsgozdrxlu9i']\n",
       "Length: 549900, dtype: string"
      ]
     },
     "execution_count": 89,
     "metadata": {},
     "output_type": "execute_result"
    }
   ],
   "source": [
    "col_to_check = 'order.uid'\n",
    "safeload_orders_df[col_to_check].unique()"
   ]
  },
  {
   "cell_type": "code",
   "execution_count": 90,
   "id": "18143571",
   "metadata": {},
   "outputs": [
    {
     "data": {
      "text/plain": [
       "<StringArray>\n",
       "['nu7fhz41rzwbkabapcufr6g18r', 'ghol7lwjlhewwvasejlxa9fv00',\n",
       " 'nhuh3scqoktj6n5mnqkvgyh43h', 'oyekz0wyxcplvrpencpuue6sdt',\n",
       " '1p0ocryxz4ts2wtsi1bawtjndt', 'hkxsbgefntzwsodvj3ztvp3gm1',\n",
       " 'j7dlvmya0aazq8muvzafu1ezmo', 'wbg4irhu8cts7vqtzmx6f8xwg7',\n",
       " 'angticjoeipyve4gpwgwd7nv53', 'd27f4w0n0sys7hpxdedthm0q1s',\n",
       " ...\n",
       " 'ri3lqgshwnyc7tqb1ray1mvllb', '9nla4hgs9ofnyltgwookj3vm2x',\n",
       " 'wsunenfdtesnbkfiqjhahhsofp', 'thsfr16jtgrj9bdvczskbxftdf',\n",
       " 'kdepdh8lsiroc3uxvejhsjivcs', 'yzddjkp8wkrghj6ni6x9qxiwgd',\n",
       " '45lbumns5lqxr9x0ajdxdaz7vl', 'dwd3dybliaxryowwsadkmliluw',\n",
       " 'asyeuoax8uaw3np3tlyxpcfxzm', 'wfsihoehobxkipt3731virtjqq']\n",
       "Length: 231717, dtype: string"
      ]
     },
     "execution_count": 90,
     "metadata": {},
     "output_type": "execute_result"
    }
   ],
   "source": [
    "col_to_check = 'user.uid'\n",
    "safeload_orders_df[col_to_check].unique()"
   ]
  },
  {
   "cell_type": "code",
   "execution_count": 91,
   "id": "15ce0933",
   "metadata": {},
   "outputs": [
    {
     "data": {
      "text/plain": [
       "<StringArray>\n",
       "['2024-07-01', '2024-07-02', '2024-07-03', '2024-07-04', '2024-07-05',\n",
       " '2024-07-06', '2024-07-07', '2024-07-08', '2024-07-09', '2024-07-10',\n",
       " ...\n",
       " '2022-07-10', '2022-07-09', '2022-07-08', '2022-07-07', '2022-07-06',\n",
       " '2022-07-05', '2022-07-04', '2022-07-03', '2022-07-02', '2022-07-01']\n",
       "Length: 957, dtype: string"
      ]
     },
     "execution_count": 91,
     "metadata": {},
     "output_type": "execute_result"
    }
   ],
   "source": [
    "col_to_check = 'createdAt'\n",
    "safeload_orders_df[col_to_check].unique()"
   ]
  },
  {
   "cell_type": "code",
   "execution_count": 92,
   "id": "cb5a2da1",
   "metadata": {},
   "outputs": [
    {
     "data": {
      "text/plain": [
       "<StringArray>\n",
       "['2024-07-01 19:41:44', '2024-07-01 18:34:12', '2024-07-01 16:08:26',\n",
       " '2024-07-01 16:02:11', '2024-07-01 15:46:12', '2024-07-01 09:01:16',\n",
       " '2024-07-01 08:56:34', '2024-07-01 08:45:56', '2024-07-01 08:39:48',\n",
       " '2024-07-01 08:33:35',\n",
       " ...\n",
       " '2022-07-01 18:56:40', '2022-07-01 18:22:27', '2022-07-01 16:12:06',\n",
       " '2022-07-01 14:08:23', '2022-07-01 12:43:26', '2022-07-01 11:41:06',\n",
       " '2022-07-01 09:52:34', '2022-07-01 09:06:21', '2022-07-01 07:27:10',\n",
       " '2022-07-01 06:36:05']\n",
       "Length: 536393, dtype: string"
      ]
     },
     "execution_count": 92,
     "metadata": {},
     "output_type": "execute_result"
    }
   ],
   "source": [
    "col_to_check = 'createdAtTime'\n",
    "safeload_orders_df[col_to_check].unique()"
   ]
  },
  {
   "cell_type": "code",
   "execution_count": 93,
   "id": "d06af78c",
   "metadata": {},
   "outputs": [
    {
     "data": {
      "text/plain": [
       "<StringArray>\n",
       "['stripe', 'discount', 'welfare', 'scalapay', 'coupon', 'satispay']\n",
       "Length: 6, dtype: string"
      ]
     },
     "execution_count": 93,
     "metadata": {},
     "output_type": "execute_result"
    }
   ],
   "source": [
    "col_to_check = 'paymentGateway'\n",
    "safeload_orders_df[col_to_check].unique()"
   ]
  },
  {
   "cell_type": "code",
   "execution_count": 94,
   "id": "f908be31",
   "metadata": {},
   "outputs": [
    {
     "data": {
      "text/plain": [
       "<StringArray>\n",
       "['visa', '', 'mastercard', 'amex', 'diners', 'discover', 'unionpay']\n",
       "Length: 7, dtype: string"
      ]
     },
     "execution_count": 94,
     "metadata": {},
     "output_type": "execute_result"
    }
   ],
   "source": [
    "col_to_check = 'paymentBrand'\n",
    "safeload_orders_df[col_to_check].unique()"
   ]
  },
  {
   "cell_type": "code",
   "execution_count": 95,
   "id": "5e17f738",
   "metadata": {},
   "outputs": [
    {
     "data": {
      "text/plain": [
       "<StringArray>\n",
       "['False', 'True']\n",
       "Length: 2, dtype: string"
      ]
     },
     "execution_count": 95,
     "metadata": {},
     "output_type": "execute_result"
    }
   ],
   "source": [
    "col_to_check = 'pickup'\n",
    "safeload_orders_df[col_to_check].unique()"
   ]
  },
  {
   "cell_type": "code",
   "execution_count": 96,
   "id": "78fd607e",
   "metadata": {},
   "outputs": [
    {
     "data": {
      "text/plain": [
       "<StringArray>\n",
       "['False', 'True']\n",
       "Length: 2, dtype: string"
      ]
     },
     "execution_count": 96,
     "metadata": {},
     "output_type": "execute_result"
    }
   ],
   "source": [
    "col_to_check = 'pickupComplete'\n",
    "safeload_orders_df[col_to_check].unique()"
   ]
  },
  {
   "cell_type": "code",
   "execution_count": 97,
   "id": "3852fd37",
   "metadata": {},
   "outputs": [
    {
     "data": {
      "text/plain": [
       "<StringArray>\n",
       "['website', 'app', '']\n",
       "Length: 3, dtype: string"
      ]
     },
     "execution_count": 97,
     "metadata": {},
     "output_type": "execute_result"
    }
   ],
   "source": [
    "col_to_check = 'source'\n",
    "safeload_orders_df[col_to_check].unique()"
   ]
  },
  {
   "cell_type": "code",
   "execution_count": 98,
   "id": "5cefb05c",
   "metadata": {},
   "outputs": [
    {
     "data": {
      "text/plain": [
       "<StringArray>\n",
       "[ 'snowit_esterno',         'tribala',       'discovera',          'snowit',\n",
       "  'bikeit_esterno',          'bikeit',  'snowit_welfare',  'bikeit_welfare',\n",
       " 'tribala_esterno', 'tribala_welfare',                '']\n",
       "Length: 11, dtype: string"
      ]
     },
     "execution_count": 98,
     "metadata": {},
     "output_type": "execute_result"
    }
   ],
   "source": [
    "col_to_check = 'tenant'\n",
    "safeload_orders_df[col_to_check].unique()"
   ]
  },
  {
   "cell_type": "code",
   "execution_count": 99,
   "id": "34341e7e",
   "metadata": {},
   "outputs": [
    {
     "data": {
      "text/plain": [
       "<StringArray>\n",
       "[ '2',  '1',  '3',  '4',  '5', '11',  '6',  '7', '10',  '8',  '9', '13', '22',\n",
       " '12', '16', '14', '19', '18', '17', '26', '21', '15', '25', '34', '23', '24',\n",
       " '31']\n",
       "Length: 27, dtype: string"
      ]
     },
     "execution_count": 99,
     "metadata": {},
     "output_type": "execute_result"
    }
   ],
   "source": [
    "col_to_check = 'paymentAttempts'\n",
    "safeload_orders_df[col_to_check].unique()"
   ]
  },
  {
   "cell_type": "code",
   "execution_count": 100,
   "id": "a84c747b",
   "metadata": {},
   "outputs": [
    {
     "data": {
      "text/plain": [
       "<StringArray>\n",
       "['', 'Europe/Rome']\n",
       "Length: 2, dtype: string"
      ]
     },
     "execution_count": 100,
     "metadata": {},
     "output_type": "execute_result"
    }
   ],
   "source": [
    "col_to_check = 'timeZone'\n",
    "safeload_orders_df[col_to_check].unique()"
   ]
  },
  {
   "cell_type": "code",
   "execution_count": 101,
   "id": "487357da",
   "metadata": {},
   "outputs": [
    {
     "data": {
      "text/plain": [
       "<StringArray>\n",
       "[                                           '{\"browser\":{\"major\":\"126\",\"name\":\"Chrome\",\"version\":\"126.0.0.0\"},\"cpu\":{\"architecture\":\"amd64\"},\"device\":{\"model\":null,\"type\":null,\"vendor\":null},\"engine\":{\"name\":\"Blink\",\"version\":\"126.0.0.0\"},\"os\":{\"name\":\"Windows\",\"version\":\"10\"},\"ua\":\"Mozilla/5.0 (Windows NT 10.0; Win64; x64) AppleWebKit/537.36 (KHTML, like Gecko) Chrome/126.0.0.0 Safari/537.36\"}',\n",
       " '{\"browser\":{\"major\":\"126\",\"name\":\"Chrome\",\"version\":\"126.0.6478.153\"},\"cpu\":{\"architecture\":null},\"device\":{\"model\":\"iPhone\",\"type\":\"mobile\",\"vendor\":\"Apple\"},\"engine\":{\"name\":\"WebKit\",\"version\":\"605.1.15\"},\"os\":{\"name\":\"iOS\",\"version\":\"17.5\"},\"ua\":\"Mozilla/5.0 (iPhone; CPU iPhone OS 17_5 like Mac OS X) AppleWebKit/605.1.15 (KHTML, like Gecko) CriOS/126.0.6478.153 Mobile/15E148 Safari/604.1\"}',\n",
       "                           '{\"browser\":{\"major\":\"126\",\"name\":\"Chrome\",\"version\":\"126.0.0.0\"},\"cpu\":{\"architecture\":null},\"device\":{\"model\":\"Macintosh\",\"type\":null,\"vendor\":\"Apple\"},\"engine\":{\"name\":\"Blink\",\"version\":\"126.0.0.0\"},\"os\":{\"name\":\"Mac OS\",\"version\":\"10.15.7\"},\"ua\":\"Mozilla/5.0 (Macintosh; Intel Mac OS X 10_15_7) AppleWebKit/537.36 (KHTML, like Gecko) Chrome/126.0.0.0 Safari/537.36\"}',\n",
       "                                            '{\"browser\":{\"major\":\"125\",\"name\":\"Chrome\",\"version\":\"125.0.0.0\"},\"cpu\":{\"architecture\":\"amd64\"},\"device\":{\"model\":null,\"type\":null,\"vendor\":null},\"engine\":{\"name\":\"Blink\",\"version\":\"125.0.0.0\"},\"os\":{\"name\":\"Windows\",\"version\":\"10\"},\"ua\":\"Mozilla/5.0 (Windows NT 10.0; Win64; x64) AppleWebKit/537.36 (KHTML, like Gecko) Chrome/125.0.0.0 Safari/537.36\"}',\n",
       "                           '{\"browser\":{\"major\":\"125\",\"name\":\"Chrome\",\"version\":\"125.0.0.0\"},\"cpu\":{\"architecture\":null},\"device\":{\"model\":\"Macintosh\",\"type\":null,\"vendor\":\"Apple\"},\"engine\":{\"name\":\"Blink\",\"version\":\"125.0.0.0\"},\"os\":{\"name\":\"Mac OS\",\"version\":\"10.15.7\"},\"ua\":\"Mozilla/5.0 (Macintosh; Intel Mac OS X 10_15_7) AppleWebKit/537.36 (KHTML, like Gecko) Chrome/125.0.0.0 Safari/537.36\"}',\n",
       "         '{\"browser\":{\"major\":\"17\",\"name\":\"Mobile Safari\",\"version\":\"17.5\"},\"cpu\":{\"architecture\":null},\"device\":{\"model\":\"iPhone\",\"type\":\"mobile\",\"vendor\":\"Apple\"},\"engine\":{\"name\":\"WebKit\",\"version\":\"605.1.15\"},\"os\":{\"name\":\"iOS\",\"version\":\"17.5.1\"},\"ua\":\"Mozilla/5.0 (iPhone; CPU iPhone OS 17_5_1 like Mac OS X) AppleWebKit/605.1.15 (KHTML, like Gecko) Version/17.5 Mobile/15E148 Safari/604.1\"}',\n",
       "                                                                                                                                               '{\"browser\":{\"major\":null,\"name\":null,\"version\":null},\"cpu\":{\"architecture\":null},\"device\":{\"model\":null,\"type\":null,\"vendor\":null},\"engine\":{\"name\":null,\"version\":null},\"os\":{\"name\":\"iOS\",\"version\":null},\"ua\":\"Snowit/1 CFNetwork/1494.0.7 Darwin/23.4.0\"}',\n",
       "                                            '{\"browser\":{\"major\":\"126\",\"name\":\"Chrome\",\"version\":\"126.0.0.0\"},\"cpu\":{\"architecture\":null},\"device\":{\"model\":\"K\",\"type\":\"mobile\",\"vendor\":null},\"engine\":{\"name\":\"Blink\",\"version\":\"126.0.0.0\"},\"os\":{\"name\":\"Android\",\"version\":\"10\"},\"ua\":\"Mozilla/5.0 (Linux; Android 10; K) AppleWebKit/537.36 (KHTML, like Gecko) Chrome/126.0.0.0 Mobile Safari/537.36\"}',\n",
       "                                                                                                                                               '{\"browser\":{\"major\":null,\"name\":null,\"version\":null},\"cpu\":{\"architecture\":null},\"device\":{\"model\":null,\"type\":null,\"vendor\":null},\"engine\":{\"name\":null,\"version\":null},\"os\":{\"name\":\"iOS\",\"version\":null},\"ua\":\"Snowit/1 CFNetwork/1410.0.3 Darwin/22.6.0\"}',\n",
       "                                 '{\"browser\":{\"major\":\"17\",\"name\":\"Safari\",\"version\":\"17.5\"},\"cpu\":{\"architecture\":null},\"device\":{\"model\":\"Macintosh\",\"type\":null,\"vendor\":\"Apple\"},\"engine\":{\"name\":\"WebKit\",\"version\":\"605.1.15\"},\"os\":{\"name\":\"Mac OS\",\"version\":\"10.15.7\"},\"ua\":\"Mozilla/5.0 (Macintosh; Intel Mac OS X 10_15_7) AppleWebKit/605.1.15 (KHTML, like Gecko) Version/17.5 Safari/605.1.15\"}',\n",
       " ...\n",
       "                '{\"browser\":{\"major\":\"103\",\"name\":\"Edge\",\"version\":\"103.0.1264.37\"},\"cpu\":{\"architecture\":\"amd64\"},\"device\":{\"model\":null,\"type\":null,\"vendor\":null},\"engine\":{\"name\":\"Blink\",\"version\":\"103.0.5060.53\"},\"os\":{\"name\":\"Windows\",\"version\":\"10\"},\"ua\":\"Mozilla/5.0 (Windows NT 10.0; Win64; x64) AppleWebKit/537.36 (KHTML, like Gecko) Chrome/103.0.5060.53 Safari/537.36 Edg/103.0.1264.37\"}',\n",
       "                            '{\"browser\":{\"major\":\"87\",\"name\":\"Chrome\",\"version\":\"87.0.4280.141\"},\"cpu\":{\"architecture\":null},\"device\":{\"model\":null,\"type\":null,\"vendor\":null},\"engine\":{\"name\":\"Blink\",\"version\":\"87.0.4280.141\"},\"os\":{\"name\":\"Mac OS\",\"version\":\"12.2.1\"},\"ua\":\"Mozilla/5.0 (Macintosh; Intel Mac OS X 12_2_1) AppleWebKit/537.36 (KHTML, like Gecko) Chrome/87.0.4280.141 Safari/537.36\"}',\n",
       "                              '{\"browser\":{\"major\":\"103\",\"name\":\"Chrome\",\"version\":\"103.0.0.0\"},\"cpu\":{\"architecture\":null},\"device\":{\"model\":\"M2102K1G\",\"type\":\"mobile\",\"vendor\":null},\"engine\":{\"name\":\"Blink\",\"version\":\"103.0.0.0\"},\"os\":{\"name\":\"Android\",\"version\":\"12\"},\"ua\":\"Mozilla/5.0 (Linux; Android 12; M2102K1G) AppleWebKit/537.36 (KHTML, like Gecko) Chrome/103.0.0.0 Mobile Safari/537.36\"}',\n",
       "                '{\"browser\":{\"major\":\"102\",\"name\":\"Chrome\",\"version\":\"102.0.0.0\"},\"cpu\":{\"architecture\":null},\"device\":{\"model\":\"Mi Note 10 Lite\",\"type\":\"mobile\",\"vendor\":null},\"engine\":{\"name\":\"Blink\",\"version\":\"102.0.0.0\"},\"os\":{\"name\":\"Android\",\"version\":\"12\"},\"ua\":\"Mozilla/5.0 (Linux; Android 12; Mi Note 10 Lite) AppleWebKit/537.36 (KHTML, like Gecko) Chrome/102.0.0.0 Mobile Safari/537.36\"}',\n",
       "                                                                   '{\"browser\":{\"major\":\"605\",\"name\":\"WebKit\",\"version\":\"605.1.15\"},\"cpu\":{\"architecture\":null},\"device\":{\"model\":null,\"type\":null,\"vendor\":null},\"engine\":{\"name\":\"WebKit\",\"version\":\"605.1.15\"},\"os\":{\"name\":\"Mac OS\",\"version\":\"10.15.6\"},\"ua\":\"Mozilla/5.0 (Macintosh; Intel Mac OS X 10_15_6) AppleWebKit/605.1.15 (KHTML, like Gecko)\"}',\n",
       "              '{\"browser\":{\"major\":\"101\",\"name\":\"Firefox\",\"version\":\"101.1\"},\"cpu\":{\"architecture\":null},\"device\":{\"model\":\"iPhone\",\"type\":\"mobile\",\"vendor\":\"Apple\"},\"engine\":{\"name\":\"WebKit\",\"version\":\"605.1.15\"},\"os\":{\"name\":\"iOS\",\"version\":\"15.5\"},\"ua\":\"Mozilla/5.0 (iPhone; CPU iPhone OS 15_5 like Mac OS X) AppleWebKit/605.1.15 (KHTML, like Gecko) FxiOS/101.1  Mobile/15E148 Safari/605.1.15\"}',\n",
       "                      '{\"browser\":{\"major\":\"102\",\"name\":\"Chrome\",\"version\":\"102.0.5005.115\"},\"cpu\":{\"architecture\":null},\"device\":{\"model\":null,\"type\":null,\"vendor\":null},\"engine\":{\"name\":\"Blink\",\"version\":\"102.0.5005.115\"},\"os\":{\"name\":\"Mac OS\",\"version\":\"10.13.6\"},\"ua\":\"Mozilla/5.0 (Macintosh; Intel Mac OS X 10_13_6) AppleWebKit/537.36 (KHTML, like Gecko) Chrome/102.0.5005.115 Safari/537.36\"}',\n",
       "                          '{\"browser\":{\"major\":\"85\",\"name\":\"Chrome\",\"version\":\"85.0.4183.81\"},\"cpu\":{\"architecture\":null},\"device\":{\"model\":\"MRD-LX1\",\"type\":\"mobile\",\"vendor\":null},\"engine\":{\"name\":\"Blink\",\"version\":\"85.0.4183.81\"},\"os\":{\"name\":\"Android\",\"version\":\"9\"},\"ua\":\"Mozilla/5.0 (Linux; Android 9; MRD-LX1) AppleWebKit/537.36 (KHTML, like Gecko) Chrome/85.0.4183.81 Mobile Safari/537.36\"}',\n",
       "                     '{\"browser\":{\"major\":\"102\",\"name\":\"Chrome\",\"version\":\"102.0.0.0\"},\"cpu\":{\"architecture\":null},\"device\":{\"model\":\"o\",\"type\":\"mobile\",\"vendor\":\"Motorola\"},\"engine\":{\"name\":\"Blink\",\"version\":\"102.0.0.0\"},\"os\":{\"name\":\"Android\",\"version\":\"8.0.0\"},\"ua\":\"Mozilla/5.0 (Linux; Android 8.0.0; Moto Z2 Play) AppleWebKit/537.36 (KHTML, like Gecko) Chrome/102.0.0.0 Mobile Safari/537.36\"}',\n",
       "                                                                               '{\"browser\":{\"major\":\"101\",\"name\":\"Firefox\",\"version\":\"101.0\"},\"cpu\":{\"architecture\":null},\"device\":{\"model\":null,\"type\":null,\"vendor\":null},\"engine\":{\"name\":\"Gecko\",\"version\":\"101.0\"},\"os\":{\"name\":\"Mac OS\",\"version\":\"10.15\"},\"ua\":\"Mozilla/5.0 (Macintosh; Intel Mac OS X 10.15; rv:101.0) Gecko/20100101 Firefox/101.0\"}']\n",
       "Length: 12284, dtype: string"
      ]
     },
     "execution_count": 101,
     "metadata": {},
     "output_type": "execute_result"
    }
   ],
   "source": [
    "col_to_check = 'clientInfo'\n",
    "safeload_orders_df[col_to_check].unique()"
   ]
  },
  {
   "cell_type": "code",
   "execution_count": 102,
   "id": "eb77350e",
   "metadata": {},
   "outputs": [],
   "source": [
    "# Read and fix\n",
    "import numpy as np\n",
    "\n",
    "orders_df = pd.read_csv(orders_in_path,\n",
    "                       keep_default_na=False,\n",
    "                       na_values=NA_VALUES, # assign the ones previously defined\n",
    "                       dtype={\n",
    "                           'user.uid': 'string',\n",
    "                           'order.uid': 'string',\n",
    "                           'createdAt': 'string',\n",
    "                           'createdAtTime': 'string',\n",
    "                           'paymentGateway': 'string',\n",
    "                           'paymentBrand': 'string',\n",
    "                           'pickup': 'boolean',\n",
    "                           'pickupComplete': 'boolean',\n",
    "                           'source': 'string',\n",
    "                           'tenant': 'string',\n",
    "                           'paymentAttempts': 'Int64',\n",
    "                           'timeZone': 'string',\n",
    "                           'clientInfo': 'string',\n",
    "                       }\n",
    "                       )\n",
    "\n",
    "orders_df['createdAt'] = pd.to_datetime(orders_df['createdAt'])\n",
    "\n",
    "orders_df['createdAtTime'] = pd.to_datetime(orders_df['createdAtTime'])"
   ]
  },
  {
   "cell_type": "code",
   "execution_count": 103,
   "id": "e22f9af6",
   "metadata": {},
   "outputs": [
    {
     "data": {
      "text/plain": [
       "0"
      ]
     },
     "metadata": {},
     "output_type": "display_data"
    },
    {
     "data": {
      "text/html": [
       "<div>\n",
       "<style scoped>\n",
       "    .dataframe tbody tr th:only-of-type {\n",
       "        vertical-align: middle;\n",
       "    }\n",
       "\n",
       "    .dataframe tbody tr th {\n",
       "        vertical-align: top;\n",
       "    }\n",
       "\n",
       "    .dataframe thead th {\n",
       "        text-align: right;\n",
       "    }\n",
       "</style>\n",
       "<table border=\"1\" class=\"dataframe\">\n",
       "  <thead>\n",
       "    <tr style=\"text-align: right;\">\n",
       "      <th></th>\n",
       "      <th>num_rows</th>\n",
       "    </tr>\n",
       "    <tr>\n",
       "      <th>order.uid</th>\n",
       "      <th></th>\n",
       "    </tr>\n",
       "  </thead>\n",
       "  <tbody>\n",
       "  </tbody>\n",
       "</table>\n",
       "</div>"
      ],
      "text/plain": [
       "Empty DataFrame\n",
       "Columns: [num_rows]\n",
       "Index: []"
      ]
     },
     "metadata": {},
     "output_type": "display_data"
    }
   ],
   "source": [
    "# CHECK Primary Key VALIDITY\n",
    "\n",
    "# SELECT count(1) as num_rows\n",
    "# FROM orders_df\n",
    "# WHERE orders.uid IS NULL\n",
    "\n",
    "display(\n",
    "    orders_df\n",
    "    .loc[lambda tbl: tbl['order.uid'].isnull()]\n",
    "    .assign(aux=1.0)\n",
    "    .shape[0]\n",
    ")\n",
    "\n",
    "# SELECT order.uid, count(1) as num_rows\n",
    "# FROM orders_df\n",
    "# GROUP BY order.uid\n",
    "# HAVING num_rows > 1\n",
    "\n",
    "display(\n",
    "    orders_df\n",
    "    .assign(aux=1.0)\n",
    "    .groupby(['order.uid'], dropna=False)\n",
    "    .agg(num_rows=('aux', pd.Series.count))\n",
    "    .loc[lambda tbl: tbl['num_rows'] > 1]\n",
    ")"
   ]
  },
  {
   "cell_type": "code",
   "execution_count": 104,
   "id": "b7fff741",
   "metadata": {},
   "outputs": [
    {
     "data": {
      "text/html": [
       "<div>\n",
       "<style scoped>\n",
       "    .dataframe tbody tr th:only-of-type {\n",
       "        vertical-align: middle;\n",
       "    }\n",
       "\n",
       "    .dataframe tbody tr th {\n",
       "        vertical-align: top;\n",
       "    }\n",
       "\n",
       "    .dataframe thead th {\n",
       "        text-align: right;\n",
       "    }\n",
       "</style>\n",
       "<table border=\"1\" class=\"dataframe\">\n",
       "  <thead>\n",
       "    <tr style=\"text-align: right;\">\n",
       "      <th></th>\n",
       "      <th>num_rows</th>\n",
       "    </tr>\n",
       "    <tr>\n",
       "      <th>in_users</th>\n",
       "      <th></th>\n",
       "    </tr>\n",
       "  </thead>\n",
       "  <tbody>\n",
       "    <tr>\n",
       "      <th>1.0</th>\n",
       "      <td>161266</td>\n",
       "    </tr>\n",
       "    <tr>\n",
       "      <th>NaN</th>\n",
       "      <td>70451</td>\n",
       "    </tr>\n",
       "  </tbody>\n",
       "</table>\n",
       "</div>"
      ],
      "text/plain": [
       "          num_rows\n",
       "in_users          \n",
       "1.0         161266\n",
       "NaN          70451"
      ]
     },
     "execution_count": 104,
     "metadata": {},
     "output_type": "execute_result"
    }
   ],
   "source": [
    "# CHECK Foreign Key VALIDITY\n",
    "\n",
    "# SELECT\n",
    "#   A.user.uid,\n",
    "#   count(1) as num_rows\n",
    "# FROM \n",
    "#   (SELECT DISTINCT user.uid\n",
    "#   FROM orders_df\n",
    "#   WHERE user.uid IS NOT NULL) AS A\n",
    "#   LEFT JOIN\n",
    "#   (SELECT user.uid, 1.0 AS in_users\n",
    "#   FROM users_df) AS B\n",
    "#   ON A.user.uid = B.user.uid\n",
    "# GROUP BY in_users\n",
    "# HAVING num_rows > 1\n",
    "\n",
    "(orders_df\n",
    " [['user.uid']]\n",
    " .loc[lambda tbl: tbl['user.uid'].notnull()]\n",
    " .drop_duplicates()\n",
    " .merge(users_df[['user.uid']].assign(in_users=1.0),\n",
    "        how='left',\n",
    "        on='user.uid'\n",
    "        )\n",
    " .assign(aux=1.0)\n",
    " .groupby(['in_users'], dropna=False)\n",
    " .agg(num_rows=('aux', pd.Series.count))\n",
    " .loc[lambda tbl: tbl['num_rows'] > 1]\n",
    ")"
   ]
  },
  {
   "cell_type": "code",
   "execution_count": 105,
   "id": "d2c4f694",
   "metadata": {},
   "outputs": [],
   "source": [
    "# issue, I have 70451 orders with an empty left join with the user.uid table\n",
    "# let's visualize these 70451 profiles"
   ]
  },
  {
   "cell_type": "code",
   "execution_count": 106,
   "id": "e919ea86",
   "metadata": {},
   "outputs": [
    {
     "data": {
      "text/html": [
       "<div>\n",
       "<style scoped>\n",
       "    .dataframe tbody tr th:only-of-type {\n",
       "        vertical-align: middle;\n",
       "    }\n",
       "\n",
       "    .dataframe tbody tr th {\n",
       "        vertical-align: top;\n",
       "    }\n",
       "\n",
       "    .dataframe thead th {\n",
       "        text-align: right;\n",
       "    }\n",
       "</style>\n",
       "<table border=\"1\" class=\"dataframe\">\n",
       "  <thead>\n",
       "    <tr style=\"text-align: right;\">\n",
       "      <th></th>\n",
       "      <th>user.uid</th>\n",
       "      <th>in_users</th>\n",
       "    </tr>\n",
       "  </thead>\n",
       "  <tbody>\n",
       "    <tr>\n",
       "      <th>1</th>\n",
       "      <td>ghol7lwjlhewwvasejlxa9fv00</td>\n",
       "      <td>NaN</td>\n",
       "    </tr>\n",
       "    <tr>\n",
       "      <th>2</th>\n",
       "      <td>nhuh3scqoktj6n5mnqkvgyh43h</td>\n",
       "      <td>NaN</td>\n",
       "    </tr>\n",
       "    <tr>\n",
       "      <th>3</th>\n",
       "      <td>oyekz0wyxcplvrpencpuue6sdt</td>\n",
       "      <td>NaN</td>\n",
       "    </tr>\n",
       "    <tr>\n",
       "      <th>4</th>\n",
       "      <td>1p0ocryxz4ts2wtsi1bawtjndt</td>\n",
       "      <td>NaN</td>\n",
       "    </tr>\n",
       "    <tr>\n",
       "      <th>11</th>\n",
       "      <td>ox5rgm93oezmrqao7lbg05ovyk</td>\n",
       "      <td>NaN</td>\n",
       "    </tr>\n",
       "    <tr>\n",
       "      <th>...</th>\n",
       "      <td>...</td>\n",
       "      <td>...</td>\n",
       "    </tr>\n",
       "    <tr>\n",
       "      <th>231694</th>\n",
       "      <td>aouwuww0svnywu5f85gmbnbzb5</td>\n",
       "      <td>NaN</td>\n",
       "    </tr>\n",
       "    <tr>\n",
       "      <th>231702</th>\n",
       "      <td>jhx8gn3nqje3ztcch1or4yjpnb</td>\n",
       "      <td>NaN</td>\n",
       "    </tr>\n",
       "    <tr>\n",
       "      <th>231704</th>\n",
       "      <td>wnnh4uxef0m2il1kys1xbogkry</td>\n",
       "      <td>NaN</td>\n",
       "    </tr>\n",
       "    <tr>\n",
       "      <th>231707</th>\n",
       "      <td>ri3lqgshwnyc7tqb1ray1mvllb</td>\n",
       "      <td>NaN</td>\n",
       "    </tr>\n",
       "    <tr>\n",
       "      <th>231712</th>\n",
       "      <td>yzddjkp8wkrghj6ni6x9qxiwgd</td>\n",
       "      <td>NaN</td>\n",
       "    </tr>\n",
       "  </tbody>\n",
       "</table>\n",
       "<p>70451 rows × 2 columns</p>\n",
       "</div>"
      ],
      "text/plain": [
       "                          user.uid  in_users\n",
       "1       ghol7lwjlhewwvasejlxa9fv00       NaN\n",
       "2       nhuh3scqoktj6n5mnqkvgyh43h       NaN\n",
       "3       oyekz0wyxcplvrpencpuue6sdt       NaN\n",
       "4       1p0ocryxz4ts2wtsi1bawtjndt       NaN\n",
       "11      ox5rgm93oezmrqao7lbg05ovyk       NaN\n",
       "...                            ...       ...\n",
       "231694  aouwuww0svnywu5f85gmbnbzb5       NaN\n",
       "231702  jhx8gn3nqje3ztcch1or4yjpnb       NaN\n",
       "231704  wnnh4uxef0m2il1kys1xbogkry       NaN\n",
       "231707  ri3lqgshwnyc7tqb1ray1mvllb       NaN\n",
       "231712  yzddjkp8wkrghj6ni6x9qxiwgd       NaN\n",
       "\n",
       "[70451 rows x 2 columns]"
      ]
     },
     "execution_count": 106,
     "metadata": {},
     "output_type": "execute_result"
    }
   ],
   "source": [
    "# SELECT\n",
    "#   A.user.uid,\n",
    "#   count(1) as num_rows\n",
    "# FROM \n",
    "#   (SELECT DISTINCT user.uid\n",
    "#   FROM orders_df\n",
    "#   WHERE user.uid IS NOT NULL) AS A\n",
    "#   LEFT JOIN\n",
    "#   (SELECT user.uid, 1.0 AS in_users\n",
    "#   FROM users_df) AS B\n",
    "#   ON A.user.uid = B.user.uid\n",
    "# WHERE\n",
    "#   in_users IS NULL\n",
    "\n",
    "(orders_df\n",
    " [['user.uid']]\n",
    " .loc[lambda tbl: tbl['user.uid'].notnull()]\n",
    " .drop_duplicates()\n",
    " .merge(users_df[['user.uid']].assign(in_users=1.0),\n",
    "        how='left',\n",
    "        on='user.uid'\n",
    "        )\n",
    " .loc[lambda tbl: tbl['in_users'].isnull()]\n",
    ")"
   ]
  },
  {
   "cell_type": "code",
   "execution_count": 107,
   "id": "e7b91b51",
   "metadata": {},
   "outputs": [
    {
     "data": {
      "text/plain": [
       "1         ghol7lwjlhewwvasejlxa9fv00\n",
       "2         nhuh3scqoktj6n5mnqkvgyh43h\n",
       "3         oyekz0wyxcplvrpencpuue6sdt\n",
       "4         1p0ocryxz4ts2wtsi1bawtjndt\n",
       "11        ox5rgm93oezmrqao7lbg05ovyk\n",
       "                     ...            \n",
       "231694    aouwuww0svnywu5f85gmbnbzb5\n",
       "231702    jhx8gn3nqje3ztcch1or4yjpnb\n",
       "231704    wnnh4uxef0m2il1kys1xbogkry\n",
       "231707    ri3lqgshwnyc7tqb1ray1mvllb\n",
       "231712    yzddjkp8wkrghj6ni6x9qxiwgd\n",
       "Name: user.uid, Length: 70451, dtype: string"
      ]
     },
     "metadata": {},
     "output_type": "display_data"
    },
    {
     "data": {
      "text/html": [
       "<div>\n",
       "<style scoped>\n",
       "    .dataframe tbody tr th:only-of-type {\n",
       "        vertical-align: middle;\n",
       "    }\n",
       "\n",
       "    .dataframe tbody tr th {\n",
       "        vertical-align: top;\n",
       "    }\n",
       "\n",
       "    .dataframe thead th {\n",
       "        text-align: right;\n",
       "    }\n",
       "</style>\n",
       "<table border=\"1\" class=\"dataframe\">\n",
       "  <thead>\n",
       "    <tr style=\"text-align: right;\">\n",
       "      <th></th>\n",
       "      <th>order.uid</th>\n",
       "      <th>user.uid</th>\n",
       "      <th>createdAt</th>\n",
       "      <th>createdAtTime</th>\n",
       "      <th>paymentGateway</th>\n",
       "      <th>paymentBrand</th>\n",
       "      <th>pickup</th>\n",
       "      <th>pickupComplete</th>\n",
       "      <th>source</th>\n",
       "      <th>tenant</th>\n",
       "      <th>paymentAttempts</th>\n",
       "      <th>timeZone</th>\n",
       "      <th>clientInfo</th>\n",
       "    </tr>\n",
       "  </thead>\n",
       "  <tbody>\n",
       "    <tr>\n",
       "      <th>1</th>\n",
       "      <td>termljwsr2gecnzwks</td>\n",
       "      <td>ghol7lwjlhewwvasejlxa9fv00</td>\n",
       "      <td>2024-07-01</td>\n",
       "      <td>2024-07-01 18:34:12</td>\n",
       "      <td>discount</td>\n",
       "      <td>&lt;NA&gt;</td>\n",
       "      <td>False</td>\n",
       "      <td>False</td>\n",
       "      <td>website</td>\n",
       "      <td>snowit_esterno</td>\n",
       "      <td>1</td>\n",
       "      <td>&lt;NA&gt;</td>\n",
       "      <td>{\"browser\":{\"major\":\"126\",\"name\":\"Chrome\",\"ver...</td>\n",
       "    </tr>\n",
       "    <tr>\n",
       "      <th>2</th>\n",
       "      <td>ko8axscf5grobnz9in</td>\n",
       "      <td>nhuh3scqoktj6n5mnqkvgyh43h</td>\n",
       "      <td>2024-07-01</td>\n",
       "      <td>2024-07-01 16:08:26</td>\n",
       "      <td>discount</td>\n",
       "      <td>&lt;NA&gt;</td>\n",
       "      <td>False</td>\n",
       "      <td>False</td>\n",
       "      <td>website</td>\n",
       "      <td>snowit_esterno</td>\n",
       "      <td>1</td>\n",
       "      <td>&lt;NA&gt;</td>\n",
       "      <td>{\"browser\":{\"major\":\"126\",\"name\":\"Chrome\",\"ver...</td>\n",
       "    </tr>\n",
       "    <tr>\n",
       "      <th>3</th>\n",
       "      <td>tu8b9haokkimu72aza</td>\n",
       "      <td>oyekz0wyxcplvrpencpuue6sdt</td>\n",
       "      <td>2024-07-01</td>\n",
       "      <td>2024-07-01 16:02:11</td>\n",
       "      <td>stripe</td>\n",
       "      <td>mastercard</td>\n",
       "      <td>False</td>\n",
       "      <td>False</td>\n",
       "      <td>website</td>\n",
       "      <td>snowit_esterno</td>\n",
       "      <td>2</td>\n",
       "      <td>&lt;NA&gt;</td>\n",
       "      <td>{\"browser\":{\"major\":\"126\",\"name\":\"Chrome\",\"ver...</td>\n",
       "    </tr>\n",
       "    <tr>\n",
       "      <th>4</th>\n",
       "      <td>a8mvwuv6ileh9aqblu</td>\n",
       "      <td>1p0ocryxz4ts2wtsi1bawtjndt</td>\n",
       "      <td>2024-07-01</td>\n",
       "      <td>2024-07-01 15:46:12</td>\n",
       "      <td>stripe</td>\n",
       "      <td>&lt;NA&gt;</td>\n",
       "      <td>False</td>\n",
       "      <td>False</td>\n",
       "      <td>website</td>\n",
       "      <td>tribala</td>\n",
       "      <td>2</td>\n",
       "      <td>&lt;NA&gt;</td>\n",
       "      <td>{\"browser\":{\"major\":\"125\",\"name\":\"Chrome\",\"ver...</td>\n",
       "    </tr>\n",
       "    <tr>\n",
       "      <th>5</th>\n",
       "      <td>kmwabdpnhtm46p8me8</td>\n",
       "      <td>nhuh3scqoktj6n5mnqkvgyh43h</td>\n",
       "      <td>2024-07-01</td>\n",
       "      <td>2024-07-01 09:01:16</td>\n",
       "      <td>discount</td>\n",
       "      <td>&lt;NA&gt;</td>\n",
       "      <td>False</td>\n",
       "      <td>False</td>\n",
       "      <td>website</td>\n",
       "      <td>snowit_esterno</td>\n",
       "      <td>1</td>\n",
       "      <td>&lt;NA&gt;</td>\n",
       "      <td>{\"browser\":{\"major\":\"126\",\"name\":\"Chrome\",\"ver...</td>\n",
       "    </tr>\n",
       "    <tr>\n",
       "      <th>...</th>\n",
       "      <td>...</td>\n",
       "      <td>...</td>\n",
       "      <td>...</td>\n",
       "      <td>...</td>\n",
       "      <td>...</td>\n",
       "      <td>...</td>\n",
       "      <td>...</td>\n",
       "      <td>...</td>\n",
       "      <td>...</td>\n",
       "      <td>...</td>\n",
       "      <td>...</td>\n",
       "      <td>...</td>\n",
       "      <td>...</td>\n",
       "    </tr>\n",
       "    <tr>\n",
       "      <th>549883</th>\n",
       "      <td>bjzuut5lvj76ad6jbp</td>\n",
       "      <td>wnnh4uxef0m2il1kys1xbogkry</td>\n",
       "      <td>2022-07-01</td>\n",
       "      <td>2022-07-01 21:02:41</td>\n",
       "      <td>discount</td>\n",
       "      <td>&lt;NA&gt;</td>\n",
       "      <td>False</td>\n",
       "      <td>False</td>\n",
       "      <td>website</td>\n",
       "      <td>snowit_esterno</td>\n",
       "      <td>1</td>\n",
       "      <td>Europe/Rome</td>\n",
       "      <td>{\"browser\":{\"major\":\"102\",\"name\":\"Chrome\",\"ver...</td>\n",
       "    </tr>\n",
       "    <tr>\n",
       "      <th>549884</th>\n",
       "      <td>ur0t4p0hejetoesg3h</td>\n",
       "      <td>wnnh4uxef0m2il1kys1xbogkry</td>\n",
       "      <td>2022-07-01</td>\n",
       "      <td>2022-07-01 20:56:39</td>\n",
       "      <td>discount</td>\n",
       "      <td>&lt;NA&gt;</td>\n",
       "      <td>False</td>\n",
       "      <td>False</td>\n",
       "      <td>website</td>\n",
       "      <td>snowit_esterno</td>\n",
       "      <td>1</td>\n",
       "      <td>Europe/Rome</td>\n",
       "      <td>{\"browser\":{\"major\":\"102\",\"name\":\"Chrome\",\"ver...</td>\n",
       "    </tr>\n",
       "    <tr>\n",
       "      <th>549886</th>\n",
       "      <td>3unzmjqzzmwgnbil56</td>\n",
       "      <td>iz4qy0qs0qre4g8ndczecyms3s</td>\n",
       "      <td>2022-07-01</td>\n",
       "      <td>2022-07-01 19:51:24</td>\n",
       "      <td>stripe</td>\n",
       "      <td>&lt;NA&gt;</td>\n",
       "      <td>False</td>\n",
       "      <td>False</td>\n",
       "      <td>website</td>\n",
       "      <td>snowit_esterno</td>\n",
       "      <td>1</td>\n",
       "      <td>Europe/Rome</td>\n",
       "      <td>{\"browser\":{\"major\":\"103\",\"name\":\"Chrome\",\"ver...</td>\n",
       "    </tr>\n",
       "    <tr>\n",
       "      <th>549888</th>\n",
       "      <td>mhosjzeznativvqfnz</td>\n",
       "      <td>ri3lqgshwnyc7tqb1ray1mvllb</td>\n",
       "      <td>2022-07-01</td>\n",
       "      <td>2022-07-01 19:21:13</td>\n",
       "      <td>satispay</td>\n",
       "      <td>&lt;NA&gt;</td>\n",
       "      <td>False</td>\n",
       "      <td>False</td>\n",
       "      <td>website</td>\n",
       "      <td>snowit_esterno</td>\n",
       "      <td>1</td>\n",
       "      <td>Europe/Rome</td>\n",
       "      <td>{\"browser\":{\"major\":\"15\",\"name\":\"Mobile Safari...</td>\n",
       "    </tr>\n",
       "    <tr>\n",
       "      <th>549894</th>\n",
       "      <td>v1obzy9nwp99nanhue</td>\n",
       "      <td>yzddjkp8wkrghj6ni6x9qxiwgd</td>\n",
       "      <td>2022-07-01</td>\n",
       "      <td>2022-07-01 12:43:26</td>\n",
       "      <td>discount</td>\n",
       "      <td>&lt;NA&gt;</td>\n",
       "      <td>False</td>\n",
       "      <td>False</td>\n",
       "      <td>website</td>\n",
       "      <td>snowit_esterno</td>\n",
       "      <td>1</td>\n",
       "      <td>Europe/Rome</td>\n",
       "      <td>{\"browser\":{\"major\":\"91\",\"name\":\"Firefox\",\"ver...</td>\n",
       "    </tr>\n",
       "  </tbody>\n",
       "</table>\n",
       "<p>164732 rows × 13 columns</p>\n",
       "</div>"
      ],
      "text/plain": [
       "                 order.uid                    user.uid  createdAt  \\\n",
       "1       termljwsr2gecnzwks  ghol7lwjlhewwvasejlxa9fv00 2024-07-01   \n",
       "2       ko8axscf5grobnz9in  nhuh3scqoktj6n5mnqkvgyh43h 2024-07-01   \n",
       "3       tu8b9haokkimu72aza  oyekz0wyxcplvrpencpuue6sdt 2024-07-01   \n",
       "4       a8mvwuv6ileh9aqblu  1p0ocryxz4ts2wtsi1bawtjndt 2024-07-01   \n",
       "5       kmwabdpnhtm46p8me8  nhuh3scqoktj6n5mnqkvgyh43h 2024-07-01   \n",
       "...                    ...                         ...        ...   \n",
       "549883  bjzuut5lvj76ad6jbp  wnnh4uxef0m2il1kys1xbogkry 2022-07-01   \n",
       "549884  ur0t4p0hejetoesg3h  wnnh4uxef0m2il1kys1xbogkry 2022-07-01   \n",
       "549886  3unzmjqzzmwgnbil56  iz4qy0qs0qre4g8ndczecyms3s 2022-07-01   \n",
       "549888  mhosjzeznativvqfnz  ri3lqgshwnyc7tqb1ray1mvllb 2022-07-01   \n",
       "549894  v1obzy9nwp99nanhue  yzddjkp8wkrghj6ni6x9qxiwgd 2022-07-01   \n",
       "\n",
       "             createdAtTime paymentGateway paymentBrand  pickup  \\\n",
       "1      2024-07-01 18:34:12       discount         <NA>   False   \n",
       "2      2024-07-01 16:08:26       discount         <NA>   False   \n",
       "3      2024-07-01 16:02:11         stripe   mastercard   False   \n",
       "4      2024-07-01 15:46:12         stripe         <NA>   False   \n",
       "5      2024-07-01 09:01:16       discount         <NA>   False   \n",
       "...                    ...            ...          ...     ...   \n",
       "549883 2022-07-01 21:02:41       discount         <NA>   False   \n",
       "549884 2022-07-01 20:56:39       discount         <NA>   False   \n",
       "549886 2022-07-01 19:51:24         stripe         <NA>   False   \n",
       "549888 2022-07-01 19:21:13       satispay         <NA>   False   \n",
       "549894 2022-07-01 12:43:26       discount         <NA>   False   \n",
       "\n",
       "        pickupComplete   source          tenant  paymentAttempts     timeZone  \\\n",
       "1                False  website  snowit_esterno                1         <NA>   \n",
       "2                False  website  snowit_esterno                1         <NA>   \n",
       "3                False  website  snowit_esterno                2         <NA>   \n",
       "4                False  website         tribala                2         <NA>   \n",
       "5                False  website  snowit_esterno                1         <NA>   \n",
       "...                ...      ...             ...              ...          ...   \n",
       "549883           False  website  snowit_esterno                1  Europe/Rome   \n",
       "549884           False  website  snowit_esterno                1  Europe/Rome   \n",
       "549886           False  website  snowit_esterno                1  Europe/Rome   \n",
       "549888           False  website  snowit_esterno                1  Europe/Rome   \n",
       "549894           False  website  snowit_esterno                1  Europe/Rome   \n",
       "\n",
       "                                               clientInfo  \n",
       "1       {\"browser\":{\"major\":\"126\",\"name\":\"Chrome\",\"ver...  \n",
       "2       {\"browser\":{\"major\":\"126\",\"name\":\"Chrome\",\"ver...  \n",
       "3       {\"browser\":{\"major\":\"126\",\"name\":\"Chrome\",\"ver...  \n",
       "4       {\"browser\":{\"major\":\"125\",\"name\":\"Chrome\",\"ver...  \n",
       "5       {\"browser\":{\"major\":\"126\",\"name\":\"Chrome\",\"ver...  \n",
       "...                                                   ...  \n",
       "549883  {\"browser\":{\"major\":\"102\",\"name\":\"Chrome\",\"ver...  \n",
       "549884  {\"browser\":{\"major\":\"102\",\"name\":\"Chrome\",\"ver...  \n",
       "549886  {\"browser\":{\"major\":\"103\",\"name\":\"Chrome\",\"ver...  \n",
       "549888  {\"browser\":{\"major\":\"15\",\"name\":\"Mobile Safari...  \n",
       "549894  {\"browser\":{\"major\":\"91\",\"name\":\"Firefox\",\"ver...  \n",
       "\n",
       "[164732 rows x 13 columns]"
      ]
     },
     "metadata": {},
     "output_type": "display_data"
    }
   ],
   "source": [
    "# from the table printed before I select just the column ['user.uid'],\n",
    "# those IDs without a correspondence in the users_df\n",
    "order_fail_useruids = (orders_df\n",
    "    [['user.uid']]\n",
    "    .loc[lambda tbl: tbl['user.uid'].notnull()]\n",
    "    .drop_duplicates()\n",
    "    .merge(users_df[['user.uid']].assign(in_users=1.0),\n",
    "            how='left',\n",
    "            on='user.uid'\n",
    "            )\n",
    "    .loc[lambda tbl: tbl['in_users'].isnull()]\n",
    "    ['user.uid']\n",
    ")\n",
    "display(order_fail_useruids)\n",
    "\n",
    "# extract now the profiles with \"inconsistent\" 'user.uid'\n",
    "order_fail_useruid_df = orders_df.loc[lambda tbl: tbl['user.uid'].isin(order_fail_useruids)]\n",
    "display(order_fail_useruid_df)"
   ]
  },
  {
   "cell_type": "code",
   "execution_count": 108,
   "id": "ad0dd9a7",
   "metadata": {},
   "outputs": [
    {
     "data": {
      "text/html": [
       "<div>\n",
       "<style scoped>\n",
       "    .dataframe tbody tr th:only-of-type {\n",
       "        vertical-align: middle;\n",
       "    }\n",
       "\n",
       "    .dataframe tbody tr th {\n",
       "        vertical-align: top;\n",
       "    }\n",
       "\n",
       "    .dataframe thead th {\n",
       "        text-align: right;\n",
       "    }\n",
       "</style>\n",
       "<table border=\"1\" class=\"dataframe\">\n",
       "  <thead>\n",
       "    <tr style=\"text-align: right;\">\n",
       "      <th></th>\n",
       "      <th>num_rows</th>\n",
       "    </tr>\n",
       "    <tr>\n",
       "      <th>in_users</th>\n",
       "      <th></th>\n",
       "    </tr>\n",
       "  </thead>\n",
       "  <tbody>\n",
       "    <tr>\n",
       "      <th>1.0</th>\n",
       "      <td>161266</td>\n",
       "    </tr>\n",
       "  </tbody>\n",
       "</table>\n",
       "</div>"
      ],
      "text/plain": [
       "          num_rows\n",
       "in_users          \n",
       "1.0         161266"
      ]
     },
     "metadata": {},
     "output_type": "display_data"
    }
   ],
   "source": [
    "# FIX Foreing Key ISSUE: remove them ! \n",
    "orders_df.drop(list(order_fail_useruid_df.index), inplace=True)\n",
    "\n",
    "display(\n",
    "    orders_df\n",
    "    [['user.uid']]\n",
    "    .loc[lambda tbl: tbl['user.uid'].notnull()]\n",
    "    .drop_duplicates()\n",
    "    .merge(users_df[['user.uid']].assign(in_users=1.0),\n",
    "            how='left',\n",
    "            on='user.uid'\n",
    "            )\n",
    "    .assign(aux=1.0)\n",
    "    .groupby(['in_users'], dropna=False)\n",
    "    .agg(num_rows=('aux', pd.Series.count))\n",
    "    .loc[lambda tbl: tbl['num_rows'] > 1]\n",
    ")\n",
    "# now, as expected, I don't have null values after the left join"
   ]
  },
  {
   "cell_type": "markdown",
   "id": "2b0abe19",
   "metadata": {},
   "source": [
    "## Load Order Details"
   ]
  },
  {
   "cell_type": "code",
   "execution_count": 109,
   "id": "28987e95",
   "metadata": {},
   "outputs": [],
   "source": [
    "safeload_order_details_df = pd.read_csv(order_details_in_path,\n",
    "                                        dtype='string',\n",
    "                                        na_values=[],\n",
    "                                        keep_default_na=False\n",
    "                                        )"
   ]
  },
  {
   "cell_type": "code",
   "execution_count": 110,
   "id": "8241a9e7",
   "metadata": {},
   "outputs": [
    {
     "data": {
      "text/plain": [
       "Index(['item.uid', 'order.uid', 'item.date', 'product.uid',\n",
       "       'product.dynamicPricing', 'item.amount', 'item.discount',\n",
       "       'product.type', 'item.zoneName', 'product.durationHours',\n",
       "       'item.profiles', 'item.variantName', 'item.slotName',\n",
       "       'item.snowitcardNumber', 'item.status'],\n",
       "      dtype='object')"
      ]
     },
     "execution_count": 110,
     "metadata": {},
     "output_type": "execute_result"
    }
   ],
   "source": [
    "safeload_order_details_df.columns"
   ]
  },
  {
   "cell_type": "code",
   "execution_count": 111,
   "id": "9f57d8b1",
   "metadata": {},
   "outputs": [
    {
     "data": {
      "text/plain": [
       "(1420603, 15)"
      ]
     },
     "execution_count": 111,
     "metadata": {},
     "output_type": "execute_result"
    }
   ],
   "source": [
    "safeload_order_details_df.shape"
   ]
  },
  {
   "cell_type": "code",
   "execution_count": 112,
   "id": "ff713237",
   "metadata": {},
   "outputs": [
    {
     "data": {
      "text/plain": [
       "<StringArray>\n",
       "['rWzvRD0hXOShtjTzx5Ca', 'mmWAugpNnPVHRcePWiiH', 'bShIBhXedPkDTmZpmczI',\n",
       " 'axrCVxzH7eVW2EbaKHho', '4Neyeg0izzwue8RbJrPH', 'Wf4gfrRUh3ZDYp15NNql',\n",
       " 'sSPT3hVthnvf2GDryYaD', 'CSbMX1gUCNaU6tx7aPxu', '2RwFbVS1BRIchiqgDQQ1',\n",
       " 'QihrElx8hg0HK8eKxXL6',\n",
       " ...\n",
       " '6e6q400crcOwUnyGSGcu', 'oEE4Z1zF7SK4vm0PrMrW', '6YbL5fFmf6QwagnSSEYa',\n",
       " 'xFgt4Cqaa8Z4nevGOdjD', 'tge44Z5KbElSymEoXQ09', '9ka9Ogu0nyxEkEwKMaNT',\n",
       " 'xWAoWDvpz1JilvtElDm9', 'Cdhlra1fhDx4vr0xwCeJ', '2Ghwkit8jdMI6HgwutI5',\n",
       " 'Xf9Njxh1jJNDpBqd7UxV']\n",
       "Length: 1403655, dtype: string"
      ]
     },
     "execution_count": 112,
     "metadata": {},
     "output_type": "execute_result"
    }
   ],
   "source": [
    "col_to_check = 'item.uid'\n",
    "safeload_order_details_df[col_to_check].unique()\n",
    "# it's reasonable that the dimension is lower than the 'shape' since the same item\n",
    "# can be associated with more orders"
   ]
  },
  {
   "cell_type": "code",
   "execution_count": 113,
   "id": "ada9aa02",
   "metadata": {},
   "outputs": [
    {
     "data": {
      "text/plain": [
       "<StringArray>\n",
       "['4y9zqqvldfqr9n2xnu', 'termljwsr2gecnzwks', 'ko8axscf5grobnz9in',\n",
       " 'tu8b9haokkimu72aza', 'a8mvwuv6ileh9aqblu', 'kmwabdpnhtm46p8me8',\n",
       " 'i9eovtgp3uxbmesebv', 'nsc55zfspubshggcm5', 'ltr5f48gwicqwcnzkf',\n",
       " 'eyx8wesrjaeltlgqna',\n",
       " ...\n",
       " '5f8he6aq0sbnmrrwzq', 'g0tkwbe686jnynbxs9', 'aoud70hexrj3uryxmd',\n",
       " 'h0vb0rmb2mk4c7s3tv', 'v1obzy9nwp99nanhue', '6icnjfrltzhdi2eato',\n",
       " '4n6z8api7q0cz8jxox', 'pdubfidjsudk9mhwdc', 'f8zj28hdatvraibekk',\n",
       " 'wy69h8jsgozdrxlu9i']\n",
       "Length: 549900, dtype: string"
      ]
     },
     "execution_count": 113,
     "metadata": {},
     "output_type": "execute_result"
    }
   ],
   "source": [
    "col_to_check = 'order.uid'\n",
    "safeload_order_details_df[col_to_check].unique()\n",
    "# the same order can have more items"
   ]
  },
  {
   "cell_type": "code",
   "execution_count": 114,
   "id": "259f103c",
   "metadata": {},
   "outputs": [
    {
     "data": {
      "text/plain": [
       "<StringArray>\n",
       "['fulfilled', 'canceled', 'transfer', 'ok', 'processing', 'on-hold']\n",
       "Length: 6, dtype: string"
      ]
     },
     "execution_count": 114,
     "metadata": {},
     "output_type": "execute_result"
    }
   ],
   "source": [
    "col_to_check = 'item.status'\n",
    "safeload_order_details_df[col_to_check].unique()"
   ]
  },
  {
   "cell_type": "code",
   "execution_count": 115,
   "id": "fe0b84c6",
   "metadata": {},
   "outputs": [
    {
     "name": "stdout",
     "output_type": "stream",
     "text": [
      "Dataset is consistent: each triplet is unique\n"
     ]
    }
   ],
   "source": [
    "# verify that each triplet (item.uid, order.uid, item.status) is unique\n",
    "\n",
    "# length\n",
    "total_rows = len(safeload_order_details_df)\n",
    "\n",
    "# unique rows with respect to the three columns\n",
    "unique_rows = safeload_order_details_df.drop_duplicates(subset=['item.uid', 'order.uid', 'item.status']).shape[0]\n",
    "\n",
    "# check if correspondence\n",
    "if total_rows == unique_rows:\n",
    "    print(\"Dataset is consistent: each triplet is unique\")\n",
    "else:\n",
    "    print(f\"Found {total_rows - unique_rows} duplicates\")\n"
   ]
  },
  {
   "cell_type": "code",
   "execution_count": 116,
   "id": "b124748b",
   "metadata": {},
   "outputs": [
    {
     "data": {
      "text/plain": [
       "<StringArray>\n",
       "['2024-07-05', '2024-12-27', '2024-07-02', '2024-08-30', '2024-07-26',\n",
       " '2024-07-01', '2024-07-03', '2024-08-11', '2024-07-04', '2024-10-15',\n",
       " ...\n",
       " '2022-07-11', '2022-07-10', '2022-07-09', '2022-07-08', '2022-07-07',\n",
       " '2022-07-06', '2022-07-05', '2022-07-04', '2022-07-03', '2022-07-02']\n",
       "Length: 979, dtype: string"
      ]
     },
     "execution_count": 116,
     "metadata": {},
     "output_type": "execute_result"
    }
   ],
   "source": [
    "col_to_check = 'item.date'\n",
    "safeload_order_details_df[col_to_check].unique()"
   ]
  },
  {
   "cell_type": "code",
   "execution_count": 117,
   "id": "44799f86",
   "metadata": {},
   "outputs": [
    {
     "data": {
      "text/plain": [
       "<StringArray>\n",
       "['OwhliJmMeSCILiMFiKTp',  'form:PO9LFLX23J2024', '9oNSf7M6J7BNWakW2otU',\n",
       " 'Kh1RLBt3sC5Z6amhRuBn', 'Tv7I6hDcWmu5DWBxN24X', 'we7MOniCQlC4vAgFxE27',\n",
       " 'DtB2im6mhHILukxObBpO', 'nOiVTAEG48YK62ycSCdu', 'z1g2LhWX3b9VLD57nqUi',\n",
       " '9IeTI9YanEx3NKDJpmbJ',\n",
       " ...\n",
       " '6wu1Xu8TYTHnA3UXjeBu', 'wVf8LHxrSumU7aqpEgEl', 'gw2junAn94xtUbd18iHq',\n",
       " 'G7WCPsjFcRHtkq6lmfEk', 'wONr18elM8vnXBA1js7E', 'qK6GXLOAZHLM2nUurTsv',\n",
       " '8uLIkozKS1UdHd2Z1XlV', '9TYrrypnqRvNRhHhLLKk', 'F5n33TDKva6A0D5kC1eP',\n",
       " 'iL4iqfl1EwSlixe3nJd6']\n",
       "Length: 9928, dtype: string"
      ]
     },
     "execution_count": 117,
     "metadata": {},
     "output_type": "execute_result"
    }
   ],
   "source": [
    "col_to_check = 'product.uid'\n",
    "safeload_order_details_df[col_to_check].unique()"
   ]
  },
  {
   "cell_type": "code",
   "execution_count": 118,
   "id": "9257bead",
   "metadata": {},
   "outputs": [
    {
     "data": {
      "text/plain": [
       "<StringArray>\n",
       "['False', 'True']\n",
       "Length: 2, dtype: string"
      ]
     },
     "execution_count": 118,
     "metadata": {},
     "output_type": "execute_result"
    }
   ],
   "source": [
    "col_to_check = 'product.dynamicPricing'\n",
    "safeload_order_details_df[col_to_check].unique()"
   ]
  },
  {
   "cell_type": "code",
   "execution_count": 119,
   "id": "f153429b",
   "metadata": {},
   "outputs": [
    {
     "data": {
      "text/plain": [
       "<StringArray>\n",
       "[   '59.5',     '0.0',    '26.0',   '-26.0',   '122.5',    '60.0',     '1.0',\n",
       "    '-1.0',    '10.0',    '50.0',\n",
       " ...\n",
       "   '22.99',  '1126.0', '-1126.0',  '832.85', '-832.85',  '118.01',   '53.62',\n",
       "   '76.62',   '69.22',  '2900.0']\n",
       "Length: 6266, dtype: string"
      ]
     },
     "execution_count": 119,
     "metadata": {},
     "output_type": "execute_result"
    }
   ],
   "source": [
    "col_to_check = 'item.amount'\n",
    "safeload_order_details_df[col_to_check].unique()\n",
    "\n",
    "# since prices are always positive, negative numbers here shown are considered to be bad formatted ones."
   ]
  },
  {
   "cell_type": "code",
   "execution_count": 120,
   "id": "bf19eef9",
   "metadata": {},
   "outputs": [
    {
     "data": {
      "text/plain": [
       "array(['-0.01', '-1.0', '-1.5', '-10.0', '-10.4', '-10.5', '-100.0',\n",
       "       '-100.12', '-100.25', '-100.5', '-100.8', '-1000.0', '-1004.0',\n",
       "       '-101.0', '-101.15', '-101.25', '-101.7', '-102.0', '-102.5',\n",
       "       '-102.6', '-102.7', '-102.8', '-103.0', '-103.3', '-103.5',\n",
       "       '-103.55', '-103.68', '-103.7', '-103.74', '-103.8', '-103.95',\n",
       "       '-1030.0', '-104.0', '-104.6', '-104.85', '-1040.0', '-1045.0',\n",
       "       '-105.0', '-105.2', '-105.44', '-105.5', '-1058.0', '-106.0',\n",
       "       '-106.4', '-106.8', '-107.0', '-107.1', '-107.35', '-107.75',\n",
       "       '-107.95', '-108.0', '-108.3', '-109.0', '-109.4', '-109.5',\n",
       "       '-1090.0', '-11.0', '-11.1', '-11.5', '-11.7', '-110.0', '-110.2',\n",
       "       '-110.3', '-110.5', '-110.7', '-110.75', '-110.8', '-11086.0',\n",
       "       '-111.0', '-111.2', '-111.5', '-111.75', '-111.8', '-112.0',\n",
       "       '-112.2', '-112.5', '-1126.0', '-113.0', '-113.35', '-113.75',\n",
       "       '-114.0', '-114.3', '-114.75', '-115.0', '-115.5', '-115.6',\n",
       "       '-1150.0', '-116.0', '-116.9', '-1164.52', '-117.0', '-117.1',\n",
       "       '-117.6', '-117.75', '-118.0', '-118.15', '-118.42', '-118.75',\n",
       "       '-119.0', '-119.2', '-119.75', '-119.8', '-119.9', '-12.0',\n",
       "       '-12.35', '-12.5', '-12.6', '-120.0', '-120.44', '-120.75',\n",
       "       '-1200.0', '-121.0', '-121.85', '-122.75', '-123.0', '-123.3',\n",
       "       '-123.5', '-123.6', '-123.75', '-1231.0', '-124.0', '-124.2',\n",
       "       '-124.75', '-124.95', '-125.0', '-125.01', '-125.25', '-125.6',\n",
       "       '-126.0', '-126.65', '-1260.0', '-127.0', '-127.8', '-127.95',\n",
       "       '-128.0', '-128.1', '-128.25', '-128.3', '-128.65', '-128.8',\n",
       "       '-1285.4', '-129.0', '-129.5', '-129.6', '-129.75', '-13.0',\n",
       "       '-13.5', '-130.0', '-130.15', '-130.5', '-130.8', '-131.0',\n",
       "       '-131.25', '-131.4', '-131.5', '-131.75', '-132.0', '-132.15',\n",
       "       '-132.2', '-132.5', '-132.6', '-133.0', '-133.25', '-133.4',\n",
       "       '-133.45', '-1333.86', '-134.0', '-134.3', '-134.9', '-1340.0',\n",
       "       '-1348.35', '-1348.72', '-135.0', '-135.45', '-136.0', '-136.3',\n",
       "       '-136.8', '-136.85', '-137.0', '-137.37', '-137.7', '-137.8',\n",
       "       '-137.9', '-138.0', '-138.24', '-138.7', '-138.85', '-1380.56',\n",
       "       '-139.0', '-139.4', '-139.5', '-139.8', '-14.0', '-14.4', '-14.5',\n",
       "       '-140.0', '-140.25', '-140.31', '-140.4', '-140.5', '-140.7',\n",
       "       '-141.3', '-142.0', '-142.1', '-142.46', '-142.59', '-142.7',\n",
       "       '-142.8', '-143.0', '-143.15', '-143.19', '-143.25', '-143.3',\n",
       "       '-143.5', '-143.55', '-143.6', '-1433.0', '-144.0', '-144.3',\n",
       "       '-144.4', '-144.5', '-144.75', '-144.8', '-1440.0', '-145.0',\n",
       "       '-146.0', '-146.2', '-146.9', '-147.0', '-147.2', '-147.6',\n",
       "       '-147.8', '-1470.0', '-148.0', '-148.2', '-148.9', '-1480.0',\n",
       "       '-149.0', '-149.25', '-15.0', '-15.3', '-15.72', '-150.0',\n",
       "       '-150.1', '-150.3', '-151.0', '-151.15', '-151.2', '-151.3',\n",
       "       '-151.5', '-152.0', '-152.1', '-152.15', '-153.0', '-153.3',\n",
       "       '-153.5', '-153.75', '-154.0', '-154.5', '-154.55', '-154.8',\n",
       "       '-154.95', '-155.0', '-155.3', '-155.6', '-156.0', '-156.2',\n",
       "       '-156.75', '-157.0', '-157.25', '-157.4', '-1578.0', '-158.4',\n",
       "       '-159.0', '-159.2', '-159.5', '-159.75', '-1590.0', '-16.0',\n",
       "       '-16.15', '-16.2', '-16.5', '-160.0', '-160.4', '-160.5',\n",
       "       '-160.65', '-1600.0', '-1607.7', '-161.0', '-161.5', '-162.0',\n",
       "       '-162.2', '-162.4', '-162.5', '-163.0', '-163.5', '-1639.0',\n",
       "       '-164.0', '-164.25', '-165.0', '-165.6', '-165.8', '-166.0',\n",
       "       '-166.5', '-166.8', '-167.0', '-167.2', '-167.31', '-167.5',\n",
       "       '-167.6', '-168.0', '-1683.12', '-169.0', '-17.0', '-17.1',\n",
       "       '-17.5', '-17.85', '-170.0', '-171.0', '-171.2', '-171.95',\n",
       "       '-172.0', '-173.0', '-173.2', '-173.4', '-173.5', '-173.9',\n",
       "       '-174.0', '-174.4', '-175.0', '-175.8', '-175.95', '-176.0',\n",
       "       '-177.12', '-177.95', '-178.0', '-178.4', '-178.5', '-179.0',\n",
       "       '-179.1', '-18.0', '-18.5', '-18.7', '-18.75', '-18.9', '-180.0',\n",
       "       '-181.0', '-181.05', '-181.09', '-181.4', '-182.0', '-182.5',\n",
       "       '-182.52', '-182.75', '-183.0', '-183.1', '-183.45', '-183.75',\n",
       "       '-184.5', '-185.0', '-185.3', '-186.0', '-186.3', '-186.36',\n",
       "       '-186.4', '-188.0', '-188.25', '-188.3', '-189.0', '-189.5',\n",
       "       '-189.55', '-19.0', '-19.2', '-19.5', '-19.8', '-190.0', '-190.25',\n",
       "       '-191.25', '-191.7', '-192.0', '-192.55', '-192.95', '-193.0',\n",
       "       '-193.5', '-194.0', '-195.5', '-195.9', '-196.0', '-196.5',\n",
       "       '-196.65', '-197.0', '-197.5', '-197.9', '-198.0', '-198.65',\n",
       "       '-199.0', '-199.5', '-2.0', '-2.01', '-2.5', '-20.0', '-20.4',\n",
       "       '-20.5', '-20.7', '-20.8', '-200.0', '-200.7', '-200.75', '-200.8',\n",
       "       '-201.65', '-202.0', '-202.35', '-202.6', '-203.0', '-203.25',\n",
       "       '-203.5', '-204.25', '-204.65', '-205.0', '-206.0', '-206.55',\n",
       "       '-207.0', '-208.0', '-209.0', '-209.3', '-209.7', '-2099.0',\n",
       "       '-21.0', '-21.25', '-21.5', '-21.6', '-21.75', '-210.0', '-210.1',\n",
       "       '-211.0', '-211.5', '-211.65', '-212.0', '-212.87', '-213.35',\n",
       "       '-213.84', '-214.0', '-214.3', '-214.85', '-214.92', '-215.0',\n",
       "       '-215.25', '-215.78', '-215.9', '-216.8', '-217.0', '-217.25',\n",
       "       '-218.0', '-218.16', '-219.54', '-219.63', '-219.8', '-22.0',\n",
       "       '-22.25', '-22.5', '-22.8', '-22.9', '-22.95', '-220.0', '-221.0',\n",
       "       '-222.8', '-223.0', '-223.9', '-224.0', '-224.1', '-225.0',\n",
       "       '-225.3', '-225.9', '-226.0', '-227.0', '-229.0', '-229.6',\n",
       "       '-23.0', '-23.2', '-23.4', '-23.5', '-23.75', '-23.8', '-230.0',\n",
       "       '-231.0', '-232.0', '-232.2', '-232.5', '-234.0', '-235.3',\n",
       "       '-235.5', '-236.0', '-236.5', '-238.0', '-238.45', '-239.0',\n",
       "       '-24.0', '-24.05', '-24.3', '-24.5'], dtype=object)"
      ]
     },
     "execution_count": 120,
     "metadata": {},
     "output_type": "execute_result"
    }
   ],
   "source": [
    "sorted_values = np.sort(safeload_order_details_df[col_to_check].unique())\n",
    "sorted_values[:500]"
   ]
  },
  {
   "cell_type": "code",
   "execution_count": 121,
   "id": "12c31410",
   "metadata": {},
   "outputs": [
    {
     "data": {
      "text/plain": [
       "array([0.000e+00, 1.000e-02, 5.000e-01, 9.500e-01, 1.000e+00, 1.500e+00,\n",
       "       2.000e+00, 2.010e+00, 2.100e+00, 2.500e+00, 2.750e+00, 3.000e+00,\n",
       "       3.500e+00, 4.000e+00, 4.500e+00, 5.000e+00, 5.100e+00, 5.220e+00,\n",
       "       5.500e+00, 5.950e+00, 6.000e+00, 6.400e+00, 6.500e+00, 7.000e+00,\n",
       "       7.100e+00, 7.200e+00, 7.250e+00, 7.500e+00, 7.650e+00, 7.750e+00,\n",
       "       7.900e+00, 8.000e+00, 8.100e+00, 8.400e+00, 8.500e+00, 8.550e+00,\n",
       "       8.800e+00, 9.000e+00, 9.200e+00, 9.400e+00, 9.500e+00, 9.600e+00,\n",
       "       9.900e+00, 1.000e+01, 1.020e+01, 1.040e+01, 1.050e+01, 1.060e+01,\n",
       "       1.080e+01, 1.091e+01, 1.100e+01, 1.105e+01, 1.110e+01, 1.120e+01,\n",
       "       1.140e+01, 1.150e+01, 1.170e+01, 1.190e+01, 1.200e+01, 1.235e+01,\n",
       "       1.250e+01, 1.260e+01, 1.275e+01, 1.280e+01, 1.300e+01, 1.325e+01,\n",
       "       1.330e+01, 1.350e+01, 1.360e+01, 1.380e+01, 1.400e+01, 1.425e+01,\n",
       "       1.440e+01, 1.445e+01, 1.450e+01, 1.470e+01, 1.475e+01, 1.485e+01,\n",
       "       1.500e+01, 1.520e+01, 1.525e+01, 1.530e+01, 1.550e+01, 1.560e+01,\n",
       "       1.572e+01, 1.575e+01, 1.584e+01, 1.590e+01, 1.600e+01, 1.610e+01,\n",
       "       1.615e+01, 1.620e+01, 1.645e+01, 1.650e+01, 1.680e+01, 1.683e+01,\n",
       "       1.700e+01, 1.710e+01, 1.725e+01, 1.750e+01, 1.760e+01, 1.785e+01,\n",
       "       1.790e+01, 1.800e+01, 1.805e+01, 1.813e+01, 1.820e+01, 1.830e+01,\n",
       "       1.850e+01, 1.851e+01, 1.870e+01, 1.875e+01, 1.881e+01, 1.890e+01,\n",
       "       1.900e+01, 1.920e+01, 1.950e+01, 1.955e+01, 1.960e+01, 1.980e+01,\n",
       "       1.995e+01, 2.000e+01, 2.025e+01, 2.027e+01, 2.040e+01, 2.050e+01,\n",
       "       2.070e+01, 2.075e+01, 2.080e+01, 2.085e+01, 2.090e+01, 2.100e+01,\n",
       "       2.115e+01, 2.120e+01, 2.125e+01, 2.143e+01, 2.150e+01, 2.160e+01,\n",
       "       2.170e+01, 2.175e+01, 2.178e+01, 2.180e+01, 2.185e+01, 2.190e+01,\n",
       "       2.200e+01, 2.205e+01, 2.210e+01, 2.225e+01, 2.240e+01, 2.242e+01,\n",
       "       2.245e+01, 2.250e+01, 2.270e+01, 2.280e+01, 2.290e+01, 2.295e+01,\n",
       "       2.299e+01, 2.300e+01, 2.303e+01, 2.310e+01, 2.320e+01, 2.325e+01,\n",
       "       2.340e+01, 2.350e+01, 2.358e+01, 2.360e+01, 2.375e+01, 2.380e+01,\n",
       "       2.385e+01, 2.390e+01, 2.400e+01, 2.405e+01, 2.410e+01, 2.430e+01,\n",
       "       2.440e+01, 2.450e+01, 2.452e+01, 2.453e+01, 2.461e+01, 2.465e+01,\n",
       "       2.470e+01, 2.475e+01, 2.480e+01, 2.485e+01, 2.495e+01, 2.500e+01,\n",
       "       2.510e+01, 2.517e+01, 2.520e+01, 2.538e+01, 2.540e+01, 2.550e+01,\n",
       "       2.560e+01, 2.565e+01, 2.575e+01, 2.580e+01, 2.585e+01, 2.600e+01,\n",
       "       2.606e+01, 2.610e+01, 2.624e+01, 2.625e+01, 2.635e+01, 2.640e+01,\n",
       "       2.650e+01, 2.654e+01, 2.655e+01, 2.660e+01, 2.665e+01, 2.670e+01,\n",
       "       2.673e+01, 2.675e+01, 2.680e+01, 2.700e+01, 2.706e+01, 2.710e+01,\n",
       "       2.717e+01, 2.720e+01, 2.721e+01, 2.729e+01, 2.730e+01, 2.749e+01,\n",
       "       2.750e+01, 2.751e+01, 2.755e+01, 2.760e+01, 2.765e+01, 2.770e+01,\n",
       "       2.772e+01, 2.775e+01, 2.789e+01, 2.790e+01, 2.800e+01, 2.804e+01,\n",
       "       2.805e+01, 2.810e+01, 2.825e+01, 2.835e+01, 2.840e+01, 2.850e+01,\n",
       "       2.860e+01, 2.870e+01, 2.880e+01, 2.890e+01, 2.900e+01, 2.910e+01,\n",
       "       2.911e+01, 2.915e+01, 2.920e+01, 2.925e+01, 2.940e+01, 2.945e+01,\n",
       "       2.950e+01, 2.952e+01, 2.954e+01, 2.955e+01, 2.960e+01, 2.970e+01,\n",
       "       2.975e+01, 2.990e+01, 3.000e+01, 3.005e+01, 3.010e+01, 3.015e+01,\n",
       "       3.020e+01, 3.040e+01, 3.042e+01, 3.050e+01, 3.060e+01, 3.063e+01,\n",
       "       3.075e+01, 3.080e+01, 3.087e+01, 3.090e+01, 3.100e+01, 3.105e+01,\n",
       "       3.115e+01, 3.116e+01, 3.120e+01, 3.125e+01, 3.135e+01, 3.140e+01,\n",
       "       3.145e+01, 3.150e+01, 3.160e+01, 3.168e+01, 3.170e+01, 3.175e+01,\n",
       "       3.180e+01, 3.182e+01, 3.195e+01, 3.200e+01, 3.220e+01, 3.225e+01,\n",
       "       3.230e+01, 3.240e+01, 3.250e+01, 3.260e+01, 3.267e+01, 3.270e+01,\n",
       "       3.275e+01, 3.280e+01, 3.285e+01, 3.287e+01, 3.300e+01, 3.310e+01,\n",
       "       3.315e+01, 3.317e+01, 3.320e+01, 3.325e+01, 3.330e+01, 3.335e+01,\n",
       "       3.340e+01, 3.345e+01, 3.350e+01, 3.353e+01, 3.360e+01, 3.362e+01,\n",
       "       3.375e+01, 3.400e+01, 3.404e+01, 3.420e+01, 3.425e+01, 3.430e+01,\n",
       "       3.434e+01, 3.435e+01, 3.440e+01, 3.450e+01, 3.455e+01, 3.456e+01,\n",
       "       3.465e+01, 3.480e+01, 3.485e+01, 3.490e+01, 3.494e+01, 3.500e+01,\n",
       "       3.510e+01, 3.515e+01, 3.520e+01, 3.525e+01, 3.530e+01, 3.540e+01,\n",
       "       3.550e+01, 3.554e+01, 3.555e+01, 3.560e+01, 3.570e+01, 3.575e+01,\n",
       "       3.590e+01, 3.600e+01, 3.610e+01, 3.615e+01, 3.620e+01, 3.621e+01,\n",
       "       3.625e+01, 3.630e+01, 3.640e+01, 3.649e+01, 3.650e+01, 3.655e+01,\n",
       "       3.660e+01, 3.675e+01, 3.680e+01, 3.685e+01, 3.690e+01, 3.699e+01,\n",
       "       3.700e+01, 3.705e+01, 3.710e+01, 3.715e+01, 3.720e+01, 3.725e+01,\n",
       "       3.730e+01, 3.739e+01, 3.740e+01, 3.750e+01, 3.758e+01, 3.760e+01,\n",
       "       3.770e+01, 3.775e+01, 3.780e+01, 3.800e+01, 3.803e+01, 3.810e+01,\n",
       "       3.820e+01, 3.823e+01, 3.825e+01, 3.830e+01, 3.840e+01, 3.850e+01,\n",
       "       3.852e+01, 3.854e+01, 3.855e+01, 3.861e+01, 3.870e+01, 3.875e+01,\n",
       "       3.880e+01, 3.890e+01, 3.895e+01, 3.900e+01, 3.905e+01, 3.910e+01,\n",
       "       3.915e+01, 3.920e+01, 3.950e+01, 3.960e+01, 3.975e+01, 3.980e+01,\n",
       "       3.990e+01, 3.995e+01, 4.000e+01, 4.020e+01, 4.025e+01, 4.030e+01,\n",
       "       4.040e+01, 4.050e+01, 4.055e+01, 4.059e+01, 4.070e+01, 4.080e+01,\n",
       "       4.085e+01, 4.095e+01, 4.100e+01, 4.104e+01, 4.109e+01, 4.110e+01,\n",
       "       4.113e+01, 4.122e+01, 4.125e+01, 4.127e+01, 4.130e+01, 4.140e+01,\n",
       "       4.150e+01, 4.160e+01, 4.165e+01, 4.175e+01, 4.180e+01, 4.185e+01,\n",
       "       4.190e+01, 4.191e+01, 4.195e+01, 4.200e+01, 4.220e+01, 4.230e+01,\n",
       "       4.240e+01, 4.250e+01, 4.263e+01, 4.270e+01, 4.275e+01, 4.280e+01,\n",
       "       4.285e+01, 4.286e+01, 4.290e+01, 4.295e+01, 4.300e+01, 4.320e+01,\n",
       "       4.325e+01, 4.330e+01, 4.335e+01, 4.340e+01, 4.350e+01, 4.360e+01,\n",
       "       4.365e+01, 4.370e+01, 4.380e+01, 4.400e+01, 4.405e+01, 4.410e+01,\n",
       "       4.420e+01, 4.425e+01, 4.430e+01, 4.440e+01, 4.450e+01, 4.455e+01,\n",
       "       4.460e+01, 4.462e+01, 4.465e+01, 4.475e+01, 4.480e+01, 4.485e+01,\n",
       "       4.490e+01, 4.497e+01, 4.500e+01, 4.505e+01, 4.509e+01, 4.510e+01,\n",
       "       4.520e+01, 4.524e+01, 4.535e+01, 4.540e+01, 4.545e+01, 4.550e+01,\n",
       "       4.560e+01, 4.570e+01, 4.575e+01, 4.590e+01, 4.600e+01, 4.610e+01,\n",
       "       4.620e+01, 4.625e+01])"
      ]
     },
     "execution_count": 121,
     "metadata": {},
     "output_type": "execute_result"
    }
   ],
   "source": [
    "safeload_order_details_df[col_to_check] = (\n",
    "    safeload_order_details_df[col_to_check]\n",
    "    .astype(float)          \n",
    "    .abs()                  \n",
    ")\n",
    "\n",
    "sorted_values_abs = np.sort(safeload_order_details_df[col_to_check].unique())\n",
    "sorted_values_abs[:500]"
   ]
  },
  {
   "cell_type": "code",
   "execution_count": 122,
   "id": "ca339472",
   "metadata": {},
   "outputs": [
    {
     "data": {
      "text/plain": [
       "<StringArray>\n",
       "['True', 'False']\n",
       "Length: 2, dtype: string"
      ]
     },
     "execution_count": 122,
     "metadata": {},
     "output_type": "execute_result"
    }
   ],
   "source": [
    "col_to_check = 'item.discount'\n",
    "safeload_order_details_df[col_to_check].unique()"
   ]
  },
  {
   "cell_type": "code",
   "execution_count": 123,
   "id": "e767781d",
   "metadata": {},
   "outputs": [
    {
     "data": {
      "text/plain": [
       "<StringArray>\n",
       "[                'rental~bike',                'hotel~coupon',\n",
       "                        'food',                  'experience',\n",
       "                'bundle~train',                   'transport',\n",
       "                     'service',                     'skipass',\n",
       "                    'giftcard',              'skipass~return',\n",
       "                   'itinerary',                   'insurance',\n",
       "               'bundle~travel',                      'lesson',\n",
       "                  'snowitcard',               'skipass~hotel',\n",
       "                       'hotel',                      'bundle',\n",
       "                      'rental',             'transport~ferry',\n",
       "                  'bundle~tab',                      'coupon',\n",
       "          'skipass~membership',                    'seasonal',\n",
       "           'experience~museum', 'skipass~membership-seasonal',\n",
       "             'voucher~skipass',             'skipass~dynamic',\n",
       "              'bundle~dynamic',                     'parking']\n",
       "Length: 30, dtype: string"
      ]
     },
     "execution_count": 123,
     "metadata": {},
     "output_type": "execute_result"
    }
   ],
   "source": [
    "col_to_check = 'product.type'\n",
    "safeload_order_details_df[col_to_check].unique()"
   ]
  },
  {
   "cell_type": "code",
   "execution_count": 124,
   "id": "c6cbf7e2",
   "metadata": {},
   "outputs": [
    {
     "data": {
      "text/plain": [
       "<StringArray>\n",
       "[                       'Bormio',           'Pontedilegno-Tonale',\n",
       "                  'Bardonecchia',                        'Italia',\n",
       "           'Desenzano del Garda',                 'Lago Maggiore',\n",
       "                  'Lago di Como',                              '',\n",
       "                   \"Lago d'Iseo\",      'Barzio - Piani di Bobbio',\n",
       " ...\n",
       "          'Gressoney-La-Trinité',                         'Badia',\n",
       "                      'Dobbiaco',                      'Tarvisio',\n",
       "                     'Sestriere',                  \"Sauze D'Oulx\",\n",
       " 'Valmalenco Bernina Ski Resort',           'Moggio - Artavaggio',\n",
       "                     'Schärding',                        'Snowit']\n",
       "Length: 151, dtype: string"
      ]
     },
     "execution_count": 124,
     "metadata": {},
     "output_type": "execute_result"
    }
   ],
   "source": [
    "col_to_check = 'item.zoneName'\n",
    "safeload_order_details_df[col_to_check].unique()"
   ]
  },
  {
   "cell_type": "code",
   "execution_count": 125,
   "id": "2c621489",
   "metadata": {},
   "outputs": [
    {
     "data": {
      "text/plain": [
       "<StringArray>\n",
       "['12.0', '', '4.0', '3.0', '1.0', '2.0', '5.0', '6.0', '8.0', '7.0']\n",
       "Length: 10, dtype: string"
      ]
     },
     "execution_count": 125,
     "metadata": {},
     "output_type": "execute_result"
    }
   ],
   "source": [
    "col_to_check = 'product.durationHours'\n",
    "safeload_order_details_df[col_to_check].unique()"
   ]
  },
  {
   "cell_type": "code",
   "execution_count": 126,
   "id": "823361ce",
   "metadata": {},
   "outputs": [
    {
     "data": {
      "text/plain": [
       "0     uhozpzih6zz0gb8vsnrl\n",
       "1                         \n",
       "2                         \n",
       "3                         \n",
       "4                         \n",
       "5                         \n",
       "6                         \n",
       "7                         \n",
       "8                         \n",
       "9                         \n",
       "10    8xhyvkzruc1g4d8zenik\n",
       "11                        \n",
       "12                        \n",
       "13                        \n",
       "14                        \n",
       "15                        \n",
       "16                        \n",
       "17                        \n",
       "18                        \n",
       "19                      _1\n",
       "20                      _1\n",
       "21                        \n",
       "22                        \n",
       "23                      _1\n",
       "24                      _1\n",
       "25                      _1\n",
       "26                      _1\n",
       "27                      _1\n",
       "28                      _1\n",
       "29                      _1\n",
       "30                        \n",
       "31                        \n",
       "32                        \n",
       "33    i96cld933twu3lpvuowy\n",
       "34    ddxdlztbtpzjllq8eykp\n",
       "35                        \n",
       "36                        \n",
       "37                      _1\n",
       "38                      _1\n",
       "39                      _1\n",
       "40                      _1\n",
       "41                        \n",
       "42                        \n",
       "43                        \n",
       "44                        \n",
       "45                        \n",
       "46                        \n",
       "47                      _1\n",
       "48                      _1\n",
       "49                      _1\n",
       "50    4988nzmxwnv6j03hgchq\n",
       "51                        \n",
       "52                        \n",
       "53                        \n",
       "54                        \n",
       "55                        \n",
       "56                        \n",
       "57                        \n",
       "58                        \n",
       "59                        \n",
       "Name: item.profiles, dtype: string"
      ]
     },
     "execution_count": 126,
     "metadata": {},
     "output_type": "execute_result"
    }
   ],
   "source": [
    "col_to_check = 'item.profiles'\n",
    "safeload_order_details_df[col_to_check].head(60)"
   ]
  },
  {
   "cell_type": "code",
   "execution_count": 127,
   "id": "89bd6c05",
   "metadata": {},
   "outputs": [
    {
     "data": {
      "text/plain": [
       "<StringArray>\n",
       "[                    'Rossignol Mandate Shift',\n",
       "                                            '',\n",
       "                   'Bottecchia 8avio Ultimate',\n",
       "                          '0.4583333333333333',\n",
       "                                      'Adulto',\n",
       "                         'Ragazzo (4-13 anni)',\n",
       "                    'Bottecchia BE38 Avok 900',\n",
       "               'Viaggio di 9 giorni e 8 notti',\n",
       "                         'Lezioni di kitesurf',\n",
       "                                        'Uomo',\n",
       " ...\n",
       " 'Overvolt AM 5.6 2022 Pomeriggio 14:00-18:00',\n",
       "                               'all track 27+',\n",
       "                  'Double-Triple Room Economy',\n",
       "             'Carnet degustazione - 7 assaggi',\n",
       "             'Carnet degustazione - 3 assaggi',\n",
       "                                    '1 adulto',\n",
       "                          'Pacchetto famiglia',\n",
       "      'Carnet degustazione - 7 assaggi + Tast',\n",
       "                                  '9:00-12:00',\n",
       "     'Lapierre Overvolt AM 5.5 Mezza Giornata']\n",
       "Length: 927, dtype: string"
      ]
     },
     "execution_count": 127,
     "metadata": {},
     "output_type": "execute_result"
    }
   ],
   "source": [
    "col_to_check = 'item.variantName'\n",
    "safeload_order_details_df[col_to_check].unique()"
   ]
  },
  {
   "cell_type": "code",
   "execution_count": 128,
   "id": "951634b1",
   "metadata": {},
   "outputs": [
    {
     "data": {
      "text/plain": [
       "<StringArray>\n",
       "[                                   'L',\n",
       "                                     '',\n",
       "                                   '58',\n",
       "                                  'LXL',\n",
       "                                    'M',\n",
       "                           'Intermedio',\n",
       "              'Posto in camerata mista',\n",
       "                                   '53',\n",
       "                                    'S',\n",
       "               'Posto in camera doppia',\n",
       " ...\n",
       " 'Entrance from 13:00 to 15:00 (Woman)',\n",
       "  'Entrance from 9:00 to 11:00 (Woman)',\n",
       "                          '14:30-16:30',\n",
       "                   'Trasporto autonomo',\n",
       "                          '14:00-16:30',\n",
       "                   'Partenza da Torino',\n",
       "                  'Partenza da Bergamo',\n",
       "                          '19:30-23:30',\n",
       "                                   'XS',\n",
       "                           '9:00-11:30']\n",
       "Length: 276, dtype: string"
      ]
     },
     "execution_count": 128,
     "metadata": {},
     "output_type": "execute_result"
    }
   ],
   "source": [
    "col_to_check = 'item.slotName'\n",
    "safeload_order_details_df[col_to_check].unique()"
   ]
  },
  {
   "cell_type": "code",
   "execution_count": 129,
   "id": "3ff66cbe",
   "metadata": {},
   "outputs": [
    {
     "data": {
      "text/plain": [
       "<StringArray>\n",
       "[         '', '4586597.0', '4586494.0', '4586520.0', '4586601.0', '4586438.0',\n",
       " '4586449.0', '4303271.0', '4303318.0', '6486093.0',\n",
       " ...\n",
       " '4789527.0', '7443947.0', '7443958.0', '4743417.0', '6357876.0', '6357072.0',\n",
       " '6357061.0',    '4145.0', '4687472.0', '1796685.0']\n",
       "Length: 221230, dtype: string"
      ]
     },
     "execution_count": 129,
     "metadata": {},
     "output_type": "execute_result"
    }
   ],
   "source": [
    "col_to_check = 'item.snowitcardNumber'\n",
    "safeload_order_details_df[col_to_check].unique()"
   ]
  },
  {
   "cell_type": "code",
   "execution_count": 130,
   "id": "f728ed86",
   "metadata": {},
   "outputs": [],
   "source": [
    "# Read and fix\n",
    "import numpy as np\n",
    "\n",
    "order_details_df = pd.read_csv(order_details_in_path,\n",
    "                       keep_default_na=False,\n",
    "                       na_values=NA_VALUES, # assign the ones previously defined\n",
    "                       dtype={\n",
    "                           'item.uid': 'string',\n",
    "                           'order.uid': 'string',\n",
    "                           'item.status': 'string',\n",
    "                           'item.date': 'string',\n",
    "                           'product.uid': 'string',\n",
    "                           'product.dynamicPricing': 'boolean',\n",
    "                           'item.amount': 'Float32',\n",
    "                           'item.discount': 'boolean',\n",
    "                           'product.type': 'string',\n",
    "                           'item.zoneName': 'string',\n",
    "                           'product.durationHours': 'Float32',\n",
    "                           'item.profiles': 'string',\n",
    "                           'item.variantName': 'string',\n",
    "                           'item.slotName': 'string',\n",
    "                           'item.snowitcardNumber': 'string',\n",
    "                       }\n",
    "                       )\n",
    "\n",
    "order_details_df['item.date'] = pd.to_datetime(order_details_df['item.date'])\n",
    "\n",
    "order_details_df['item.amount'] = (order_details_df['item.amount'].abs())"
   ]
  },
  {
   "cell_type": "code",
   "execution_count": 131,
   "id": "a39112ea",
   "metadata": {},
   "outputs": [
    {
     "data": {
      "text/html": [
       "<div>\n",
       "<style scoped>\n",
       "    .dataframe tbody tr th:only-of-type {\n",
       "        vertical-align: middle;\n",
       "    }\n",
       "\n",
       "    .dataframe tbody tr th {\n",
       "        vertical-align: top;\n",
       "    }\n",
       "\n",
       "    .dataframe thead th {\n",
       "        text-align: right;\n",
       "    }\n",
       "</style>\n",
       "<table border=\"1\" class=\"dataframe\">\n",
       "  <thead>\n",
       "    <tr style=\"text-align: right;\">\n",
       "      <th></th>\n",
       "      <th>num_rows</th>\n",
       "    </tr>\n",
       "    <tr>\n",
       "      <th>in_orders</th>\n",
       "      <th></th>\n",
       "    </tr>\n",
       "  </thead>\n",
       "  <tbody>\n",
       "    <tr>\n",
       "      <th>1.0</th>\n",
       "      <td>385168</td>\n",
       "    </tr>\n",
       "    <tr>\n",
       "      <th>NaN</th>\n",
       "      <td>164732</td>\n",
       "    </tr>\n",
       "  </tbody>\n",
       "</table>\n",
       "</div>"
      ],
      "text/plain": [
       "           num_rows\n",
       "in_orders          \n",
       "1.0          385168\n",
       "NaN          164732"
      ]
     },
     "execution_count": 131,
     "metadata": {},
     "output_type": "execute_result"
    }
   ],
   "source": [
    "# CHECK Foreign Key VALIDITY\n",
    "\n",
    "# SELECT\n",
    "#   A.order.uid,\n",
    "#   count(1) as num_rows\n",
    "# FROM \n",
    "#   (SELECT DISTINCT order.uid\n",
    "#   FROM order_details_df\n",
    "#   WHERE order.uid IS NOT NULL) AS A\n",
    "#   LEFT JOIN\n",
    "#   (SELECT order.uid, 1.0 AS in_orders\n",
    "#   FROM orders_df) AS B\n",
    "#   ON A.order.uid = B.order.uid\n",
    "# GROUP BY in_orders\n",
    "# HAVING num_rows > 1\n",
    "\n",
    "(order_details_df\n",
    " [['order.uid']]\n",
    " .loc[lambda tbl: tbl['order.uid'].notnull()]\n",
    " .drop_duplicates()\n",
    " .merge(orders_df[['order.uid']].assign(in_orders=1.0),\n",
    "        how='left',\n",
    "        on='order.uid'\n",
    "        )\n",
    " .assign(aux=1.0)\n",
    " .groupby(['in_orders'], dropna=False)\n",
    " .agg(num_rows=('aux', pd.Series.count))\n",
    " .loc[lambda tbl: tbl['num_rows'] > 1]\n",
    ")"
   ]
  },
  {
   "cell_type": "code",
   "execution_count": 132,
   "id": "17bb16d2",
   "metadata": {},
   "outputs": [],
   "source": [
    "# issue, I have 164732 detailed orders with an empty left join with the orders table\n",
    "# let's visualize these profiles"
   ]
  },
  {
   "cell_type": "code",
   "execution_count": 133,
   "id": "7a5236a7",
   "metadata": {},
   "outputs": [
    {
     "data": {
      "text/html": [
       "<div>\n",
       "<style scoped>\n",
       "    .dataframe tbody tr th:only-of-type {\n",
       "        vertical-align: middle;\n",
       "    }\n",
       "\n",
       "    .dataframe tbody tr th {\n",
       "        vertical-align: top;\n",
       "    }\n",
       "\n",
       "    .dataframe thead th {\n",
       "        text-align: right;\n",
       "    }\n",
       "</style>\n",
       "<table border=\"1\" class=\"dataframe\">\n",
       "  <thead>\n",
       "    <tr style=\"text-align: right;\">\n",
       "      <th></th>\n",
       "      <th>order.uid</th>\n",
       "      <th>in_orders</th>\n",
       "    </tr>\n",
       "  </thead>\n",
       "  <tbody>\n",
       "    <tr>\n",
       "      <th>1</th>\n",
       "      <td>termljwsr2gecnzwks</td>\n",
       "      <td>NaN</td>\n",
       "    </tr>\n",
       "    <tr>\n",
       "      <th>2</th>\n",
       "      <td>ko8axscf5grobnz9in</td>\n",
       "      <td>NaN</td>\n",
       "    </tr>\n",
       "    <tr>\n",
       "      <th>3</th>\n",
       "      <td>tu8b9haokkimu72aza</td>\n",
       "      <td>NaN</td>\n",
       "    </tr>\n",
       "    <tr>\n",
       "      <th>4</th>\n",
       "      <td>a8mvwuv6ileh9aqblu</td>\n",
       "      <td>NaN</td>\n",
       "    </tr>\n",
       "    <tr>\n",
       "      <th>5</th>\n",
       "      <td>kmwabdpnhtm46p8me8</td>\n",
       "      <td>NaN</td>\n",
       "    </tr>\n",
       "    <tr>\n",
       "      <th>...</th>\n",
       "      <td>...</td>\n",
       "      <td>...</td>\n",
       "    </tr>\n",
       "    <tr>\n",
       "      <th>549883</th>\n",
       "      <td>bjzuut5lvj76ad6jbp</td>\n",
       "      <td>NaN</td>\n",
       "    </tr>\n",
       "    <tr>\n",
       "      <th>549884</th>\n",
       "      <td>ur0t4p0hejetoesg3h</td>\n",
       "      <td>NaN</td>\n",
       "    </tr>\n",
       "    <tr>\n",
       "      <th>549886</th>\n",
       "      <td>3unzmjqzzmwgnbil56</td>\n",
       "      <td>NaN</td>\n",
       "    </tr>\n",
       "    <tr>\n",
       "      <th>549888</th>\n",
       "      <td>mhosjzeznativvqfnz</td>\n",
       "      <td>NaN</td>\n",
       "    </tr>\n",
       "    <tr>\n",
       "      <th>549894</th>\n",
       "      <td>v1obzy9nwp99nanhue</td>\n",
       "      <td>NaN</td>\n",
       "    </tr>\n",
       "  </tbody>\n",
       "</table>\n",
       "<p>164732 rows × 2 columns</p>\n",
       "</div>"
      ],
      "text/plain": [
       "                 order.uid  in_orders\n",
       "1       termljwsr2gecnzwks        NaN\n",
       "2       ko8axscf5grobnz9in        NaN\n",
       "3       tu8b9haokkimu72aza        NaN\n",
       "4       a8mvwuv6ileh9aqblu        NaN\n",
       "5       kmwabdpnhtm46p8me8        NaN\n",
       "...                    ...        ...\n",
       "549883  bjzuut5lvj76ad6jbp        NaN\n",
       "549884  ur0t4p0hejetoesg3h        NaN\n",
       "549886  3unzmjqzzmwgnbil56        NaN\n",
       "549888  mhosjzeznativvqfnz        NaN\n",
       "549894  v1obzy9nwp99nanhue        NaN\n",
       "\n",
       "[164732 rows x 2 columns]"
      ]
     },
     "execution_count": 133,
     "metadata": {},
     "output_type": "execute_result"
    }
   ],
   "source": [
    "# SELECT\n",
    "#   A.order.uid,\n",
    "#   count(1) as num_rows\n",
    "# FROM \n",
    "#   (SELECT DISTINCT order.uid\n",
    "#   FROM order_details_df\n",
    "#   WHERE order.uid IS NOT NULL) AS A\n",
    "#   LEFT JOIN\n",
    "#   (SELECT order.uid, 1.0 AS in_orders\n",
    "#   FROM orders_df) AS B\n",
    "#   ON A.order.uid = B.order.uid\n",
    "# WHERE\n",
    "#   in_orders IS NULL\n",
    "\n",
    "(order_details_df\n",
    " [['order.uid']]\n",
    " .loc[lambda tbl: tbl['order.uid'].notnull()]\n",
    " .drop_duplicates()\n",
    " .merge(orders_df[['order.uid']].assign(in_orders=1.0),\n",
    "        how='left',\n",
    "        on='order.uid'\n",
    "        )\n",
    " .loc[lambda tbl: tbl['in_orders'].isnull()]\n",
    ")"
   ]
  },
  {
   "cell_type": "code",
   "execution_count": 134,
   "id": "d4d2149b",
   "metadata": {},
   "outputs": [
    {
     "data": {
      "text/plain": [
       "1         termljwsr2gecnzwks\n",
       "2         ko8axscf5grobnz9in\n",
       "3         tu8b9haokkimu72aza\n",
       "4         a8mvwuv6ileh9aqblu\n",
       "5         kmwabdpnhtm46p8me8\n",
       "                 ...        \n",
       "549883    bjzuut5lvj76ad6jbp\n",
       "549884    ur0t4p0hejetoesg3h\n",
       "549886    3unzmjqzzmwgnbil56\n",
       "549888    mhosjzeznativvqfnz\n",
       "549894    v1obzy9nwp99nanhue\n",
       "Name: order.uid, Length: 164732, dtype: string"
      ]
     },
     "metadata": {},
     "output_type": "display_data"
    },
    {
     "data": {
      "text/html": [
       "<div>\n",
       "<style scoped>\n",
       "    .dataframe tbody tr th:only-of-type {\n",
       "        vertical-align: middle;\n",
       "    }\n",
       "\n",
       "    .dataframe tbody tr th {\n",
       "        vertical-align: top;\n",
       "    }\n",
       "\n",
       "    .dataframe thead th {\n",
       "        text-align: right;\n",
       "    }\n",
       "</style>\n",
       "<table border=\"1\" class=\"dataframe\">\n",
       "  <thead>\n",
       "    <tr style=\"text-align: right;\">\n",
       "      <th></th>\n",
       "      <th>item.uid</th>\n",
       "      <th>order.uid</th>\n",
       "      <th>item.date</th>\n",
       "      <th>product.uid</th>\n",
       "      <th>product.dynamicPricing</th>\n",
       "      <th>item.amount</th>\n",
       "      <th>item.discount</th>\n",
       "      <th>product.type</th>\n",
       "      <th>item.zoneName</th>\n",
       "      <th>product.durationHours</th>\n",
       "      <th>item.profiles</th>\n",
       "      <th>item.variantName</th>\n",
       "      <th>item.slotName</th>\n",
       "      <th>item.snowitcardNumber</th>\n",
       "      <th>item.status</th>\n",
       "    </tr>\n",
       "  </thead>\n",
       "  <tbody>\n",
       "    <tr>\n",
       "      <th>1</th>\n",
       "      <td>mmWAugpNnPVHRcePWiiH</td>\n",
       "      <td>termljwsr2gecnzwks</td>\n",
       "      <td>2024-12-27</td>\n",
       "      <td>form:PO9LFLX23J2024</td>\n",
       "      <td>False</td>\n",
       "      <td>0.0</td>\n",
       "      <td>False</td>\n",
       "      <td>hotel~coupon</td>\n",
       "      <td>Pontedilegno-Tonale</td>\n",
       "      <td>&lt;NA&gt;</td>\n",
       "      <td>&lt;NA&gt;</td>\n",
       "      <td>&lt;NA&gt;</td>\n",
       "      <td>&lt;NA&gt;</td>\n",
       "      <td>&lt;NA&gt;</td>\n",
       "      <td>fulfilled</td>\n",
       "    </tr>\n",
       "    <tr>\n",
       "      <th>2</th>\n",
       "      <td>bShIBhXedPkDTmZpmczI</td>\n",
       "      <td>ko8axscf5grobnz9in</td>\n",
       "      <td>2024-07-02</td>\n",
       "      <td>9oNSf7M6J7BNWakW2otU</td>\n",
       "      <td>False</td>\n",
       "      <td>26.0</td>\n",
       "      <td>False</td>\n",
       "      <td>food</td>\n",
       "      <td>Bardonecchia</td>\n",
       "      <td>4.0</td>\n",
       "      <td>&lt;NA&gt;</td>\n",
       "      <td>&lt;NA&gt;</td>\n",
       "      <td>&lt;NA&gt;</td>\n",
       "      <td>&lt;NA&gt;</td>\n",
       "      <td>canceled</td>\n",
       "    </tr>\n",
       "    <tr>\n",
       "      <th>3</th>\n",
       "      <td>axrCVxzH7eVW2EbaKHho</td>\n",
       "      <td>ko8axscf5grobnz9in</td>\n",
       "      <td>2024-07-02</td>\n",
       "      <td>9oNSf7M6J7BNWakW2otU</td>\n",
       "      <td>False</td>\n",
       "      <td>26.0</td>\n",
       "      <td>False</td>\n",
       "      <td>food</td>\n",
       "      <td>Bardonecchia</td>\n",
       "      <td>4.0</td>\n",
       "      <td>&lt;NA&gt;</td>\n",
       "      <td>&lt;NA&gt;</td>\n",
       "      <td>&lt;NA&gt;</td>\n",
       "      <td>&lt;NA&gt;</td>\n",
       "      <td>canceled</td>\n",
       "    </tr>\n",
       "    <tr>\n",
       "      <th>4</th>\n",
       "      <td>axrCVxzH7eVW2EbaKHho</td>\n",
       "      <td>ko8axscf5grobnz9in</td>\n",
       "      <td>2024-07-02</td>\n",
       "      <td>9oNSf7M6J7BNWakW2otU</td>\n",
       "      <td>False</td>\n",
       "      <td>26.0</td>\n",
       "      <td>False</td>\n",
       "      <td>food</td>\n",
       "      <td>Bardonecchia</td>\n",
       "      <td>4.0</td>\n",
       "      <td>&lt;NA&gt;</td>\n",
       "      <td>&lt;NA&gt;</td>\n",
       "      <td>&lt;NA&gt;</td>\n",
       "      <td>&lt;NA&gt;</td>\n",
       "      <td>transfer</td>\n",
       "    </tr>\n",
       "    <tr>\n",
       "      <th>5</th>\n",
       "      <td>4Neyeg0izzwue8RbJrPH</td>\n",
       "      <td>ko8axscf5grobnz9in</td>\n",
       "      <td>2024-07-02</td>\n",
       "      <td>9oNSf7M6J7BNWakW2otU</td>\n",
       "      <td>False</td>\n",
       "      <td>26.0</td>\n",
       "      <td>False</td>\n",
       "      <td>food</td>\n",
       "      <td>Bardonecchia</td>\n",
       "      <td>4.0</td>\n",
       "      <td>&lt;NA&gt;</td>\n",
       "      <td>&lt;NA&gt;</td>\n",
       "      <td>&lt;NA&gt;</td>\n",
       "      <td>&lt;NA&gt;</td>\n",
       "      <td>canceled</td>\n",
       "    </tr>\n",
       "    <tr>\n",
       "      <th>...</th>\n",
       "      <td>...</td>\n",
       "      <td>...</td>\n",
       "      <td>...</td>\n",
       "      <td>...</td>\n",
       "      <td>...</td>\n",
       "      <td>...</td>\n",
       "      <td>...</td>\n",
       "      <td>...</td>\n",
       "      <td>...</td>\n",
       "      <td>...</td>\n",
       "      <td>...</td>\n",
       "      <td>...</td>\n",
       "      <td>...</td>\n",
       "      <td>...</td>\n",
       "      <td>...</td>\n",
       "    </tr>\n",
       "    <tr>\n",
       "      <th>1420574</th>\n",
       "      <td>0NGCJGZ3NyfzdL5cXRI5</td>\n",
       "      <td>mhosjzeznativvqfnz</td>\n",
       "      <td>2022-07-03</td>\n",
       "      <td>1Ms1ktHDULulVrLvnCI3</td>\n",
       "      <td>False</td>\n",
       "      <td>5.0</td>\n",
       "      <td>False</td>\n",
       "      <td>skipass</td>\n",
       "      <td>Barzio - Piani di Bobbio</td>\n",
       "      <td>12.0</td>\n",
       "      <td>&lt;NA&gt;</td>\n",
       "      <td>&lt;NA&gt;</td>\n",
       "      <td>&lt;NA&gt;</td>\n",
       "      <td>&lt;NA&gt;</td>\n",
       "      <td>fulfilled</td>\n",
       "    </tr>\n",
       "    <tr>\n",
       "      <th>1420586</th>\n",
       "      <td>X2S1z1uv9T03UsDC4M53</td>\n",
       "      <td>v1obzy9nwp99nanhue</td>\n",
       "      <td>2022-07-27</td>\n",
       "      <td>30gOXuGs811l6EBBA83w</td>\n",
       "      <td>False</td>\n",
       "      <td>0.0</td>\n",
       "      <td>False</td>\n",
       "      <td>experience</td>\n",
       "      <td>Livigno</td>\n",
       "      <td>12.0</td>\n",
       "      <td>&lt;NA&gt;</td>\n",
       "      <td>&lt;NA&gt;</td>\n",
       "      <td>&lt;NA&gt;</td>\n",
       "      <td>&lt;NA&gt;</td>\n",
       "      <td>transfer</td>\n",
       "    </tr>\n",
       "    <tr>\n",
       "      <th>1420587</th>\n",
       "      <td>UfwVcrM34CNwe7VBGfjY</td>\n",
       "      <td>v1obzy9nwp99nanhue</td>\n",
       "      <td>2022-07-27</td>\n",
       "      <td>30gOXuGs811l6EBBA83w</td>\n",
       "      <td>False</td>\n",
       "      <td>0.0</td>\n",
       "      <td>False</td>\n",
       "      <td>experience</td>\n",
       "      <td>Livigno</td>\n",
       "      <td>12.0</td>\n",
       "      <td>&lt;NA&gt;</td>\n",
       "      <td>&lt;NA&gt;</td>\n",
       "      <td>&lt;NA&gt;</td>\n",
       "      <td>&lt;NA&gt;</td>\n",
       "      <td>canceled</td>\n",
       "    </tr>\n",
       "    <tr>\n",
       "      <th>1420588</th>\n",
       "      <td>UfwVcrM34CNwe7VBGfjY</td>\n",
       "      <td>v1obzy9nwp99nanhue</td>\n",
       "      <td>2022-07-27</td>\n",
       "      <td>30gOXuGs811l6EBBA83w</td>\n",
       "      <td>False</td>\n",
       "      <td>0.0</td>\n",
       "      <td>False</td>\n",
       "      <td>experience</td>\n",
       "      <td>Livigno</td>\n",
       "      <td>12.0</td>\n",
       "      <td>&lt;NA&gt;</td>\n",
       "      <td>&lt;NA&gt;</td>\n",
       "      <td>&lt;NA&gt;</td>\n",
       "      <td>&lt;NA&gt;</td>\n",
       "      <td>transfer</td>\n",
       "    </tr>\n",
       "    <tr>\n",
       "      <th>1420589</th>\n",
       "      <td>X2S1z1uv9T03UsDC4M53</td>\n",
       "      <td>v1obzy9nwp99nanhue</td>\n",
       "      <td>2022-07-27</td>\n",
       "      <td>30gOXuGs811l6EBBA83w</td>\n",
       "      <td>False</td>\n",
       "      <td>0.0</td>\n",
       "      <td>False</td>\n",
       "      <td>experience</td>\n",
       "      <td>Livigno</td>\n",
       "      <td>12.0</td>\n",
       "      <td>&lt;NA&gt;</td>\n",
       "      <td>&lt;NA&gt;</td>\n",
       "      <td>&lt;NA&gt;</td>\n",
       "      <td>&lt;NA&gt;</td>\n",
       "      <td>canceled</td>\n",
       "    </tr>\n",
       "  </tbody>\n",
       "</table>\n",
       "<p>427566 rows × 15 columns</p>\n",
       "</div>"
      ],
      "text/plain": [
       "                     item.uid           order.uid  item.date  \\\n",
       "1        mmWAugpNnPVHRcePWiiH  termljwsr2gecnzwks 2024-12-27   \n",
       "2        bShIBhXedPkDTmZpmczI  ko8axscf5grobnz9in 2024-07-02   \n",
       "3        axrCVxzH7eVW2EbaKHho  ko8axscf5grobnz9in 2024-07-02   \n",
       "4        axrCVxzH7eVW2EbaKHho  ko8axscf5grobnz9in 2024-07-02   \n",
       "5        4Neyeg0izzwue8RbJrPH  ko8axscf5grobnz9in 2024-07-02   \n",
       "...                       ...                 ...        ...   \n",
       "1420574  0NGCJGZ3NyfzdL5cXRI5  mhosjzeznativvqfnz 2022-07-03   \n",
       "1420586  X2S1z1uv9T03UsDC4M53  v1obzy9nwp99nanhue 2022-07-27   \n",
       "1420587  UfwVcrM34CNwe7VBGfjY  v1obzy9nwp99nanhue 2022-07-27   \n",
       "1420588  UfwVcrM34CNwe7VBGfjY  v1obzy9nwp99nanhue 2022-07-27   \n",
       "1420589  X2S1z1uv9T03UsDC4M53  v1obzy9nwp99nanhue 2022-07-27   \n",
       "\n",
       "                  product.uid  product.dynamicPricing  item.amount  \\\n",
       "1         form:PO9LFLX23J2024                   False          0.0   \n",
       "2        9oNSf7M6J7BNWakW2otU                   False         26.0   \n",
       "3        9oNSf7M6J7BNWakW2otU                   False         26.0   \n",
       "4        9oNSf7M6J7BNWakW2otU                   False         26.0   \n",
       "5        9oNSf7M6J7BNWakW2otU                   False         26.0   \n",
       "...                       ...                     ...          ...   \n",
       "1420574  1Ms1ktHDULulVrLvnCI3                   False          5.0   \n",
       "1420586  30gOXuGs811l6EBBA83w                   False          0.0   \n",
       "1420587  30gOXuGs811l6EBBA83w                   False          0.0   \n",
       "1420588  30gOXuGs811l6EBBA83w                   False          0.0   \n",
       "1420589  30gOXuGs811l6EBBA83w                   False          0.0   \n",
       "\n",
       "         item.discount  product.type             item.zoneName  \\\n",
       "1                False  hotel~coupon       Pontedilegno-Tonale   \n",
       "2                False          food              Bardonecchia   \n",
       "3                False          food              Bardonecchia   \n",
       "4                False          food              Bardonecchia   \n",
       "5                False          food              Bardonecchia   \n",
       "...                ...           ...                       ...   \n",
       "1420574          False       skipass  Barzio - Piani di Bobbio   \n",
       "1420586          False    experience                   Livigno   \n",
       "1420587          False    experience                   Livigno   \n",
       "1420588          False    experience                   Livigno   \n",
       "1420589          False    experience                   Livigno   \n",
       "\n",
       "         product.durationHours item.profiles item.variantName item.slotName  \\\n",
       "1                         <NA>          <NA>             <NA>          <NA>   \n",
       "2                          4.0          <NA>             <NA>          <NA>   \n",
       "3                          4.0          <NA>             <NA>          <NA>   \n",
       "4                          4.0          <NA>             <NA>          <NA>   \n",
       "5                          4.0          <NA>             <NA>          <NA>   \n",
       "...                        ...           ...              ...           ...   \n",
       "1420574                   12.0          <NA>             <NA>          <NA>   \n",
       "1420586                   12.0          <NA>             <NA>          <NA>   \n",
       "1420587                   12.0          <NA>             <NA>          <NA>   \n",
       "1420588                   12.0          <NA>             <NA>          <NA>   \n",
       "1420589                   12.0          <NA>             <NA>          <NA>   \n",
       "\n",
       "        item.snowitcardNumber item.status  \n",
       "1                        <NA>   fulfilled  \n",
       "2                        <NA>    canceled  \n",
       "3                        <NA>    canceled  \n",
       "4                        <NA>    transfer  \n",
       "5                        <NA>    canceled  \n",
       "...                       ...         ...  \n",
       "1420574                  <NA>   fulfilled  \n",
       "1420586                  <NA>    transfer  \n",
       "1420587                  <NA>    canceled  \n",
       "1420588                  <NA>    transfer  \n",
       "1420589                  <NA>    canceled  \n",
       "\n",
       "[427566 rows x 15 columns]"
      ]
     },
     "metadata": {},
     "output_type": "display_data"
    }
   ],
   "source": [
    "# from the table printed before I select just the column ['order.uid'],\n",
    "# those IDs without a correspondence in the orders_df\n",
    "\n",
    "order_fail_useruids = (order_details_df\n",
    "    [['order.uid']]\n",
    "    .loc[lambda tbl: tbl['order.uid'].notnull()]\n",
    "    .drop_duplicates()\n",
    "    .merge(orders_df[['order.uid']].assign(in_orders=1.0),\n",
    "            how='left',\n",
    "            on='order.uid'\n",
    "            )\n",
    "    .loc[lambda tbl: tbl['in_orders'].isnull()]\n",
    "    ['order.uid']\n",
    ")\n",
    "display(order_fail_useruids)\n",
    "\n",
    "# extract now the profiles with \"inconsistent\" 'user.uid'\n",
    "order_fail_useruid_df = order_details_df.loc[lambda tbl: tbl['order.uid'].isin(order_fail_useruids)]\n",
    "display(order_fail_useruid_df)"
   ]
  },
  {
   "cell_type": "code",
   "execution_count": 135,
   "id": "f95ea6df",
   "metadata": {},
   "outputs": [
    {
     "data": {
      "text/html": [
       "<div>\n",
       "<style scoped>\n",
       "    .dataframe tbody tr th:only-of-type {\n",
       "        vertical-align: middle;\n",
       "    }\n",
       "\n",
       "    .dataframe tbody tr th {\n",
       "        vertical-align: top;\n",
       "    }\n",
       "\n",
       "    .dataframe thead th {\n",
       "        text-align: right;\n",
       "    }\n",
       "</style>\n",
       "<table border=\"1\" class=\"dataframe\">\n",
       "  <thead>\n",
       "    <tr style=\"text-align: right;\">\n",
       "      <th></th>\n",
       "      <th>num_rows</th>\n",
       "    </tr>\n",
       "    <tr>\n",
       "      <th>in_orders</th>\n",
       "      <th></th>\n",
       "    </tr>\n",
       "  </thead>\n",
       "  <tbody>\n",
       "    <tr>\n",
       "      <th>1.0</th>\n",
       "      <td>385168</td>\n",
       "    </tr>\n",
       "  </tbody>\n",
       "</table>\n",
       "</div>"
      ],
      "text/plain": [
       "           num_rows\n",
       "in_orders          \n",
       "1.0          385168"
      ]
     },
     "metadata": {},
     "output_type": "display_data"
    }
   ],
   "source": [
    "# FIX Foreing Key ISSUE: remove them ! \n",
    "order_details_df.drop(list(order_fail_useruid_df.index), inplace=True)\n",
    "\n",
    "display(\n",
    "    order_details_df\n",
    "    [['order.uid']]\n",
    "    .loc[lambda tbl: tbl['order.uid'].notnull()]\n",
    "    .drop_duplicates()\n",
    "    .merge(orders_df[['order.uid']].assign(in_orders=1.0),\n",
    "            how='left',\n",
    "            on='order.uid'\n",
    "            )\n",
    "    .assign(aux=1.0)\n",
    "    .groupby(['in_orders'], dropna=False)\n",
    "    .agg(num_rows=('aux', pd.Series.count))\n",
    "    .loc[lambda tbl: tbl['num_rows'] > 1]\n",
    ")\n",
    "# now, as expected, I don't have null values after the left join"
   ]
  },
  {
   "cell_type": "code",
   "execution_count": 136,
   "id": "838f7903",
   "metadata": {},
   "outputs": [
    {
     "data": {
      "text/html": [
       "<div>\n",
       "<style scoped>\n",
       "    .dataframe tbody tr th:only-of-type {\n",
       "        vertical-align: middle;\n",
       "    }\n",
       "\n",
       "    .dataframe tbody tr th {\n",
       "        vertical-align: top;\n",
       "    }\n",
       "\n",
       "    .dataframe thead th {\n",
       "        text-align: right;\n",
       "    }\n",
       "</style>\n",
       "<table border=\"1\" class=\"dataframe\">\n",
       "  <thead>\n",
       "    <tr style=\"text-align: right;\">\n",
       "      <th></th>\n",
       "      <th>num_rows</th>\n",
       "    </tr>\n",
       "    <tr>\n",
       "      <th>in_profiles</th>\n",
       "      <th></th>\n",
       "    </tr>\n",
       "  </thead>\n",
       "  <tbody>\n",
       "    <tr>\n",
       "      <th>1.0</th>\n",
       "      <td>20189</td>\n",
       "    </tr>\n",
       "    <tr>\n",
       "      <th>NaN</th>\n",
       "      <td>374</td>\n",
       "    </tr>\n",
       "  </tbody>\n",
       "</table>\n",
       "</div>"
      ],
      "text/plain": [
       "             num_rows\n",
       "in_profiles          \n",
       "1.0             20189\n",
       "NaN               374"
      ]
     },
     "execution_count": 136,
     "metadata": {},
     "output_type": "execute_result"
    }
   ],
   "source": [
    "# CHECK Profiles VALIDITY\n",
    "\n",
    "# SELECT\n",
    "#   A.item.profiles,\n",
    "#   count(1) as num_rows\n",
    "# FROM \n",
    "#   (SELECT DISTINCT item.profiles\n",
    "#   FROM order_details_df\n",
    "#   WHERE item.profiles IS NOT NULL) AS A\n",
    "#   LEFT JOIN\n",
    "#   (SELECT profile.uid, 1.0 AS in_profiles\n",
    "#   FROM profiles_df) AS B\n",
    "#   ON A.item.profiles = B.profile.uid\n",
    "# GROUP BY in_profiles\n",
    "# HAVING num_rows > 1\n",
    "\n",
    "(order_details_df\n",
    " [['item.profiles']]\n",
    " .loc[lambda tbl: tbl['item.profiles'].notnull()]\n",
    " .drop_duplicates()\n",
    " .merge(profiles_df[['profile.uid']].assign(in_profiles=1.0),\n",
    "        how='left',\n",
    "        left_on='item.profiles',\n",
    "        right_on='profile.uid'\n",
    "        )\n",
    " .assign(aux=1.0)\n",
    " .groupby(['in_profiles'], dropna=False)\n",
    " .agg(num_rows=('aux', pd.Series.count))\n",
    " .loc[lambda tbl: tbl['num_rows'] > 1]\n",
    ")"
   ]
  },
  {
   "cell_type": "code",
   "execution_count": 137,
   "id": "74ac7707",
   "metadata": {},
   "outputs": [],
   "source": [
    "# issue, I have 374 detailed orders with an empty left join with the profiles table\n",
    "# let's visualize these profiles"
   ]
  },
  {
   "cell_type": "code",
   "execution_count": 138,
   "id": "dfbbecf8",
   "metadata": {},
   "outputs": [
    {
     "data": {
      "text/html": [
       "<div>\n",
       "<style scoped>\n",
       "    .dataframe tbody tr th:only-of-type {\n",
       "        vertical-align: middle;\n",
       "    }\n",
       "\n",
       "    .dataframe tbody tr th {\n",
       "        vertical-align: top;\n",
       "    }\n",
       "\n",
       "    .dataframe thead th {\n",
       "        text-align: right;\n",
       "    }\n",
       "</style>\n",
       "<table border=\"1\" class=\"dataframe\">\n",
       "  <thead>\n",
       "    <tr style=\"text-align: right;\">\n",
       "      <th></th>\n",
       "      <th>item.profiles</th>\n",
       "      <th>profile.uid</th>\n",
       "      <th>in_profiles</th>\n",
       "    </tr>\n",
       "  </thead>\n",
       "  <tbody>\n",
       "    <tr>\n",
       "      <th>1</th>\n",
       "      <td>_1</td>\n",
       "      <td>&lt;NA&gt;</td>\n",
       "      <td>NaN</td>\n",
       "    </tr>\n",
       "    <tr>\n",
       "      <th>5</th>\n",
       "      <td>_1;_2</td>\n",
       "      <td>&lt;NA&gt;</td>\n",
       "      <td>NaN</td>\n",
       "    </tr>\n",
       "    <tr>\n",
       "      <th>85</th>\n",
       "      <td>_1;_2;_3;_4</td>\n",
       "      <td>&lt;NA&gt;</td>\n",
       "      <td>NaN</td>\n",
       "    </tr>\n",
       "    <tr>\n",
       "      <th>97</th>\n",
       "      <td>muyejxsmorfojxxg1hlb;zkrsoiswdwunbosphcav</td>\n",
       "      <td>&lt;NA&gt;</td>\n",
       "      <td>NaN</td>\n",
       "    </tr>\n",
       "    <tr>\n",
       "      <th>109</th>\n",
       "      <td>_1;_2;_3</td>\n",
       "      <td>&lt;NA&gt;</td>\n",
       "      <td>NaN</td>\n",
       "    </tr>\n",
       "    <tr>\n",
       "      <th>...</th>\n",
       "      <td>...</td>\n",
       "      <td>...</td>\n",
       "      <td>...</td>\n",
       "    </tr>\n",
       "    <tr>\n",
       "      <th>20540</th>\n",
       "      <td>avrn9k3o2mu2fjy9acsh</td>\n",
       "      <td>&lt;NA&gt;</td>\n",
       "      <td>NaN</td>\n",
       "    </tr>\n",
       "    <tr>\n",
       "      <th>20541</th>\n",
       "      <td>wo45fqxde6igpavfqj2a</td>\n",
       "      <td>&lt;NA&gt;</td>\n",
       "      <td>NaN</td>\n",
       "    </tr>\n",
       "    <tr>\n",
       "      <th>20542</th>\n",
       "      <td>5ojsyocyu4nfqocvcim1</td>\n",
       "      <td>&lt;NA&gt;</td>\n",
       "      <td>NaN</td>\n",
       "    </tr>\n",
       "    <tr>\n",
       "      <th>20555</th>\n",
       "      <td>g5fxgajus6hxnouuqxv7;lwpc3d8rufleyqqpopqg</td>\n",
       "      <td>&lt;NA&gt;</td>\n",
       "      <td>NaN</td>\n",
       "    </tr>\n",
       "    <tr>\n",
       "      <th>20562</th>\n",
       "      <td>street</td>\n",
       "      <td>&lt;NA&gt;</td>\n",
       "      <td>NaN</td>\n",
       "    </tr>\n",
       "  </tbody>\n",
       "</table>\n",
       "<p>374 rows × 3 columns</p>\n",
       "</div>"
      ],
      "text/plain": [
       "                                   item.profiles profile.uid  in_profiles\n",
       "1                                             _1        <NA>          NaN\n",
       "5                                          _1;_2        <NA>          NaN\n",
       "85                                   _1;_2;_3;_4        <NA>          NaN\n",
       "97     muyejxsmorfojxxg1hlb;zkrsoiswdwunbosphcav        <NA>          NaN\n",
       "109                                     _1;_2;_3        <NA>          NaN\n",
       "...                                          ...         ...          ...\n",
       "20540                       avrn9k3o2mu2fjy9acsh        <NA>          NaN\n",
       "20541                       wo45fqxde6igpavfqj2a        <NA>          NaN\n",
       "20542                       5ojsyocyu4nfqocvcim1        <NA>          NaN\n",
       "20555  g5fxgajus6hxnouuqxv7;lwpc3d8rufleyqqpopqg        <NA>          NaN\n",
       "20562                                     street        <NA>          NaN\n",
       "\n",
       "[374 rows x 3 columns]"
      ]
     },
     "execution_count": 138,
     "metadata": {},
     "output_type": "execute_result"
    }
   ],
   "source": [
    "# SELECT\n",
    "#   A.item.profiles,\n",
    "#   count(1) as num_rows\n",
    "# FROM \n",
    "#   (SELECT DISTINCT  item.profiles\n",
    "#   FROM order_details_df\n",
    "#   WHERE item.profles IS NOT NULL) AS A\n",
    "#   LEFT JOIN\n",
    "#   (SELECT profile.uid, 1.0 AS in_profiles\n",
    "#   FROM profiles_df) AS B\n",
    "#   ON A.item.profiles = B.profile.uid\n",
    "# WHERE\n",
    "#   in_profiles IS NULL\n",
    "\n",
    "(order_details_df\n",
    " [['item.profiles']]\n",
    " .loc[lambda tbl: tbl['item.profiles'].notnull()]\n",
    " .drop_duplicates()\n",
    " .merge(profiles_df[['profile.uid']].assign(in_profiles=1.0),\n",
    "        how='left',\n",
    "        left_on='item.profiles',\n",
    "        right_on='profile.uid'\n",
    "        )\n",
    " .loc[lambda tbl: tbl['in_profiles'].isnull()]\n",
    ")"
   ]
  },
  {
   "cell_type": "code",
   "execution_count": 139,
   "id": "4c7d9095",
   "metadata": {},
   "outputs": [],
   "source": [
    "# for the time being, I decide to still keep these values since they could have information about sold products, even if not linked to a profile."
   ]
  },
  {
   "cell_type": "markdown",
   "id": "245c0472",
   "metadata": {},
   "source": [
    "## Load Reviews"
   ]
  },
  {
   "cell_type": "code",
   "execution_count": 140,
   "id": "da543371",
   "metadata": {},
   "outputs": [],
   "source": [
    "REVIEWS_IN_FILENAME = 'reviews.csv'\n",
    "REVIEWS_PKL_FILENAME = 'reviews.pkl'\n",
    "\n",
    "reviews_in_path = data_in_dir_path.joinpath(REVIEWS_IN_FILENAME) \n",
    "reviews_pkl_path = data_pkl_dir_path.joinpath(REVIEWS_PKL_FILENAME)"
   ]
  },
  {
   "cell_type": "code",
   "execution_count": 141,
   "id": "6fe228c7",
   "metadata": {},
   "outputs": [
    {
     "data": {
      "text/plain": [
       "Index(['review.uid', 'user.uid', 'text'], dtype='object')"
      ]
     },
     "execution_count": 141,
     "metadata": {},
     "output_type": "execute_result"
    }
   ],
   "source": [
    "safeload_reviews_df = pd.read_csv(reviews_in_path,\n",
    "                                        dtype='string',\n",
    "                                        na_values=[],\n",
    "                                        keep_default_na=False\n",
    "                                        )\n",
    "safeload_reviews_df.columns"
   ]
  },
  {
   "cell_type": "code",
   "execution_count": 142,
   "id": "48d79ef2",
   "metadata": {},
   "outputs": [
    {
     "data": {
      "text/plain": [
       "(105710, 3)"
      ]
     },
     "execution_count": 142,
     "metadata": {},
     "output_type": "execute_result"
    }
   ],
   "source": [
    "safeload_reviews_df.shape"
   ]
  },
  {
   "cell_type": "code",
   "execution_count": 143,
   "id": "4af130a0",
   "metadata": {},
   "outputs": [
    {
     "name": "stdout",
     "output_type": "stream",
     "text": [
      "(105710,)\n",
      "0\n",
      "0\n"
     ]
    }
   ],
   "source": [
    "print(safeload_reviews_df[\"review.uid\"].unique().shape)\n",
    "# I expect this number to be the same as the dimension of the shape, and that's what happens\n",
    "\n",
    "print(safeload_reviews_df[\"review.uid\"].isnull().sum())\n",
    "#I expect this number to be zero, and that's what happens\n",
    "\n",
    "print(safeload_reviews_df[\"review.uid\"].duplicated().sum())\n",
    "#I expect this number to be zero, and that's what happenS"
   ]
  },
  {
   "cell_type": "code",
   "execution_count": 144,
   "id": "2fe6c1e1",
   "metadata": {},
   "outputs": [
    {
     "name": "stdout",
     "output_type": "stream",
     "text": [
      "0\n",
      "(105710,)\n"
     ]
    }
   ],
   "source": [
    "print(safeload_reviews_df['user.uid'].isnull().sum())\n",
    "print(safeload_reviews_df[\"user.uid\"].unique().shape)\n",
    "# we have no user that has written more than one review"
   ]
  },
  {
   "cell_type": "code",
   "execution_count": 145,
   "id": "172da6f6",
   "metadata": {},
   "outputs": [
    {
     "name": "stdout",
     "output_type": "stream",
     "text": [
      "0\n",
      "(93429,)\n"
     ]
    }
   ],
   "source": [
    "print(safeload_reviews_df[\"text\"].isnull().sum())\n",
    "print(safeload_reviews_df[\"text\"].unique().shape)\n",
    "#we have someone that has written the same review text (the dimesion is lower than the shape)"
   ]
  },
  {
   "cell_type": "code",
   "execution_count": 146,
   "id": "9eb8c49d",
   "metadata": {},
   "outputs": [
    {
     "name": "stdout",
     "output_type": "stream",
     "text": [
      "<StringArray>\n",
      "['\"Bounty\" bars consist of a soft, almost molten center of sweet coconut coated in an outer layer of milk chocolate. You can easily buy them \"over the counter\" here in Australia. But if that\\'s not the case where you are, and you don\\'t mind a diet rich in junk food, then yes, this is a candy bar worth going to the trouble of ordering over the internet.<br /><br />Note that here on Amazon you can purchase bounty bars in boxes with varying numbers of bars inside, so it is worth your while to crunch the numbers and think about what package offers the best value for you. At the same time, it may not be entirely in the best interests of your health to have _too_ many of these things lying around at home all at once!<br /><br />Theo.', '\"Bounty\" bars consist of a soft, almost molten center of sweet coconut coated in an outer layer of milk chocolate. You can easily buy them \"over the counter\" here in Australia. But if that\\'s not the case where you are, and you don\\'t mind a diet rich in junk food, then yes, this is a candy bar worth going to the trouble of ordering over the internet.<br /><br />Note that here on Amazon you can purchase bounty bars in boxes with varying numbers of bars inside, so it is worth your while to crunch the numbers and think about what package offers the best value for you. At the same time, it may not be entirely in the best interests of your health to have _too_ many of these things lying around at home all at once!<br /><br />Theo.']\n",
      "Length: 2, dtype: string\n",
      "<StringArray>\n",
      "['\"Cherry Pie\" is certainly a misnomer, even to those not used to traditional sweetness. Yes, the first ingredient in (all) Larabars is dates, and here it\\'s very evident. Certainly a nutritious enough snack, but the cherries and almonds are pretty subtle and the flavor isn\\'t top-notch.<br />Apple Pie is tasty and available on clearance from Target quite often.<br />Chococonut Chew tastes like chocolatey dates, as evidenced by the coconut as the final ingredient and dates as the first. Almonds overpower your mouth and the taste.<br />Cashew Cookie tastes just like a solidified version of my homemade cashew butter; would not invest in such a thing. Overly salty and bland, and a pretty hideous thing, too.<br />Pecan Pie is alright but certainly not a buy-twice.<br />Same w/ PB Cookie, which tasted more of peanuts than anything resembling a PB cookie.<br />PB & J<br />Coconut Cream Pie is atrocious, tasting like coconut oil and absolutely no cream component.', '\"Cherry Pie\" is certainly a misnomer, even to those not used to traditional sweetness. Yes, the first ingredient in (all) Larabars is dates, and here it\\'s very evident. Certainly a nutritious enough snack, but the cherries and almonds are pretty subtle and the flavor isn\\'t top-notch.<br />Apple Pie is tasty and available on clearance from Target quite often.<br />Chococonut Chew tastes like chocolatey dates, as evidenced by the coconut as the final ingredient and dates as the first. Almonds overpower your mouth and the taste.<br />Cashew Cookie tastes just like a solidified version of my homemade cashew butter; would not invest in such a thing. Overly salty and bland, and a pretty hideous thing, too.<br />Pecan Pie is alright but certainly not a buy-twice.<br />Same w/ PB Cookie, which tasted more of peanuts than anything resembling a PB cookie.<br />PB & J<br />Coconut Cream Pie is atrocious, tasting like coconut oil and absolutely no cream component.']\n",
      "Length: 2, dtype: string\n",
      "<StringArray>\n",
      "['\"Corn Syrup Solids, Partially Hydrogenated Soybean Oil, Polysorbate 60\"<br /><br />It\\'s really good cocoa, and I make it every morning for my husband (he won\\'t drink coffee); we even bring it along on vacation so he can have it. I just wish that list of poisons above weren\\'t included.  I\\'ve suggested to Land-o-Lakes that they make a ... \"Sweet Nothings\" version or whatever they want to call it:  a *totally* unsweetened version, so we can add whatever sweetener we wish to add.<br /><br />The corn syrup is unhealthy in the extreme; the \\'partially hydrogenated\\' means trans fats (and soy is *not* healthy, contrary to the \"common\" \"wisdom\"), and the polysorbate has been shown in cosmetics to cause problems (and why is a cosmetics ingredient in a food item?!).<br /><br />That said (er... written), until someone comes up with a healthy product that tastes as good as this stuff does, he\\'s gonna keep drinking these poisons every morning. {sigh}', '\"Corn Syrup Solids, Partially Hydrogenated Soybean Oil, Polysorbate 60\"<br /><br />It\\'s really good cocoa, and I make it every morning for my husband (he won\\'t drink coffee); we even bring it along on vacation so he can have it. I just wish that list of poisons above weren\\'t included.  I\\'ve suggested to Land-o-Lakes that they make a ... \"Sweet Nothings\" version or whatever they want to call it:  a *totally* unsweetened version, so we can add whatever sweetener we wish to add.<br /><br />The corn syrup is unhealthy in the extreme; the \\'partially hydrogenated\\' means trans fats (and soy is *not* healthy, contrary to the \"common\" \"wisdom\"), and the polysorbate has been shown in cosmetics to cause problems (and why is a cosmetics ingredient in a food item?!).<br /><br />That said (er... written), until someone comes up with a healthy product that tastes as good as this stuff does, he\\'s gonna keep drinking these poisons every morning. {sigh}']\n",
      "Length: 2, dtype: string\n",
      "<StringArray>\n",
      "['\"I love them\"<br /><br />  - Winston the dog<br /><br />\"These are delicious\"<br /><br />  - Suzi the dog<br /><br />\"feh....not a reasonable substitute for tunafish\"<br /><br />  - Peke the cat', '\"I love them\"<br /><br />  - Winston the dog<br /><br />\"These are delicious\"<br /><br />  - Suzi the dog<br /><br />\"feh....not a reasonable substitute for tunafish\"<br /><br />  - Peke the cat']\n",
      "Length: 2, dtype: string\n",
      "<StringArray>\n",
      "['\"NOW\" brand stevia is the only pure stevia product I have seen on the market. I have been using it as a sweetner for drinks and baking for years. A quality product.', '\"NOW\" brand stevia is the only pure stevia product I have seen on the market. I have been using it as a sweetner for drinks and baking for years. A quality product.']\n",
      "Length: 2, dtype: string\n"
     ]
    }
   ],
   "source": [
    "# find duplicates in \"text\"\n",
    "duplicates = safeload_reviews_df[safeload_reviews_df.duplicated(subset=\"text\", keep=False)]\n",
    "\n",
    "# Print 5 couples\n",
    "groups = duplicates.groupby(\"text\")\n",
    "for i, (text, group) in enumerate(groups):\n",
    "    if i >= 5:  \n",
    "        break\n",
    "    print(group[\"text\"].values[:2])  # stampo le prime 2 occorrenze\n"
   ]
  },
  {
   "cell_type": "code",
   "execution_count": 147,
   "id": "c32b00cc",
   "metadata": {},
   "outputs": [
    {
     "data": {
      "text/plain": [
       "0"
      ]
     },
     "metadata": {},
     "output_type": "display_data"
    },
    {
     "data": {
      "text/html": [
       "<div>\n",
       "<style scoped>\n",
       "    .dataframe tbody tr th:only-of-type {\n",
       "        vertical-align: middle;\n",
       "    }\n",
       "\n",
       "    .dataframe tbody tr th {\n",
       "        vertical-align: top;\n",
       "    }\n",
       "\n",
       "    .dataframe thead th {\n",
       "        text-align: right;\n",
       "    }\n",
       "</style>\n",
       "<table border=\"1\" class=\"dataframe\">\n",
       "  <thead>\n",
       "    <tr style=\"text-align: right;\">\n",
       "      <th></th>\n",
       "      <th>num_rows</th>\n",
       "    </tr>\n",
       "    <tr>\n",
       "      <th>review.uid</th>\n",
       "      <th></th>\n",
       "    </tr>\n",
       "  </thead>\n",
       "  <tbody>\n",
       "  </tbody>\n",
       "</table>\n",
       "</div>"
      ],
      "text/plain": [
       "Empty DataFrame\n",
       "Columns: [num_rows]\n",
       "Index: []"
      ]
     },
     "metadata": {},
     "output_type": "display_data"
    },
    {
     "data": {
      "text/plain": [
       "0"
      ]
     },
     "metadata": {},
     "output_type": "display_data"
    }
   ],
   "source": [
    "reviews_df = pd.read_csv(reviews_in_path,\n",
    "                       keep_default_na=False,\n",
    "                       na_values=NA_VALUES,\n",
    "                       dtype={\n",
    "                           'review.uid': 'string',\n",
    "                           'user.uid': 'string',\n",
    "                           'text': 'string'\n",
    "                       }\n",
    "                       )\n",
    "\n",
    "reviews_df = reviews_df.drop_duplicates(subset=\"text\", keep=\"first\")\n",
    "reviews_df = reviews_df.reset_index(drop=True)\n",
    "\n",
    "# ------------------------------\n",
    "# CHECK PK VALIDITY: review.uid\n",
    "# ------------------------------\n",
    "\n",
    "#null check\n",
    "display(\n",
    "    reviews_df\n",
    "    .loc[lambda tbl: tbl['review.uid'].isnull()]\n",
    "    .assign(aux=1.0)\n",
    "    .shape[0]\n",
    ")\n",
    "\n",
    "\n",
    "# uniqueness check\n",
    "display(\n",
    "    reviews_df\n",
    "    .assign(aux=1.0)\n",
    "    .groupby(['review.uid'], dropna=False)\n",
    "    .agg(num_rows=('aux', pd.Series.count))\n",
    "    .loc[lambda tbl: tbl['num_rows'] > 1]\n",
    ")\n",
    "display(\n",
    "    reviews_df\n",
    "    .loc[lambda tbl: tbl['user.uid'].isnull()]\n",
    "    .assign(aux=1.0)\n",
    "    .shape[0]\n",
    ")"
   ]
  },
  {
   "cell_type": "code",
   "execution_count": 148,
   "id": "d7fb11db",
   "metadata": {},
   "outputs": [
    {
     "data": {
      "text/html": [
       "<div>\n",
       "<style scoped>\n",
       "    .dataframe tbody tr th:only-of-type {\n",
       "        vertical-align: middle;\n",
       "    }\n",
       "\n",
       "    .dataframe tbody tr th {\n",
       "        vertical-align: top;\n",
       "    }\n",
       "\n",
       "    .dataframe thead th {\n",
       "        text-align: right;\n",
       "    }\n",
       "</style>\n",
       "<table border=\"1\" class=\"dataframe\">\n",
       "  <thead>\n",
       "    <tr style=\"text-align: right;\">\n",
       "      <th></th>\n",
       "      <th>num_rows</th>\n",
       "    </tr>\n",
       "    <tr>\n",
       "      <th>in_users</th>\n",
       "      <th></th>\n",
       "    </tr>\n",
       "  </thead>\n",
       "  <tbody>\n",
       "    <tr>\n",
       "      <th>1.0</th>\n",
       "      <td>93429</td>\n",
       "    </tr>\n",
       "  </tbody>\n",
       "</table>\n",
       "</div>"
      ],
      "text/plain": [
       "          num_rows\n",
       "in_users          \n",
       "1.0          93429"
      ]
     },
     "execution_count": 148,
     "metadata": {},
     "output_type": "execute_result"
    }
   ],
   "source": [
    "# CHECK Foreign Key VALIDITY\n",
    "\n",
    "(reviews_df\n",
    " [['user.uid']]\n",
    " .loc[lambda tbl: tbl['user.uid'].notnull()]\n",
    " .drop_duplicates()\n",
    " .merge(users_df[['user.uid']].assign(in_users=1.0),\n",
    "        how='left',\n",
    "        on='user.uid'\n",
    "        )\n",
    " .assign(aux=1.0)\n",
    " .groupby(['in_users'], dropna=False)\n",
    " .agg(num_rows=('aux', pd.Series.count))\n",
    " .loc[lambda tbl: tbl['num_rows'] > 1]\n",
    ")"
   ]
  },
  {
   "cell_type": "markdown",
   "id": "d32ce35d",
   "metadata": {},
   "source": [
    "## Load Labelled Reviews"
   ]
  },
  {
   "cell_type": "code",
   "execution_count": 149,
   "id": "0fbf8938",
   "metadata": {},
   "outputs": [
    {
     "data": {
      "text/plain": [
       "Index(['labelled_review.uid', 'text', 'sentiment_label'], dtype='object')"
      ]
     },
     "execution_count": 149,
     "metadata": {},
     "output_type": "execute_result"
    }
   ],
   "source": [
    "REVIEWS_LABELLED_IN_FILENAME = 'reviews_labelled.csv'\n",
    "REVIEWS_LABELLED_PKL_FILENAME = 'reviews_labelled.pkl'\n",
    "\n",
    "reviews_labelled_in_path = data_in_dir_path.joinpath(REVIEWS_LABELLED_IN_FILENAME) \n",
    "reviews_labelled_pkl_path = data_pkl_dir_path.joinpath(REVIEWS_LABELLED_PKL_FILENAME)\n",
    "safeload_reviews_labelled_df = pd.read_csv(reviews_labelled_in_path,\n",
    "                                        dtype='string',\n",
    "                                        na_values=[],\n",
    "                                        keep_default_na=False\n",
    "                                        )\n",
    "safeload_reviews_labelled_df.columns"
   ]
  },
  {
   "cell_type": "code",
   "execution_count": 150,
   "id": "20f52839",
   "metadata": {},
   "outputs": [
    {
     "data": {
      "text/plain": [
       "(462744, 3)"
      ]
     },
     "execution_count": 150,
     "metadata": {},
     "output_type": "execute_result"
    }
   ],
   "source": [
    "safeload_reviews_labelled_df.shape"
   ]
  },
  {
   "cell_type": "code",
   "execution_count": 151,
   "id": "98f9a868",
   "metadata": {},
   "outputs": [
    {
     "name": "stdout",
     "output_type": "stream",
     "text": [
      "(462744,)\n",
      "0\n",
      "0\n"
     ]
    }
   ],
   "source": [
    "print(safeload_reviews_labelled_df[\"labelled_review.uid\"].unique().shape)\n",
    "# I expect this number to be the same as the dimension of the shape, and that's what happens\n",
    "\n",
    "print(safeload_reviews_labelled_df[\"labelled_review.uid\"].isnull().sum())\n",
    "#I expect this number to be zero, and that's what happens\n",
    "\n",
    "print(safeload_reviews_labelled_df[\"labelled_review.uid\"].duplicated().sum())\n",
    "#I expect this number to be zero, and that's what happenS"
   ]
  },
  {
   "cell_type": "code",
   "execution_count": 152,
   "id": "b0321ac4",
   "metadata": {},
   "outputs": [
    {
     "name": "stdout",
     "output_type": "stream",
     "text": [
      "0\n",
      "<StringArray>\n",
      "['neutral', 'positive', 'negative']\n",
      "Length: 3, dtype: string\n"
     ]
    }
   ],
   "source": [
    "print(safeload_reviews_labelled_df['sentiment_label'].isnull().sum())\n",
    "print(safeload_reviews_labelled_df['sentiment_label'].unique())"
   ]
  },
  {
   "cell_type": "code",
   "execution_count": 153,
   "id": "c92d7df8",
   "metadata": {},
   "outputs": [
    {
     "name": "stdout",
     "output_type": "stream",
     "text": [
      "0\n",
      "(327522,)\n"
     ]
    }
   ],
   "source": [
    "print(safeload_reviews_labelled_df[\"text\"].isnull().sum())\n",
    "print(safeload_reviews_labelled_df[\"text\"].unique().shape)"
   ]
  },
  {
   "cell_type": "code",
   "execution_count": 154,
   "id": "8e609eab",
   "metadata": {},
   "outputs": [
    {
     "name": "stdout",
     "output_type": "stream",
     "text": [
      "<StringArray>\n",
      "['\"4C Totally Light\" is one of the very few \"sugar free\" products of it\\'s type to use safer and better tasteing sucralose(Splenda) over Aspertame.<br /><br />Very tasty drink, especially when served over ice!', '\"4C Totally Light\" is one of the very few \"sugar free\" products of it\\'s type to use safer and better tasteing sucralose(Splenda) over Aspertame.<br /><br />Very tasty drink, especially when served over ice!']\n",
      "Length: 2, dtype: string\n",
      "<StringArray>\n",
      "['\"BUFFY\" LOOKS FORWARD TO HER \"TOY\" EVERY AFTERNOON.  MY BIGGEST FEAR IS RUNNING OUT OF REFILLS BEFORE I CAN ORDER AND RECEIVE MORE.', '\"BUFFY\" LOOKS FORWARD TO HER \"TOY\" EVERY AFTERNOON.  MY BIGGEST FEAR IS RUNNING OUT OF REFILLS BEFORE I CAN ORDER AND RECEIVE MORE.']\n",
      "Length: 2, dtype: string\n",
      "<StringArray>\n",
      "['\"Blends smooth and creamy for a sweet tasting protein\"  is in the item description. I don\\'t know who wrote this but they must not have ever smelled or tasted this stuff! Based on the description, I purchased a few of these bags. They come vacuum sealed. The color of the powder is a light olive green. The taste is a combination of powdered sawdust, wheatgrass and every dark green health food store drink you\\'ve ever had. The only reason it gave it a star at all is well, there\\'s no choice for zero, and it probably does have decent nutritional properties. But while forcing myself to drink this stuff, I got flashbacks from 3 years old when I was forced to eat spinach. The good news is Amazon refunded the cost of the purchase even though it\\'s a \"non-refundable\" product. You have to call them to do it. They didn\\'t even want me to send back the unopened bags! But I really want to return them. It seems a shame to have to throw them away.', '\"Blends smooth and creamy for a sweet tasting protein\"  is in the item description. I don\\'t know who wrote this but they must not have ever smelled or tasted this stuff! Based on the description, I purchased a few of these bags. They come vacuum sealed. The color of the powder is a light olive green. The taste is a combination of powdered sawdust, wheatgrass and every dark green health food store drink you\\'ve ever had. The only reason it gave it a star at all is well, there\\'s no choice for zero, and it probably does have decent nutritional properties. But while forcing myself to drink this stuff, I got flashbacks from 3 years old when I was forced to eat spinach. The good news is Amazon refunded the cost of the purchase even though it\\'s a \"non-refundable\" product. You have to call them to do it. They didn\\'t even want me to send back the unopened bags! But I really want to return them. It seems a shame to have to throw them away.']\n",
      "Length: 2, dtype: string\n",
      "<StringArray>\n",
      "['\"Both\" of Gloria Jean\\'s \"Hazelnut\" and \"Vanilla\" packs of 50 contained only \"49.\"  Does Gloria Jean\\'s have a fundamental packaging problem ??', '\"Both\" of Gloria Jean\\'s \"Hazelnut\" and \"Vanilla\" packs of 50 contained only \"49.\"  Does Gloria Jean\\'s have a fundamental packaging problem ??']\n",
      "Length: 2, dtype: string\n",
      "<StringArray>\n",
      "['\"Bounty\" bars consist of a soft, almost molten center of sweet coconut coated in an outer layer of milk chocolate. You can easily buy them \"over the counter\" here in Australia. But if that\\'s not the case where you are, and you don\\'t mind a diet rich in junk food, then yes, this is a candy bar worth going to the trouble of ordering over the internet.<br /><br />Note that here on Amazon you can purchase bounty bars in boxes with varying numbers of bars inside, so it is worth your while to crunch the numbers and think about what package offers the best value for you. At the same time, it may not be entirely in the best interests of your health to have _too_ many of these things lying around at home all at once!<br /><br />Theo.', '\"Bounty\" bars consist of a soft, almost molten center of sweet coconut coated in an outer layer of milk chocolate. You can easily buy them \"over the counter\" here in Australia. But if that\\'s not the case where you are, and you don\\'t mind a diet rich in junk food, then yes, this is a candy bar worth going to the trouble of ordering over the internet.<br /><br />Note that here on Amazon you can purchase bounty bars in boxes with varying numbers of bars inside, so it is worth your while to crunch the numbers and think about what package offers the best value for you. At the same time, it may not be entirely in the best interests of your health to have _too_ many of these things lying around at home all at once!<br /><br />Theo.']\n",
      "Length: 2, dtype: string\n"
     ]
    }
   ],
   "source": [
    "#we have someone that has written the same review text (the dimesion is lower than the shape)\n",
    "# find duplicates in \"text\"\n",
    "duplicates = safeload_reviews_labelled_df[safeload_reviews_labelled_df.duplicated(subset=\"text\", keep=False)]\n",
    "\n",
    "# Print 5 couples\n",
    "groups = duplicates.groupby(\"text\")\n",
    "for i, (text, group) in enumerate(groups):\n",
    "    if i >= 5:  \n",
    "        break\n",
    "    print(group[\"text\"].values[:2])  # stampo le prime 2 occorrenze"
   ]
  },
  {
   "cell_type": "code",
   "execution_count": 155,
   "id": "3773d9cf",
   "metadata": {},
   "outputs": [
    {
     "data": {
      "text/plain": [
       "0"
      ]
     },
     "metadata": {},
     "output_type": "display_data"
    }
   ],
   "source": [
    "reviews_labelled_df = pd.read_csv(reviews_labelled_in_path,\n",
    "                       keep_default_na=False,\n",
    "                       na_values=NA_VALUES,\n",
    "                       dtype={\n",
    "                           'labelled_review.uid': 'string',\n",
    "                           'text': 'string',\n",
    "                           'sentiment_label': 'string'\n",
    "                       }\n",
    "                       )\n",
    "\n",
    "reviews_labelled_df = reviews_labelled_df.drop_duplicates(subset=\"text\", keep=\"first\")\n",
    "reviews_labelled_df = reviews_labelled_df.reset_index(drop=True)\n",
    "\n",
    "\n",
    "# ------------------------------\n",
    "# CHECK PK VALIDITY: review.uid\n",
    "# ------------------------------\n",
    "\n",
    "#null check\n",
    "display(\n",
    "    reviews_labelled_df\n",
    "    .loc[lambda tbl: tbl['labelled_review.uid'].isnull()]\n",
    "    .assign(aux=1.0)\n",
    "    .shape[0]\n",
    ")"
   ]
  },
  {
   "cell_type": "markdown",
   "id": "2be1ef93",
   "metadata": {},
   "source": [
    "# Save"
   ]
  },
  {
   "cell_type": "code",
   "execution_count": 156,
   "id": "88cc55fc",
   "metadata": {},
   "outputs": [
    {
     "name": "stdout",
     "output_type": "stream",
     "text": [
      "Save users data in C:/Users/davyt/Desktop/Bicocca/Marketing Analytics/unimib_snowit_project/data_loaded/users.pkl\n",
      "Save profiles data in C:/Users/davyt/Desktop/Bicocca/Marketing Analytics/unimib_snowit_project/data_loaded/profiles.pkl\n",
      "Save cards data in C:/Users/davyt/Desktop/Bicocca/Marketing Analytics/unimib_snowit_project/data_loaded/cards.pkl\n",
      "Save orders data in C:/Users/davyt/Desktop/Bicocca/Marketing Analytics/unimib_snowit_project/data_loaded/orders.pkl\n",
      "Save order details data in C:/Users/davyt/Desktop/Bicocca/Marketing Analytics/unimib_snowit_project/data_loaded/order_details.pkl\n",
      "Save reviews data in C:/Users/davyt/Desktop/Bicocca/Marketing Analytics/unimib_snowit_project/data_loaded/reviews.pkl\n",
      "Save reviews labelled data in C:/Users/davyt/Desktop/Bicocca/Marketing Analytics/unimib_snowit_project/data_loaded/reviews_labelled.pkl\n"
     ]
    }
   ],
   "source": [
    "# Save Cleaned Dataset\n",
    "\n",
    "with users_pkl_path.open('wb') as fh:\n",
    "    dill.dump(users_df, fh)\n",
    "print(f\"Save users data in {users_pkl_path.as_posix()}\")\n",
    "\n",
    "with profiles_pkl_path.open('wb') as fh:\n",
    "    dill.dump(profiles_df, fh)\n",
    "print(f\"Save profiles data in {profiles_pkl_path.as_posix()}\")\n",
    "\n",
    "with cards_pkl_path.open('wb') as fh:\n",
    "    dill.dump(cards_df, fh)\n",
    "print(f\"Save cards data in {cards_pkl_path.as_posix()}\")\n",
    "\n",
    "with orders_pkl_path.open('wb') as fh:\n",
    "    dill.dump(orders_df, fh)\n",
    "print(f\"Save orders data in {orders_pkl_path.as_posix()}\")\n",
    "\n",
    "with order_details_pkl_path.open('wb') as fh:\n",
    "    dill.dump(order_details_df, fh)\n",
    "print(f\"Save order details data in {order_details_pkl_path.as_posix()}\")\n",
    "\n",
    "with reviews_pkl_path.open('wb') as fh:\n",
    "    dill.dump(reviews_df, fh)\n",
    "print(f\"Save reviews data in {reviews_pkl_path.as_posix()}\")\n",
    "\n",
    "with reviews_labelled_pkl_path.open('wb') as fh:\n",
    "    dill.dump(reviews_labelled_df, fh)\n",
    "print(f\"Save reviews labelled data in {reviews_labelled_pkl_path.as_posix()}\")"
   ]
  }
 ],
 "metadata": {
  "kernelspec": {
   "display_name": "MarketingAnalytics",
   "language": "python",
   "name": "python3"
  },
  "language_info": {
   "codemirror_mode": {
    "name": "ipython",
    "version": 3
   },
   "file_extension": ".py",
   "mimetype": "text/x-python",
   "name": "python",
   "nbconvert_exporter": "python",
   "pygments_lexer": "ipython3",
   "version": "3.12.9"
  }
 },
 "nbformat": 4,
 "nbformat_minor": 5
}
